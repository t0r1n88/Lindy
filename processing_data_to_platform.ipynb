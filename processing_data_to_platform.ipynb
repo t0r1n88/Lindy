{
 "cells": [
  {
   "cell_type": "code",
   "execution_count": 30,
   "id": "ddc72973",
   "metadata": {},
   "outputs": [],
   "source": [
    "import pandas as pd\n",
    "import numpy as np\n",
    "import openpyxl"
   ]
  },
  {
   "cell_type": "code",
   "execution_count": 47,
   "id": "ddb7e70e",
   "metadata": {},
   "outputs": [],
   "source": [
    "def processing_cell(cell:str):\n",
    "    \"\"\"\n",
    "    Функция для очистки от запятых и лишних пробелов\n",
    "    \"\"\"\n",
    "    # очищаем от пробелов в начале и конце\n",
    "    cell = cell.strip()\n",
    "    # очищаем от запятых\n",
    "    cell = cell.replace(',','')\n",
    "    # очищаем от лишних пробелов ха выглядит по колхозному\n",
    "    cell = cell.replace('  ',' ')\n",
    "    cell = cell.replace('   ',' ')\n",
    "    cell = cell.replace('    ',' ')\n",
    "    return cell"
   ]
  },
  {
   "cell_type": "code",
   "execution_count": 41,
   "id": "26737a82",
   "metadata": {},
   "outputs": [],
   "source": [
    "# Создаем датафрейм для описания помещения\n",
    "base_df = pd.read_excel('ЦПДЭ Электромонтаж.xlsx',sheet_name='Данные о помещении')\n",
    "#TODO Проверка на количество строк\n",
    "# Создаем датафрейм для оборудования\n",
    "base_equip_df = pd.read_excel('ЦПДЭ Электромонтаж.xlsx',sheet_name='Данные о оборудовании')\n",
    "# Создаем датафрейм для текущей номенклатуры\n",
    "base_current_nomenclature_df = pd.read_csv('Текущая номенклатура.csv',encoding='utf-8',sep=';')"
   ]
  },
  {
   "cell_type": "code",
   "execution_count": 32,
   "id": "b91daf39",
   "metadata": {},
   "outputs": [],
   "source": [
    "if base_df.shape[0] > 1:\n",
    "    print('Больше одной строки в на листе Данные о помещении')\n",
    "\n"
   ]
  },
  {
   "cell_type": "code",
   "execution_count": 33,
   "id": "8abd3d43",
   "metadata": {},
   "outputs": [],
   "source": [
    "# Создаем файл для загрузки данных  по помещению\n",
    "load_base_df = pd.DataFrame(columns=['Номер помещения/название площадки','Тип помещения/площадки','Компетенция','Профессия / Специальность','Площадь (кв.м)','Вместимость (человек) (int)','Демонстрационное оборудование (int 1/0)','Показывать в базе данных материально-технических ресурсов (int 1/0)'])"
   ]
  },
  {
   "cell_type": "code",
   "execution_count": 34,
   "id": "c351e124",
   "metadata": {},
   "outputs": [
    {
     "data": {
      "text/html": [
       "<div>\n",
       "<style scoped>\n",
       "    .dataframe tbody tr th:only-of-type {\n",
       "        vertical-align: middle;\n",
       "    }\n",
       "\n",
       "    .dataframe tbody tr th {\n",
       "        vertical-align: top;\n",
       "    }\n",
       "\n",
       "    .dataframe thead th {\n",
       "        text-align: right;\n",
       "    }\n",
       "</style>\n",
       "<table border=\"1\" class=\"dataframe\">\n",
       "  <thead>\n",
       "    <tr style=\"text-align: right;\">\n",
       "      <th></th>\n",
       "      <th>Номер помещения/название площадки</th>\n",
       "      <th>Тип помещения/площадки</th>\n",
       "      <th>Компетенция</th>\n",
       "      <th>Профессия / Специальность</th>\n",
       "      <th>Площадь (кв.м)</th>\n",
       "      <th>Вместимость (человек) (int)</th>\n",
       "      <th>Демонстрационное оборудование (int 1/0)</th>\n",
       "      <th>Показывать в базе данных материально-технических ресурсов (int 1/0)</th>\n",
       "    </tr>\n",
       "  </thead>\n",
       "  <tbody>\n",
       "  </tbody>\n",
       "</table>\n",
       "</div>"
      ],
      "text/plain": [
       "Empty DataFrame\n",
       "Columns: [Номер помещения/название площадки, Тип помещения/площадки, Компетенция, Профессия / Специальность, Площадь (кв.м), Вместимость (человек) (int), Демонстрационное оборудование (int 1/0), Показывать в базе данных материально-технических ресурсов (int 1/0)]\n",
       "Index: []"
      ]
     },
     "execution_count": 34,
     "metadata": {},
     "output_type": "execute_result"
    }
   ],
   "source": [
    "load_base_df\n"
   ]
  },
  {
   "cell_type": "code",
   "execution_count": 35,
   "id": "cd05b5bb",
   "metadata": {},
   "outputs": [],
   "source": [
    "load_base_df['Номер помещения/название площадки'] = base_df['Официальное название помещения']\n",
    "load_base_df['Тип помещения/площадки'] = base_df['Тип помещения']\n",
    "load_base_df['Компетенция'] = base_df['Компетенция']\n",
    "load_base_df['Профессия / Специальность'] = base_df['Профессии/специальности использующие помещение Перечислить через точку с запятой']\n",
    "load_base_df['Площадь (кв.м)'] = base_df['Площадь кв.м.']\n",
    "load_base_df['Вместимость (человек) (int)'] = base_df['Вместимость чел.']\n",
    "load_base_df['Демонстрационное оборудование (int 1/0)'] =base_df['Демонстрационное оборудование Да/Нет']\n",
    "load_base_df['Показывать в базе данных материально-технических ресурсов (int 1/0)'] = 1"
   ]
  },
  {
   "cell_type": "code",
   "execution_count": 36,
   "id": "def30229",
   "metadata": {},
   "outputs": [
    {
     "data": {
      "text/html": [
       "<div>\n",
       "<style scoped>\n",
       "    .dataframe tbody tr th:only-of-type {\n",
       "        vertical-align: middle;\n",
       "    }\n",
       "\n",
       "    .dataframe tbody tr th {\n",
       "        vertical-align: top;\n",
       "    }\n",
       "\n",
       "    .dataframe thead th {\n",
       "        text-align: right;\n",
       "    }\n",
       "</style>\n",
       "<table border=\"1\" class=\"dataframe\">\n",
       "  <thead>\n",
       "    <tr style=\"text-align: right;\">\n",
       "      <th></th>\n",
       "      <th>Номер помещения/название площадки</th>\n",
       "      <th>Тип помещения/площадки</th>\n",
       "      <th>Компетенция</th>\n",
       "      <th>Профессия / Специальность</th>\n",
       "      <th>Площадь (кв.м)</th>\n",
       "      <th>Вместимость (человек) (int)</th>\n",
       "      <th>Демонстрационное оборудование (int 1/0)</th>\n",
       "      <th>Показывать в базе данных материально-технических ресурсов (int 1/0)</th>\n",
       "    </tr>\n",
       "  </thead>\n",
       "  <tbody>\n",
       "    <tr>\n",
       "      <th>0</th>\n",
       "      <td>Центр проведения демонстрационного экзамена по...</td>\n",
       "      <td>Центр проведения демонстрационного экзамена</td>\n",
       "      <td>Электромонтаж</td>\n",
       "      <td>08.02.09 Монтаж, наладка и эксплуатация электр...</td>\n",
       "      <td>40</td>\n",
       "      <td>5</td>\n",
       "      <td>Да</td>\n",
       "      <td>1</td>\n",
       "    </tr>\n",
       "  </tbody>\n",
       "</table>\n",
       "</div>"
      ],
      "text/plain": [
       "                   Номер помещения/название площадки  \\\n",
       "0  Центр проведения демонстрационного экзамена по...   \n",
       "\n",
       "                        Тип помещения/площадки    Компетенция  \\\n",
       "0  Центр проведения демонстрационного экзамена  Электромонтаж   \n",
       "\n",
       "                           Профессия / Специальность  Площадь (кв.м)  \\\n",
       "0  08.02.09 Монтаж, наладка и эксплуатация электр...              40   \n",
       "\n",
       "   Вместимость (человек) (int) Демонстрационное оборудование (int 1/0)  \\\n",
       "0                            5                                      Да   \n",
       "\n",
       "   Показывать в базе данных материально-технических ресурсов (int 1/0)  \n",
       "0                                                  1                    "
      ]
     },
     "execution_count": 36,
     "metadata": {},
     "output_type": "execute_result"
    }
   ],
   "source": [
    "load_base_df"
   ]
  },
  {
   "cell_type": "code",
   "execution_count": 38,
   "id": "54cf70ba",
   "metadata": {},
   "outputs": [],
   "source": [
    "# Сохраняем как csv\n",
    "load_base_df.to_csv('Загрузка Данные по площадке.csv',encoding='cp1251',sep=';',index=False)"
   ]
  },
  {
   "cell_type": "code",
   "execution_count": 55,
   "id": "84f23375",
   "metadata": {},
   "outputs": [
    {
     "data": {
      "text/html": [
       "<div>\n",
       "<style scoped>\n",
       "    .dataframe tbody tr th:only-of-type {\n",
       "        vertical-align: middle;\n",
       "    }\n",
       "\n",
       "    .dataframe tbody tr th {\n",
       "        vertical-align: top;\n",
       "    }\n",
       "\n",
       "    .dataframe thead th {\n",
       "        text-align: right;\n",
       "    }\n",
       "</style>\n",
       "<table border=\"1\" class=\"dataframe\">\n",
       "  <thead>\n",
       "    <tr style=\"text-align: right;\">\n",
       "      <th></th>\n",
       "      <th>Наименование</th>\n",
       "      <th>Технические характеристики</th>\n",
       "      <th>Количество</th>\n",
       "      <th>Примечание</th>\n",
       "    </tr>\n",
       "  </thead>\n",
       "  <tbody>\n",
       "    <tr>\n",
       "      <th>0</th>\n",
       "      <td>Рабочая поверхность</td>\n",
       "      <td>Размеры : ДСП 18мм  2500х1500мм</td>\n",
       "      <td>5</td>\n",
       "      <td>NaN</td>\n",
       "    </tr>\n",
       "    <tr>\n",
       "      <th>1</th>\n",
       "      <td>Общее освещение</td>\n",
       "      <td>Г-1 300лк.</td>\n",
       "      <td>5</td>\n",
       "      <td>NaN</td>\n",
       "    </tr>\n",
       "    <tr>\n",
       "      <th>2</th>\n",
       "      <td>Освещение рабочей поверхности</td>\n",
       "      <td>Г-1 400лк.</td>\n",
       "      <td>5</td>\n",
       "      <td>NaN</td>\n",
       "    </tr>\n",
       "    <tr>\n",
       "      <th>3</th>\n",
       "      <td>Электроснабжение: 1 х U=380/220В, P= 1,0 кВт.</td>\n",
       "      <td>С защитой от КЗ, перегрузки, утечки, 1 х U=380...</td>\n",
       "      <td>5</td>\n",
       "      <td>NaN</td>\n",
       "    </tr>\n",
       "    <tr>\n",
       "      <th>4</th>\n",
       "      <td>Покрытие пола на посту участника</td>\n",
       "      <td>фанера 6 мм</td>\n",
       "      <td>5</td>\n",
       "      <td>NaN</td>\n",
       "    </tr>\n",
       "  </tbody>\n",
       "</table>\n",
       "</div>"
      ],
      "text/plain": [
       "                                    Наименование  \\\n",
       "0                            Рабочая поверхность   \n",
       "1                                Общее освещение   \n",
       "2                  Освещение рабочей поверхности   \n",
       "3  Электроснабжение: 1 х U=380/220В, P= 1,0 кВт.   \n",
       "4               Покрытие пола на посту участника   \n",
       "\n",
       "                          Технические характеристики  Количество  Примечание  \n",
       "0                    Размеры : ДСП 18мм  2500х1500мм           5         NaN  \n",
       "1                                         Г-1 300лк.           5         NaN  \n",
       "2                                         Г-1 400лк.           5         NaN  \n",
       "3  С защитой от КЗ, перегрузки, утечки, 1 х U=380...           5         NaN  \n",
       "4                                        фанера 6 мм           5         NaN  "
      ]
     },
     "execution_count": 55,
     "metadata": {},
     "output_type": "execute_result"
    }
   ],
   "source": [
    "base_equip_df.head()"
   ]
  },
  {
   "cell_type": "code",
   "execution_count": 48,
   "id": "3d88e5d8",
   "metadata": {},
   "outputs": [],
   "source": [
    "current_nomenclature_df  = base_current_nomenclature_df['Наименование оборудования/инструмента'].apply(processing_cell) "
   ]
  },
  {
   "cell_type": "code",
   "execution_count": 67,
   "id": "c5769db3",
   "metadata": {},
   "outputs": [],
   "source": [
    "# Очищаем от дубликатов\n",
    "current_nomenclature_df.drop_duplicates(inplace=True)"
   ]
  },
  {
   "cell_type": "code",
   "execution_count": 68,
   "id": "38deea79",
   "metadata": {},
   "outputs": [],
   "source": [
    "current_nomenclature_df = current_nomenclature_df.to_frame()"
   ]
  },
  {
   "cell_type": "code",
   "execution_count": 69,
   "id": "1d3d0223",
   "metadata": {},
   "outputs": [
    {
     "data": {
      "text/html": [
       "<div>\n",
       "<style scoped>\n",
       "    .dataframe tbody tr th:only-of-type {\n",
       "        vertical-align: middle;\n",
       "    }\n",
       "\n",
       "    .dataframe tbody tr th {\n",
       "        vertical-align: top;\n",
       "    }\n",
       "\n",
       "    .dataframe thead th {\n",
       "        text-align: right;\n",
       "    }\n",
       "</style>\n",
       "<table border=\"1\" class=\"dataframe\">\n",
       "  <thead>\n",
       "    <tr style=\"text-align: right;\">\n",
       "      <th></th>\n",
       "      <th>Наименование оборудования/инструмента</th>\n",
       "    </tr>\n",
       "  </thead>\n",
       "  <tbody>\n",
       "    <tr>\n",
       "      <th>0</th>\n",
       "      <td>РУЧНОЙ СЕГМЕНТНЫЙ ЛИСТОГИБ PBB 1520/1.5</td>\n",
       "    </tr>\n",
       "    <tr>\n",
       "      <th>1</th>\n",
       "      <td>Станок сверлильный</td>\n",
       "    </tr>\n",
       "    <tr>\n",
       "      <th>2</th>\n",
       "      <td>Тележка инструментальная Практик WDS-0 S302990...</td>\n",
       "    </tr>\n",
       "    <tr>\n",
       "      <th>3</th>\n",
       "      <td>Точильный станок</td>\n",
       "    </tr>\n",
       "    <tr>\n",
       "      <th>4</th>\n",
       "      <td>3D принтер</td>\n",
       "    </tr>\n",
       "    <tr>\n",
       "      <th>...</th>\n",
       "      <td>...</td>\n",
       "    </tr>\n",
       "    <tr>\n",
       "      <th>334</th>\n",
       "      <td>Электроснабжение: 1 х U=380/220В</td>\n",
       "    </tr>\n",
       "    <tr>\n",
       "      <th>335</th>\n",
       "      <td>Электроснабжение: 1 х U=380/220В P= 1 0 кВт.</td>\n",
       "    </tr>\n",
       "    <tr>\n",
       "      <th>337</th>\n",
       "      <td>Ярунок</td>\n",
       "    </tr>\n",
       "    <tr>\n",
       "      <th>338</th>\n",
       "      <td>Ящик для инструмента</td>\n",
       "    </tr>\n",
       "    <tr>\n",
       "      <th>339</th>\n",
       "      <td>Ящик для материалов (пластиковый короб)</td>\n",
       "    </tr>\n",
       "  </tbody>\n",
       "</table>\n",
       "<p>331 rows × 1 columns</p>\n",
       "</div>"
      ],
      "text/plain": [
       "                 Наименование оборудования/инструмента\n",
       "0              РУЧНОЙ СЕГМЕНТНЫЙ ЛИСТОГИБ PBB 1520/1.5\n",
       "1                                   Станок сверлильный\n",
       "2    Тележка инструментальная Практик WDS-0 S302990...\n",
       "3                                     Точильный станок\n",
       "4                                           3D принтер\n",
       "..                                                 ...\n",
       "334                   Электроснабжение: 1 х U=380/220В\n",
       "335       Электроснабжение: 1 х U=380/220В P= 1 0 кВт.\n",
       "337                                             Ярунок\n",
       "338                               Ящик для инструмента\n",
       "339            Ящик для материалов (пластиковый короб)\n",
       "\n",
       "[331 rows x 1 columns]"
      ]
     },
     "execution_count": 69,
     "metadata": {},
     "output_type": "execute_result"
    }
   ],
   "source": [
    "current_nomenclature_df"
   ]
  },
  {
   "cell_type": "code",
   "execution_count": 70,
   "id": "b37fcda0",
   "metadata": {},
   "outputs": [],
   "source": [
    "# Готовим новую номенклатуру\n",
    "new_nomenclature_df = base_equip_df['Наименование'].apply(processing_cell)\n",
    "# Очищаем от дубликатов\n",
    "new_nomenclature_df.drop_duplicates(inplace=True)\n",
    "new_nomenclature_df= new_nomenclature_df.to_frame()"
   ]
  },
  {
   "cell_type": "code",
   "execution_count": 71,
   "id": "44bf035a",
   "metadata": {},
   "outputs": [
    {
     "data": {
      "text/html": [
       "<div>\n",
       "<style scoped>\n",
       "    .dataframe tbody tr th:only-of-type {\n",
       "        vertical-align: middle;\n",
       "    }\n",
       "\n",
       "    .dataframe tbody tr th {\n",
       "        vertical-align: top;\n",
       "    }\n",
       "\n",
       "    .dataframe thead th {\n",
       "        text-align: right;\n",
       "    }\n",
       "</style>\n",
       "<table border=\"1\" class=\"dataframe\">\n",
       "  <thead>\n",
       "    <tr style=\"text-align: right;\">\n",
       "      <th></th>\n",
       "      <th>Наименование</th>\n",
       "    </tr>\n",
       "  </thead>\n",
       "  <tbody>\n",
       "    <tr>\n",
       "      <th>0</th>\n",
       "      <td>Рабочая поверхность</td>\n",
       "    </tr>\n",
       "    <tr>\n",
       "      <th>1</th>\n",
       "      <td>Общее освещение</td>\n",
       "    </tr>\n",
       "    <tr>\n",
       "      <th>2</th>\n",
       "      <td>Освещение рабочей поверхности</td>\n",
       "    </tr>\n",
       "    <tr>\n",
       "      <th>3</th>\n",
       "      <td>Электроснабжение: 1 х U=380/220В P= 10 кВт.</td>\n",
       "    </tr>\n",
       "    <tr>\n",
       "      <th>4</th>\n",
       "      <td>Покрытие пола на посту участника</td>\n",
       "    </tr>\n",
       "    <tr>\n",
       "      <th>...</th>\n",
       "      <td>...</td>\n",
       "    </tr>\n",
       "    <tr>\n",
       "      <th>102</th>\n",
       "      <td>Стеллаж металлический сборный (разборный) ТС 3...</td>\n",
       "    </tr>\n",
       "    <tr>\n",
       "      <th>103</th>\n",
       "      <td>Комплект инструментов</td>\n",
       "    </tr>\n",
       "    <tr>\n",
       "      <th>106</th>\n",
       "      <td>Нож канцелярский + запас лезвий</td>\n",
       "    </tr>\n",
       "    <tr>\n",
       "      <th>107</th>\n",
       "      <td>Ножницы</td>\n",
       "    </tr>\n",
       "    <tr>\n",
       "      <th>108</th>\n",
       "      <td>Флипчарт с бумагой</td>\n",
       "    </tr>\n",
       "  </tbody>\n",
       "</table>\n",
       "<p>72 rows × 1 columns</p>\n",
       "</div>"
      ],
      "text/plain": [
       "                                          Наименование\n",
       "0                                  Рабочая поверхность\n",
       "1                                      Общее освещение\n",
       "2                        Освещение рабочей поверхности\n",
       "3          Электроснабжение: 1 х U=380/220В P= 10 кВт.\n",
       "4                     Покрытие пола на посту участника\n",
       "..                                                 ...\n",
       "102  Стеллаж металлический сборный (разборный) ТС 3...\n",
       "103                              Комплект инструментов\n",
       "106                    Нож канцелярский + запас лезвий\n",
       "107                                            Ножницы\n",
       "108                                 Флипчарт с бумагой\n",
       "\n",
       "[72 rows x 1 columns]"
      ]
     },
     "execution_count": 71,
     "metadata": {},
     "output_type": "execute_result"
    }
   ],
   "source": [
    "\n",
    "new_nomenclature_df"
   ]
  },
  {
   "cell_type": "code",
   "execution_count": null,
   "id": "f3df6c84",
   "metadata": {},
   "outputs": [],
   "source": [
    "# Определяем новые значения в номенклатуре\n",
    "unique_nomenclature_df = pd.merge(new_nomenclature_df,current_nomenclature_df,how='outer',left_on='Наименование',right_on)"
   ]
  },
  {
   "cell_type": "code",
   "execution_count": null,
   "id": "1e5f873d",
   "metadata": {},
   "outputs": [],
   "source": []
  },
  {
   "cell_type": "code",
   "execution_count": null,
   "id": "c4946149",
   "metadata": {},
   "outputs": [],
   "source": []
  },
  {
   "cell_type": "code",
   "execution_count": null,
   "id": "52f40046",
   "metadata": {},
   "outputs": [],
   "source": []
  },
  {
   "cell_type": "code",
   "execution_count": null,
   "id": "80564e0b",
   "metadata": {},
   "outputs": [],
   "source": []
  },
  {
   "cell_type": "code",
   "execution_count": null,
   "id": "ee97e509",
   "metadata": {},
   "outputs": [],
   "source": []
  },
  {
   "cell_type": "code",
   "execution_count": null,
   "id": "eb64a8a2",
   "metadata": {},
   "outputs": [],
   "source": []
  }
 ],
 "metadata": {
  "kernelspec": {
   "display_name": "Python 3 (ipykernel)",
   "language": "python",
   "name": "python3"
  },
  "language_info": {
   "codemirror_mode": {
    "name": "ipython",
    "version": 3
   },
   "file_extension": ".py",
   "mimetype": "text/x-python",
   "name": "python",
   "nbconvert_exporter": "python",
   "pygments_lexer": "ipython3",
   "version": "3.9.7"
  }
 },
 "nbformat": 4,
 "nbformat_minor": 5
}
