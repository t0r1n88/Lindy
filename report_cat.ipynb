{
 "cells": [
  {
   "cell_type": "code",
   "execution_count": 87,
   "id": "82bb6d4a",
   "metadata": {},
   "outputs": [],
   "source": [
    "import pandas as pd\n",
    "import openpyxl\n",
    "from openpyxl.utils.dataframe import dataframe_to_rows\n",
    "from openpyxl.styles import Font\n",
    "from openpyxl.styles import Alignment\n",
    "import time\n",
    "import datetime\n",
    "from datetime import date"
   ]
  },
  {
   "cell_type": "code",
   "execution_count": 88,
   "id": "43d76b31",
   "metadata": {},
   "outputs": [],
   "source": [
    "name_file_data_report = 'Общая таблица слушателей ЦОПП от 18_03_22.xlsx'\n",
    "path_to_end_folder_report ='data'"
   ]
  },
  {
   "cell_type": "code",
   "execution_count": 89,
   "id": "a840d187",
   "metadata": {},
   "outputs": [],
   "source": [
    "dpo_df = pd.read_excel(name_file_data_report,sheet_name='ДПО')\n",
    "po_df = pd.read_excel(name_file_data_report,sheet_name='ПО')"
   ]
  },
  {
   "cell_type": "code",
   "execution_count": 90,
   "id": "7974a7ad",
   "metadata": {},
   "outputs": [],
   "source": [
    "dpo_df['for_counting'] = 1\n",
    "po_df['for_counting'] = 1"
   ]
  },
  {
   "cell_type": "code",
   "execution_count": 91,
   "id": "cb70d79e",
   "metadata": {},
   "outputs": [
    {
     "data": {
      "text/plain": [
       "<Worksheet \"Госзадание\">"
      ]
     },
     "execution_count": 91,
     "metadata": {},
     "output_type": "execute_result"
    }
   ],
   "source": [
    "# Создаем файл excel\n",
    "wb = openpyxl.Workbook()\n",
    "# Создаем листы \n",
    "wb.create_sheet(title='Индикаторы',index=0)\n",
    "wb.create_sheet(title='Госзадание',index=1)"
   ]
  },
  {
   "cell_type": "code",
   "execution_count": 92,
   "id": "6c71fc43",
   "metadata": {},
   "outputs": [],
   "source": [
    "#Считаем индикаторы\n",
    "# Создаем базовый датафрейм\n",
    "base_df = pd.DataFrame(index=['программы профессиональных модулей для среднего профессионального образования','программам для обучающихся общеобразовательных организаций',\n",
    "                              'программы под заказ работодателей','отраслевые программы','программы для граждан предпенсионного возраста','программы по компетенциям будущего, включая компетенции цифровой экономики'])"
   ]
  },
  {
   "cell_type": "code",
   "execution_count": 93,
   "id": "799af984",
   "metadata": {},
   "outputs": [],
   "source": [
    "# Отбираем нужные колонки\n",
    "dpo_choice = dpo_df[['for_counting','Индикатор','Месяц_окончания_курса']]\n",
    "po_choice = po_df[['for_counting','Индикатор','Месяц_окончания_курса']]"
   ]
  },
  {
   "cell_type": "code",
   "execution_count": 94,
   "id": "0030b99f",
   "metadata": {},
   "outputs": [],
   "source": [
    "# Объединяем в единый датафрейм\n",
    "indicator_df = pd.concat([dpo_choice,po_choice],ignore_index=True)"
   ]
  },
  {
   "cell_type": "code",
   "execution_count": 96,
   "id": "a712bf4d",
   "metadata": {},
   "outputs": [],
   "source": [
    "for i in range(1,13):\n",
    "    temp_df = indicator_df[indicator_df['Месяц_окончания_курса']==i]\n",
    "    temp_group = temp_df.groupby(['Индикатор']).agg({'for_counting':sum})\n",
    "    base_df = pd.concat([base_df,temp_group],axis=1)\n",
    "    "
   ]
  },
  {
   "cell_type": "code",
   "execution_count": 98,
   "id": "015e64e3",
   "metadata": {},
   "outputs": [],
   "source": [
    "# Меняем названия колонок\n",
    "base_df.columns = ['январь','февраль','март','апрель','май','июнь','июль','август','сентябрь','октябрь','ноябрь','декабрь']"
   ]
  },
  {
   "cell_type": "code",
   "execution_count": 99,
   "id": "9812a453",
   "metadata": {},
   "outputs": [],
   "source": [
    "# Сохраняем на лист\n",
    "for r in dataframe_to_rows(base_df,index =True,header=True):\n",
    "    if len(r) != 1:\n",
    "        wb['Индикаторы'].append(r)"
   ]
  },
  {
   "cell_type": "code",
   "execution_count": 100,
   "id": "15eede57",
   "metadata": {},
   "outputs": [],
   "source": [
    "wb['Индикаторы'].column_dimensions['A'].width = 50"
   ]
  },
  {
   "cell_type": "code",
   "execution_count": 102,
   "id": "ab583fc2",
   "metadata": {},
   "outputs": [
    {
     "data": {
      "text/html": [
       "<div>\n",
       "<style scoped>\n",
       "    .dataframe tbody tr th:only-of-type {\n",
       "        vertical-align: middle;\n",
       "    }\n",
       "\n",
       "    .dataframe tbody tr th {\n",
       "        vertical-align: top;\n",
       "    }\n",
       "\n",
       "    .dataframe thead th {\n",
       "        text-align: right;\n",
       "    }\n",
       "</style>\n",
       "<table border=\"1\" class=\"dataframe\">\n",
       "  <thead>\n",
       "    <tr style=\"text-align: right;\">\n",
       "      <th></th>\n",
       "      <th>январь</th>\n",
       "      <th>февраль</th>\n",
       "      <th>март</th>\n",
       "      <th>апрель</th>\n",
       "      <th>май</th>\n",
       "      <th>июнь</th>\n",
       "      <th>июль</th>\n",
       "      <th>август</th>\n",
       "      <th>сентябрь</th>\n",
       "      <th>октябрь</th>\n",
       "      <th>ноябрь</th>\n",
       "      <th>декабрь</th>\n",
       "    </tr>\n",
       "  </thead>\n",
       "  <tbody>\n",
       "    <tr>\n",
       "      <th>программы профессиональных модулей для среднего профессионального образования</th>\n",
       "      <td>NaN</td>\n",
       "      <td>35.0</td>\n",
       "      <td>NaN</td>\n",
       "      <td>NaN</td>\n",
       "      <td>NaN</td>\n",
       "      <td>NaN</td>\n",
       "      <td>NaN</td>\n",
       "      <td>NaN</td>\n",
       "      <td>NaN</td>\n",
       "      <td>NaN</td>\n",
       "      <td>NaN</td>\n",
       "      <td>NaN</td>\n",
       "    </tr>\n",
       "    <tr>\n",
       "      <th>программам для обучающихся общеобразовательных организаций</th>\n",
       "      <td>NaN</td>\n",
       "      <td>NaN</td>\n",
       "      <td>NaN</td>\n",
       "      <td>NaN</td>\n",
       "      <td>NaN</td>\n",
       "      <td>NaN</td>\n",
       "      <td>NaN</td>\n",
       "      <td>NaN</td>\n",
       "      <td>NaN</td>\n",
       "      <td>NaN</td>\n",
       "      <td>NaN</td>\n",
       "      <td>NaN</td>\n",
       "    </tr>\n",
       "    <tr>\n",
       "      <th>программы под заказ работодателей</th>\n",
       "      <td>NaN</td>\n",
       "      <td>10.0</td>\n",
       "      <td>NaN</td>\n",
       "      <td>NaN</td>\n",
       "      <td>NaN</td>\n",
       "      <td>NaN</td>\n",
       "      <td>NaN</td>\n",
       "      <td>NaN</td>\n",
       "      <td>NaN</td>\n",
       "      <td>NaN</td>\n",
       "      <td>NaN</td>\n",
       "      <td>NaN</td>\n",
       "    </tr>\n",
       "    <tr>\n",
       "      <th>отраслевые программы</th>\n",
       "      <td>24.0</td>\n",
       "      <td>38.0</td>\n",
       "      <td>NaN</td>\n",
       "      <td>NaN</td>\n",
       "      <td>NaN</td>\n",
       "      <td>NaN</td>\n",
       "      <td>NaN</td>\n",
       "      <td>NaN</td>\n",
       "      <td>NaN</td>\n",
       "      <td>NaN</td>\n",
       "      <td>NaN</td>\n",
       "      <td>NaN</td>\n",
       "    </tr>\n",
       "    <tr>\n",
       "      <th>программы для граждан предпенсионного возраста</th>\n",
       "      <td>NaN</td>\n",
       "      <td>NaN</td>\n",
       "      <td>NaN</td>\n",
       "      <td>NaN</td>\n",
       "      <td>NaN</td>\n",
       "      <td>NaN</td>\n",
       "      <td>NaN</td>\n",
       "      <td>NaN</td>\n",
       "      <td>NaN</td>\n",
       "      <td>NaN</td>\n",
       "      <td>NaN</td>\n",
       "      <td>NaN</td>\n",
       "    </tr>\n",
       "    <tr>\n",
       "      <th>программы по компетенциям будущего, включая компетенции цифровой экономики</th>\n",
       "      <td>NaN</td>\n",
       "      <td>NaN</td>\n",
       "      <td>NaN</td>\n",
       "      <td>NaN</td>\n",
       "      <td>NaN</td>\n",
       "      <td>NaN</td>\n",
       "      <td>NaN</td>\n",
       "      <td>NaN</td>\n",
       "      <td>NaN</td>\n",
       "      <td>NaN</td>\n",
       "      <td>NaN</td>\n",
       "      <td>NaN</td>\n",
       "    </tr>\n",
       "  </tbody>\n",
       "</table>\n",
       "</div>"
      ],
      "text/plain": [
       "                                                    январь  февраль  март  \\\n",
       "программы профессиональных модулей для среднего...     NaN     35.0   NaN   \n",
       "программам для обучающихся общеобразовательных ...     NaN      NaN   NaN   \n",
       "программы под заказ работодателей                      NaN     10.0   NaN   \n",
       "отраслевые программы                                  24.0     38.0   NaN   \n",
       "программы для граждан предпенсионного возраста         NaN      NaN   NaN   \n",
       "программы по компетенциям будущего, включая ком...     NaN      NaN   NaN   \n",
       "\n",
       "                                                    апрель  май  июнь  июль  \\\n",
       "программы профессиональных модулей для среднего...     NaN  NaN   NaN   NaN   \n",
       "программам для обучающихся общеобразовательных ...     NaN  NaN   NaN   NaN   \n",
       "программы под заказ работодателей                      NaN  NaN   NaN   NaN   \n",
       "отраслевые программы                                   NaN  NaN   NaN   NaN   \n",
       "программы для граждан предпенсионного возраста         NaN  NaN   NaN   NaN   \n",
       "программы по компетенциям будущего, включая ком...     NaN  NaN   NaN   NaN   \n",
       "\n",
       "                                                    август  сентябрь  октябрь  \\\n",
       "программы профессиональных модулей для среднего...     NaN       NaN      NaN   \n",
       "программам для обучающихся общеобразовательных ...     NaN       NaN      NaN   \n",
       "программы под заказ работодателей                      NaN       NaN      NaN   \n",
       "отраслевые программы                                   NaN       NaN      NaN   \n",
       "программы для граждан предпенсионного возраста         NaN       NaN      NaN   \n",
       "программы по компетенциям будущего, включая ком...     NaN       NaN      NaN   \n",
       "\n",
       "                                                    ноябрь  декабрь  \n",
       "программы профессиональных модулей для среднего...     NaN      NaN  \n",
       "программам для обучающихся общеобразовательных ...     NaN      NaN  \n",
       "программы под заказ работодателей                      NaN      NaN  \n",
       "отраслевые программы                                   NaN      NaN  \n",
       "программы для граждан предпенсионного возраста         NaN      NaN  \n",
       "программы по компетенциям будущего, включая ком...     NaN      NaN  "
      ]
     },
     "execution_count": 102,
     "metadata": {},
     "output_type": "execute_result"
    }
   ],
   "source": [
    "base_df"
   ]
  },
  {
   "cell_type": "code",
   "execution_count": 101,
   "id": "b765d47b",
   "metadata": {},
   "outputs": [],
   "source": [
    " # Получаем текущее время для того чтобы использовать в названии\n",
    "t = time.localtime()\n",
    "current_time = time.strftime('%H_%M_%S', t)\n",
    "# Сохраняем итоговый файл\n",
    "wb.save(f'{path_to_end_folder_report}/Отчет по индикаторам и госзданию {current_time}.xlsx')"
   ]
  }
 ],
 "metadata": {
  "kernelspec": {
   "display_name": "Python 3 (ipykernel)",
   "language": "python",
   "name": "python3"
  },
  "language_info": {
   "codemirror_mode": {
    "name": "ipython",
    "version": 3
   },
   "file_extension": ".py",
   "mimetype": "text/x-python",
   "name": "python",
   "nbconvert_exporter": "python",
   "pygments_lexer": "ipython3",
   "version": "3.9.7"
  }
 },
 "nbformat": 4,
 "nbformat_minor": 5
}
