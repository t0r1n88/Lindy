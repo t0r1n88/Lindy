{
 "cells": [
  {
   "cell_type": "code",
   "execution_count": 690,
   "id": "f4d54a2a",
   "metadata": {},
   "outputs": [
    {
     "data": {
      "text/plain": [
       "'\\nскрипт для генерации рабочих программ ПО\\n'"
      ]
     },
     "execution_count": 690,
     "metadata": {},
     "output_type": "execute_result"
    }
   ],
   "source": [
    "\"\"\"\n",
    "скрипт для генерации рабочих программ ПО\n",
    "\"\"\""
   ]
  },
  {
   "cell_type": "code",
   "execution_count": 691,
   "id": "d2a90dea",
   "metadata": {},
   "outputs": [],
   "source": [
    "import tkinter\n",
    "import numpy as np\n",
    "import sys\n",
    "import pandas as pd\n",
    "import os\n",
    "from docxtpl import DocxTemplate\n",
    "from tkinter import *\n",
    "from tkinter import filedialog\n",
    "from tkinter import messagebox\n",
    "from tkinter import ttk\n",
    "import openpyxl\n",
    "import time\n",
    "import datetime\n",
    "pd.options.mode.chained_assignment = None  # default='warn'\n",
    "import warnings\n",
    "warnings.filterwarnings('ignore', category=UserWarning, module='openpyxl')\n",
    "\n",
    "warnings.filterwarnings('ignore', category=DeprecationWarning)\n",
    "warnings.filterwarnings('ignore', category=FutureWarning)"
   ]
  },
  {
   "cell_type": "code",
   "execution_count": 692,
   "id": "d0375194",
   "metadata": {},
   "outputs": [],
   "source": [
    "def convert_to_int(cell):\n",
    "    \"\"\"\n",
    "    Метод для проверки значения ячейки\n",
    "    :param cell: значение ячейки\n",
    "    :return: число в формате int\n",
    "    \"\"\"\n",
    "    if cell is np.nan:\n",
    "        return 0\n",
    "    if cell.isdigit():\n",
    "        return int(cell)\n",
    "    else:\n",
    "        return 0"
   ]
  },
  {
   "cell_type": "code",
   "execution_count": null,
   "id": "2d69d979",
   "metadata": {},
   "outputs": [],
   "source": []
  },
  {
   "cell_type": "code",
   "execution_count": 693,
   "id": "498a3080",
   "metadata": {},
   "outputs": [],
   "source": [
    "def convert_date(cell):\n",
    "    \"\"\"\n",
    "    Функция для конвертации даты в формате 1957-05-10 в формат 10.05.1957(строковый)\n",
    "    \"\"\"\n",
    "\n",
    "    try:\n",
    "        string_date = datetime.datetime.strftime(cell, '%d.%m.%Y')\n",
    "        return string_date\n",
    "    except:\n",
    "        return 'Проверьте правильность написания даты. Пример правильного написания - 02.04.2023'\n"
   ]
  },
  {
   "cell_type": "code",
   "execution_count": 694,
   "id": "2487f0c0",
   "metadata": {},
   "outputs": [],
   "source": [
    "name_file_template_educ_program_po = 'data/Автошаблон_ПО_ЦОПП_25072023.docx'\n",
    "path_to_end_folder_obraz_program_po = 'data'\n",
    "name_file_data_obraz_program_po = 'data/Для_автозаполнения_ОП_ПО_25072023.xlsx'"
   ]
  },
  {
   "cell_type": "code",
   "execution_count": 695,
   "id": "f69fca23",
   "metadata": {},
   "outputs": [],
   "source": [
    "# Открываем файл\n",
    "wb = openpyxl.load_workbook(name_file_data_obraz_program_po)"
   ]
  },
  {
   "cell_type": "code",
   "execution_count": 696,
   "id": "d67e3bbc",
   "metadata": {},
   "outputs": [],
   "source": [
    "name_sheet_up=wb.sheetnames[0] # получаем название листа с учебным планом\n",
    "name_sheet_data = wb.sheetnames[1] # получаем название листа с данными программы"
   ]
  },
  {
   "cell_type": "raw",
   "id": "9bc15515",
   "metadata": {},
   "source": [
    "1) Ищем на какой строке находится ИТОГО\n",
    "2) Мы знаем что там должно быть 7 колонок"
   ]
  },
  {
   "cell_type": "code",
   "execution_count": 697,
   "id": "fb6ee3c8",
   "metadata": {},
   "outputs": [],
   "source": [
    "target_value = 'ИТОГО'\n",
    "\n",
    "# Поиск значения в выбранном столбце\n",
    "column_number = 1  # Номер столбца, в котором ищем значение (например, столбец A)\n",
    "target_row = None  # Номер строки с искомым значением\n",
    "\n",
    "for row in wb[name_sheet_up].iter_rows(min_row=1, min_col=column_number, max_col=column_number):\n",
    "    cell_value = row[0].value\n",
    "    if cell_value == target_value:\n",
    "        target_row = row[0].row\n",
    "        break\n",
    "\n",
    "        \n"
   ]
  },
  {
   "cell_type": "code",
   "execution_count": 698,
   "id": "8fcd068f",
   "metadata": {},
   "outputs": [],
   "source": [
    "if not target_row:\n",
    "    print('В первой колонке отсутствует слово ИТОГО!!!')\n",
    "\n",
    "# если значение найдено то считываем нужное количество строк и  7 колонок\n",
    "df_up = pd.read_excel(name_file_data_obraz_program_po,sheet_name=name_sheet_up,nrows=target_row,usecols='A:G',dtype=str)\n",
    "    "
   ]
  },
  {
   "cell_type": "code",
   "execution_count": 699,
   "id": "77449cb7",
   "metadata": {},
   "outputs": [],
   "source": [
    "df_up.iloc[:,1:6] = df_up.iloc[:,1:6].applymap(convert_to_int) #1) Приводим к инту колонки 2-6 "
   ]
  },
  {
   "cell_type": "code",
   "execution_count": 700,
   "id": "c34fe234",
   "metadata": {},
   "outputs": [],
   "source": [
    "# Заполняем возможные пустые строки\n",
    "df_up['Наименование_раздела'] = df_up['Наименование_раздела'].fillna('Не заполнено название раздела')\n",
    "# Очищаем от возможнных пробелов \n",
    "df_up['Наименование_раздела'] = df_up['Наименование_раздела'].apply(lambda x:x.strip())"
   ]
  },
  {
   "cell_type": "code",
   "execution_count": 701,
   "id": "16a30938",
   "metadata": {},
   "outputs": [
    {
     "data": {
      "text/html": [
       "<div>\n",
       "<style scoped>\n",
       "    .dataframe tbody tr th:only-of-type {\n",
       "        vertical-align: middle;\n",
       "    }\n",
       "\n",
       "    .dataframe tbody tr th {\n",
       "        vertical-align: top;\n",
       "    }\n",
       "\n",
       "    .dataframe thead th {\n",
       "        text-align: right;\n",
       "    }\n",
       "</style>\n",
       "<table border=\"1\" class=\"dataframe\">\n",
       "  <thead>\n",
       "    <tr style=\"text-align: right;\">\n",
       "      <th></th>\n",
       "      <th>Наименование_раздела</th>\n",
       "      <th>Трудоемкость</th>\n",
       "      <th>Теоретич_час</th>\n",
       "      <th>Практич_час</th>\n",
       "      <th>Практика_час</th>\n",
       "      <th>СРС_час</th>\n",
       "      <th>Форма_контроля</th>\n",
       "    </tr>\n",
       "  </thead>\n",
       "  <tbody>\n",
       "    <tr>\n",
       "      <th>0</th>\n",
       "      <td>Нормативно-правовые основы деятельности по обе...</td>\n",
       "      <td>4</td>\n",
       "      <td>4</td>\n",
       "      <td>0</td>\n",
       "      <td>0</td>\n",
       "      <td>0</td>\n",
       "      <td>х</td>\n",
       "    </tr>\n",
       "    <tr>\n",
       "      <th>1</th>\n",
       "      <td>Первая помощь</td>\n",
       "      <td>22</td>\n",
       "      <td>8</td>\n",
       "      <td>14</td>\n",
       "      <td>0</td>\n",
       "      <td>0</td>\n",
       "      <td>х</td>\n",
       "    </tr>\n",
       "    <tr>\n",
       "      <th>2</th>\n",
       "      <td>Специальная подготовка</td>\n",
       "      <td>24</td>\n",
       "      <td>24</td>\n",
       "      <td>0</td>\n",
       "      <td>0</td>\n",
       "      <td>0</td>\n",
       "      <td>Зачет</td>\n",
       "    </tr>\n",
       "    <tr>\n",
       "      <th>3</th>\n",
       "      <td>Отработка практических приемов и способов поис...</td>\n",
       "      <td>16</td>\n",
       "      <td>0</td>\n",
       "      <td>16</td>\n",
       "      <td>0</td>\n",
       "      <td>0</td>\n",
       "      <td>Экзамен</td>\n",
       "    </tr>\n",
       "    <tr>\n",
       "      <th>4</th>\n",
       "      <td>Итоговая аттестация</td>\n",
       "      <td>8</td>\n",
       "      <td>0</td>\n",
       "      <td>2</td>\n",
       "      <td>6</td>\n",
       "      <td>0</td>\n",
       "      <td>Квалификационный экзамен</td>\n",
       "    </tr>\n",
       "    <tr>\n",
       "      <th>5</th>\n",
       "      <td>ИТОГО</td>\n",
       "      <td>74</td>\n",
       "      <td>36</td>\n",
       "      <td>32</td>\n",
       "      <td>6</td>\n",
       "      <td>0</td>\n",
       "      <td>х</td>\n",
       "    </tr>\n",
       "  </tbody>\n",
       "</table>\n",
       "</div>"
      ],
      "text/plain": [
       "                                Наименование_раздела Трудоемкость  \\\n",
       "0  Нормативно-правовые основы деятельности по обе...            4   \n",
       "1                                      Первая помощь           22   \n",
       "2                             Специальная подготовка           24   \n",
       "3  Отработка практических приемов и способов поис...           16   \n",
       "4                                Итоговая аттестация            8   \n",
       "5                                              ИТОГО           74   \n",
       "\n",
       "  Теоретич_час Практич_час Практика_час СРС_час            Форма_контроля  \n",
       "0            4           0            0       0                         х  \n",
       "1            8          14            0       0                         х  \n",
       "2           24           0            0       0                     Зачет  \n",
       "3            0          16            0       0                   Экзамен  \n",
       "4            0           2            6       0  Квалификационный экзамен  \n",
       "5           36          32            6       0                         х  "
      ]
     },
     "execution_count": 701,
     "metadata": {},
     "output_type": "execute_result"
    }
   ],
   "source": [
    "df_up"
   ]
  },
  {
   "cell_type": "code",
   "execution_count": 702,
   "id": "5262f298",
   "metadata": {},
   "outputs": [],
   "source": [
    "# Создаем датафрейм учебной программы без учета строки ИТОГО для таблиц краткой аннотации\n",
    "df_up = df_up[df_up['Наименование_раздела'] != 'ИТОГО']"
   ]
  },
  {
   "cell_type": "code",
   "execution_count": 703,
   "id": "b0359bd5",
   "metadata": {},
   "outputs": [],
   "source": [
    "# получаем единичные значения из листа с данными\n",
    "single_row_df = pd.read_excel(name_file_data_obraz_program_po,sheet_name=name_sheet_data,nrows=1,usecols='A:K')\n",
    "single_row_df.iloc[:,8] = single_row_df.iloc[:,8].apply(convert_date) # обрабатываем колонку с датой"
   ]
  },
  {
   "cell_type": "code",
   "execution_count": null,
   "id": "17a96bf7",
   "metadata": {},
   "outputs": [],
   "source": []
  },
  {
   "cell_type": "code",
   "execution_count": 704,
   "id": "bbf5c5dc",
   "metadata": {},
   "outputs": [
    {
     "data": {
      "text/html": [
       "<div>\n",
       "<style scoped>\n",
       "    .dataframe tbody tr th:only-of-type {\n",
       "        vertical-align: middle;\n",
       "    }\n",
       "\n",
       "    .dataframe tbody tr th {\n",
       "        vertical-align: top;\n",
       "    }\n",
       "\n",
       "    .dataframe thead th {\n",
       "        text-align: right;\n",
       "    }\n",
       "</style>\n",
       "<table border=\"1\" class=\"dataframe\">\n",
       "  <thead>\n",
       "    <tr style=\"text-align: right;\">\n",
       "      <th></th>\n",
       "      <th>Тип_программы</th>\n",
       "      <th>Код_профессии</th>\n",
       "      <th>Наименование_профессии</th>\n",
       "      <th>Форма_обучения</th>\n",
       "      <th>Срок_освоения</th>\n",
       "      <th>Год</th>\n",
       "      <th>Профессиональный_стандарт</th>\n",
       "      <th>Рег_номер_ПС</th>\n",
       "      <th>Дата_приказа_МИНТРУДА</th>\n",
       "      <th>Номер_приказа_МИНТРУДА</th>\n",
       "      <th>Разряд</th>\n",
       "    </tr>\n",
       "  </thead>\n",
       "  <tbody>\n",
       "    <tr>\n",
       "      <th>0</th>\n",
       "      <td>профессии рабочего</td>\n",
       "      <td>13495</td>\n",
       "      <td>Матрос-спасатель</td>\n",
       "      <td>очная</td>\n",
       "      <td>72</td>\n",
       "      <td>2023</td>\n",
       "      <td>Спасатель на акватории</td>\n",
       "      <td>1410</td>\n",
       "      <td>07.12.2020</td>\n",
       "      <td>862н</td>\n",
       "      <td>2</td>\n",
       "    </tr>\n",
       "  </tbody>\n",
       "</table>\n",
       "</div>"
      ],
      "text/plain": [
       "        Тип_программы  Код_профессии Наименование_профессии Форма_обучения  \\\n",
       "0  профессии рабочего          13495       Матрос-спасатель          очная   \n",
       "\n",
       "   Срок_освоения   Год Профессиональный_стандарт  Рег_номер_ПС  \\\n",
       "0             72  2023    Спасатель на акватории          1410   \n",
       "\n",
       "  Дата_приказа_МИНТРУДА Номер_приказа_МИНТРУДА  Разряд  \n",
       "0            07.12.2020                   862н       2  "
      ]
     },
     "execution_count": 704,
     "metadata": {},
     "output_type": "execute_result"
    }
   ],
   "source": [
    "single_row_df"
   ]
  },
  {
   "cell_type": "code",
   "execution_count": 705,
   "id": "299f24f3",
   "metadata": {},
   "outputs": [],
   "source": [
    "# Очищаем от лишнего поля которые заполняет пользователь\n",
    "# Заполняем возможные пустые строки\n",
    "single_row_df['Наименование_профессии'] = single_row_df['Наименование_профессии'].fillna('Не заполнено !!!')\n",
    "# Очищаем от возможнных пробелов \n",
    "single_row_df['Наименование_профессии'] = single_row_df['Наименование_профессии'].apply(lambda x:x.strip())\n",
    "\n",
    "single_row_df['Профессиональный_стандарт'] = single_row_df['Профессиональный_стандарт'].fillna('Не заполнено !!!')\n",
    "# Очищаем от возможнных пробелов \n",
    "single_row_df['Профессиональный_стандарт'] = single_row_df['Профессиональный_стандарт'].apply(lambda x:x.strip())\n",
    "\n",
    "\n",
    "\n"
   ]
  },
  {
   "cell_type": "code",
   "execution_count": 706,
   "id": "27c313db",
   "metadata": {},
   "outputs": [
    {
     "data": {
      "text/html": [
       "<div>\n",
       "<style scoped>\n",
       "    .dataframe tbody tr th:only-of-type {\n",
       "        vertical-align: middle;\n",
       "    }\n",
       "\n",
       "    .dataframe tbody tr th {\n",
       "        vertical-align: top;\n",
       "    }\n",
       "\n",
       "    .dataframe thead th {\n",
       "        text-align: right;\n",
       "    }\n",
       "</style>\n",
       "<table border=\"1\" class=\"dataframe\">\n",
       "  <thead>\n",
       "    <tr style=\"text-align: right;\">\n",
       "      <th></th>\n",
       "      <th>Тип_программы</th>\n",
       "      <th>Код_профессии</th>\n",
       "      <th>Наименование_профессии</th>\n",
       "      <th>Форма_обучения</th>\n",
       "      <th>Срок_освоения</th>\n",
       "      <th>Год</th>\n",
       "      <th>Профессиональный_стандарт</th>\n",
       "      <th>Рег_номер_ПС</th>\n",
       "      <th>Дата_приказа_МИНТРУДА</th>\n",
       "      <th>Номер_приказа_МИНТРУДА</th>\n",
       "      <th>Разряд</th>\n",
       "    </tr>\n",
       "  </thead>\n",
       "  <tbody>\n",
       "    <tr>\n",
       "      <th>0</th>\n",
       "      <td>профессии рабочего</td>\n",
       "      <td>13495</td>\n",
       "      <td>Матрос-спасатель</td>\n",
       "      <td>очная</td>\n",
       "      <td>72</td>\n",
       "      <td>2023</td>\n",
       "      <td>Спасатель на акватории</td>\n",
       "      <td>1410</td>\n",
       "      <td>07.12.2020</td>\n",
       "      <td>862н</td>\n",
       "      <td>2</td>\n",
       "    </tr>\n",
       "  </tbody>\n",
       "</table>\n",
       "</div>"
      ],
      "text/plain": [
       "        Тип_программы  Код_профессии Наименование_профессии Форма_обучения  \\\n",
       "0  профессии рабочего          13495       Матрос-спасатель          очная   \n",
       "\n",
       "   Срок_освоения   Год Профессиональный_стандарт  Рег_номер_ПС  \\\n",
       "0             72  2023    Спасатель на акватории          1410   \n",
       "\n",
       "  Дата_приказа_МИНТРУДА Номер_приказа_МИНТРУДА  Разряд  \n",
       "0            07.12.2020                   862н       2  "
      ]
     },
     "execution_count": 706,
     "metadata": {},
     "output_type": "execute_result"
    }
   ],
   "source": [
    "single_row_df"
   ]
  },
  {
   "cell_type": "code",
   "execution_count": 707,
   "id": "de09371b",
   "metadata": {},
   "outputs": [],
   "source": [
    "# получаем датафрейм с технологиями обучения\n",
    "tech_df = pd.read_excel(name_file_data_obraz_program_po,sheet_name=name_sheet_data,usecols='L:O')"
   ]
  },
  {
   "cell_type": "code",
   "execution_count": 708,
   "id": "17631565",
   "metadata": {},
   "outputs": [],
   "source": [
    "tech_df.dropna(thresh=2,inplace=True) # очищаем от строк в которых не заполнены 2 колонки"
   ]
  },
  {
   "cell_type": "code",
   "execution_count": 709,
   "id": "4b93e56c",
   "metadata": {},
   "outputs": [],
   "source": [
    "tech_df['Разработчики_программы'] = tech_df['Разработчики_программы'].fillna('Не заполнено !!!')\n",
    "# Очищаем от возможнных пробелов \n",
    "tech_df['Характеристика_технологии_обучения'] = tech_df['Характеристика_технологии_обучения'].apply(lambda x:x.strip())\n",
    "tech_df['Технологии_обучения'] = tech_df['Технологии_обучения'].apply(lambda x:x.strip())\n",
    "tech_df['Разработчики_программы'] = tech_df['Разработчики_программы'].apply(lambda x:x.strip())\n"
   ]
  },
  {
   "cell_type": "code",
   "execution_count": 710,
   "id": "b9d45993",
   "metadata": {},
   "outputs": [
    {
     "data": {
      "text/html": [
       "<div>\n",
       "<style scoped>\n",
       "    .dataframe tbody tr th:only-of-type {\n",
       "        vertical-align: middle;\n",
       "    }\n",
       "\n",
       "    .dataframe tbody tr th {\n",
       "        vertical-align: top;\n",
       "    }\n",
       "\n",
       "    .dataframe thead th {\n",
       "        text-align: right;\n",
       "    }\n",
       "</style>\n",
       "<table border=\"1\" class=\"dataframe\">\n",
       "  <thead>\n",
       "    <tr style=\"text-align: right;\">\n",
       "      <th></th>\n",
       "      <th>Уровни_квалификации</th>\n",
       "      <th>Технологии_обучения</th>\n",
       "      <th>Характеристика_технологии_обучения</th>\n",
       "      <th>Разработчики_программы</th>\n",
       "    </tr>\n",
       "  </thead>\n",
       "  <tbody>\n",
       "    <tr>\n",
       "      <th>0</th>\n",
       "      <td>2.0</td>\n",
       "      <td>Проблемно-поисковые технологии</td>\n",
       "      <td>технологии, основанные на создании в учебном п...</td>\n",
       "      <td>Протасова Е.Н., методолог ЦОПП РБ</td>\n",
       "    </tr>\n",
       "    <tr>\n",
       "      <th>1</th>\n",
       "      <td>3.0</td>\n",
       "      <td>Практико-ориентированные, деятельностные техно...</td>\n",
       "      <td>технологии направлены на формирование системы ...</td>\n",
       "      <td>Иванов И.И., преподаватель ГАПОУ \"РМК\"</td>\n",
       "    </tr>\n",
       "    <tr>\n",
       "      <th>2</th>\n",
       "      <td>NaN</td>\n",
       "      <td>Личностно-ориентированные технологии для слуша...</td>\n",
       "      <td>обеспечивают чувство комфортности педагога и с...</td>\n",
       "      <td>Истомина</td>\n",
       "    </tr>\n",
       "  </tbody>\n",
       "</table>\n",
       "</div>"
      ],
      "text/plain": [
       "   Уровни_квалификации                                Технологии_обучения  \\\n",
       "0                  2.0                     Проблемно-поисковые технологии   \n",
       "1                  3.0  Практико-ориентированные, деятельностные техно...   \n",
       "2                  NaN  Личностно-ориентированные технологии для слуша...   \n",
       "\n",
       "                  Характеристика_технологии_обучения  \\\n",
       "0  технологии, основанные на создании в учебном п...   \n",
       "1  технологии направлены на формирование системы ...   \n",
       "2  обеспечивают чувство комфортности педагога и с...   \n",
       "\n",
       "                   Разработчики_программы  \n",
       "0       Протасова Е.Н., методолог ЦОПП РБ  \n",
       "1  Иванов И.И., преподаватель ГАПОУ \"РМК\"  \n",
       "2                                Истомина  "
      ]
     },
     "execution_count": 710,
     "metadata": {},
     "output_type": "execute_result"
    }
   ],
   "source": [
    "tech_df"
   ]
  },
  {
   "cell_type": "code",
   "execution_count": 711,
   "id": "83d74240",
   "metadata": {},
   "outputs": [],
   "source": [
    "tech_df['Уровни_квалификации'] = tech_df['Уровни_квалификации'].fillna(0)\n",
    "tech_df['Уровни_квалификации'] = tech_df['Уровни_квалификации'].astype(int)"
   ]
  },
  {
   "cell_type": "code",
   "execution_count": 712,
   "id": "439335dd",
   "metadata": {},
   "outputs": [],
   "source": [
    "# создаем переменную для уровней квалификации\n",
    "levels_qual = tech_df['Уровни_квалификации'].to_list()\n",
    "levels_qual = list(filter(lambda x:x !=0,levels_qual))\n",
    "levels_qual = list(map(str,levels_qual))\n"
   ]
  },
  {
   "cell_type": "code",
   "execution_count": 713,
   "id": "911ea040",
   "metadata": {},
   "outputs": [
    {
     "data": {
      "text/html": [
       "<div>\n",
       "<style scoped>\n",
       "    .dataframe tbody tr th:only-of-type {\n",
       "        vertical-align: middle;\n",
       "    }\n",
       "\n",
       "    .dataframe tbody tr th {\n",
       "        vertical-align: top;\n",
       "    }\n",
       "\n",
       "    .dataframe thead th {\n",
       "        text-align: right;\n",
       "    }\n",
       "</style>\n",
       "<table border=\"1\" class=\"dataframe\">\n",
       "  <thead>\n",
       "    <tr style=\"text-align: right;\">\n",
       "      <th></th>\n",
       "      <th>Уровни_квалификации</th>\n",
       "      <th>Технологии_обучения</th>\n",
       "      <th>Характеристика_технологии_обучения</th>\n",
       "      <th>Разработчики_программы</th>\n",
       "    </tr>\n",
       "  </thead>\n",
       "  <tbody>\n",
       "    <tr>\n",
       "      <th>0</th>\n",
       "      <td>2</td>\n",
       "      <td>Проблемно-поисковые технологии</td>\n",
       "      <td>технологии, основанные на создании в учебном п...</td>\n",
       "      <td>Протасова Е.Н., методолог ЦОПП РБ</td>\n",
       "    </tr>\n",
       "    <tr>\n",
       "      <th>1</th>\n",
       "      <td>3</td>\n",
       "      <td>Практико-ориентированные, деятельностные техно...</td>\n",
       "      <td>технологии направлены на формирование системы ...</td>\n",
       "      <td>Иванов И.И., преподаватель ГАПОУ \"РМК\"</td>\n",
       "    </tr>\n",
       "    <tr>\n",
       "      <th>2</th>\n",
       "      <td>0</td>\n",
       "      <td>Личностно-ориентированные технологии для слуша...</td>\n",
       "      <td>обеспечивают чувство комфортности педагога и с...</td>\n",
       "      <td>Истомина</td>\n",
       "    </tr>\n",
       "  </tbody>\n",
       "</table>\n",
       "</div>"
      ],
      "text/plain": [
       "   Уровни_квалификации                                Технологии_обучения  \\\n",
       "0                    2                     Проблемно-поисковые технологии   \n",
       "1                    3  Практико-ориентированные, деятельностные техно...   \n",
       "2                    0  Личностно-ориентированные технологии для слуша...   \n",
       "\n",
       "                  Характеристика_технологии_обучения  \\\n",
       "0  технологии, основанные на создании в учебном п...   \n",
       "1  технологии направлены на формирование системы ...   \n",
       "2  обеспечивают чувство комфортности педагога и с...   \n",
       "\n",
       "                   Разработчики_программы  \n",
       "0       Протасова Е.Н., методолог ЦОПП РБ  \n",
       "1  Иванов И.И., преподаватель ГАПОУ \"РМК\"  \n",
       "2                                Истомина  "
      ]
     },
     "execution_count": 713,
     "metadata": {},
     "output_type": "execute_result"
    }
   ],
   "source": [
    "tech_df"
   ]
  },
  {
   "cell_type": "code",
   "execution_count": 714,
   "id": "ddc73b73",
   "metadata": {},
   "outputs": [],
   "source": [
    "# Конвертируем датафрейм с описанием программы в список словарей\n",
    "data_program = single_row_df.to_dict('records')"
   ]
  },
  {
   "cell_type": "code",
   "execution_count": 715,
   "id": "ec87f423",
   "metadata": {},
   "outputs": [
    {
     "data": {
      "text/plain": [
       "[{'Тип_программы': 'профессии рабочего',\n",
       "  'Код_профессии': 13495,\n",
       "  'Наименование_профессии': 'Матрос-спасатель',\n",
       "  'Форма_обучения': 'очная',\n",
       "  'Срок_освоения': 72,\n",
       "  'Год': 2023,\n",
       "  'Профессиональный_стандарт': 'Спасатель на акватории',\n",
       "  'Рег_номер_ПС': 1410,\n",
       "  'Дата_приказа_МИНТРУДА': '07.12.2020',\n",
       "  'Номер_приказа_МИНТРУДА': '862н',\n",
       "  'Разряд': 2}]"
      ]
     },
     "execution_count": 715,
     "metadata": {},
     "output_type": "execute_result"
    }
   ],
   "source": [
    "data_program"
   ]
  },
  {
   "cell_type": "code",
   "execution_count": 716,
   "id": "58ea701d",
   "metadata": {},
   "outputs": [],
   "source": [
    "context = data_program[0] "
   ]
  },
  {
   "cell_type": "code",
   "execution_count": 717,
   "id": "81b27a36",
   "metadata": {},
   "outputs": [],
   "source": [
    "context['Уровни_квалификации'] = ','.join(levels_qual)\n"
   ]
  },
  {
   "cell_type": "code",
   "execution_count": 718,
   "id": "4524efce",
   "metadata": {},
   "outputs": [],
   "source": [
    "# Добавляем датафреймы\n",
    "context['lst_tech'] = tech_df.to_dict('records') # образовательные технологии\n",
    "context['up_lst'] = df_up.to_dict('records') # учебный план\n",
    "context['lst_dev'] = tech_df['Разработчики_программы'].tolist()"
   ]
  },
  {
   "cell_type": "code",
   "execution_count": null,
   "id": "df6d7473",
   "metadata": {},
   "outputs": [],
   "source": []
  },
  {
   "cell_type": "code",
   "execution_count": null,
   "id": "36c3a410",
   "metadata": {},
   "outputs": [],
   "source": []
  },
  {
   "cell_type": "code",
   "execution_count": 719,
   "id": "d7ac1c47",
   "metadata": {},
   "outputs": [],
   "source": [
    "doc = DocxTemplate(name_file_template_educ_program_po)\n",
    "# Создаем документ\n",
    "doc.render(context)\n",
    "# сохраняем документ\n",
    "# название программы\n",
    "name_prof = single_row_df['Наименование_профессии'].tolist()[0]\n",
    "razr = single_row_df['Разряд'].tolist()[0]\n",
    "t = time.localtime()\n",
    "current_time = time.strftime('%H_%M_%S', t)\n",
    "doc.save(\n",
    "    f'{path_to_end_folder_obraz_program_po}/Программа ПО {name_prof} {razr} разряда {current_time}.docx')"
   ]
  },
  {
   "cell_type": "code",
   "execution_count": 720,
   "id": "55968333",
   "metadata": {},
   "outputs": [
    {
     "name": "stdout",
     "output_type": "stream",
     "text": [
      "Lindy Booth\n"
     ]
    }
   ],
   "source": [
    "print('Lindy Booth')"
   ]
  }
 ],
 "metadata": {
  "kernelspec": {
   "display_name": "Python 3 (ipykernel)",
   "language": "python",
   "name": "python3"
  },
  "language_info": {
   "codemirror_mode": {
    "name": "ipython",
    "version": 3
   },
   "file_extension": ".py",
   "mimetype": "text/x-python",
   "name": "python",
   "nbconvert_exporter": "python",
   "pygments_lexer": "ipython3",
   "version": "3.9.13"
  }
 },
 "nbformat": 4,
 "nbformat_minor": 5
}
