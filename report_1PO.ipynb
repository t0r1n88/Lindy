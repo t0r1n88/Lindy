{
 "cells": [
  {
   "cell_type": "code",
   "execution_count": 71,
   "id": "2483971e",
   "metadata": {},
   "outputs": [
    {
     "name": "stderr",
     "output_type": "stream",
     "text": [
      "C:\\Users\\1\\anaconda3\\lib\\site-packages\\openpyxl\\worksheet\\_reader.py:312: UserWarning: Data Validation extension is not supported and will be removed\n",
      "  warn(msg)\n"
     ]
    }
   ],
   "source": [
    "import pandas as pd\n",
    "import numpy as np\n",
    "import openpyxl\n",
    "from openpyxl.utils.dataframe import dataframe_to_rows\n",
    "from openpyxl.styles import Font\n",
    "from openpyxl.styles import Alignment\n",
    "import time\n",
    "\n",
    "name_file_data_report = 'Общая таблица слушателей ЦОПП 1-ПО.xlsx' \n",
    "path_to_end_folder_report = 'data'\n",
    "\n",
    "df_po = pd.read_excel(name_file_data_report,sheet_name='ПО',dtype={'Гражданство_получателя_код_страны_по_ОКСМ':str})\n",
    "\n",
    "#Создаем шрифт которым будем выделять названия таблиц\n",
    "font_name_table = Font(name='Arial Black',size=15,italic=True)"
   ]
  },
  {
   "cell_type": "markdown",
   "id": "dd32dd65",
   "metadata": {},
   "source": [
    "1.3,\n",
    "2.1.1,\n",
    "2.1.2,\n",
    "2.1.3,\n",
    "2.2 Добавить категории слушателей для 1-ПО\n",
    "2.3\n",
    "2.4\n",
    "2.5\n",
    "2.6\n"
   ]
  },
  {
   "cell_type": "code",
   "execution_count": 72,
   "id": "e72f0d82",
   "metadata": {},
   "outputs": [
    {
     "data": {
      "text/plain": [
       "<Worksheet \"Раздел 2.6\">"
      ]
     },
     "execution_count": 72,
     "metadata": {},
     "output_type": "execute_result"
    }
   ],
   "source": [
    "# Создаем файл excel\n",
    "wb = openpyxl.Workbook()\n",
    "# Создаем листы \n",
    "wb.create_sheet(title='Раздел 2.5',index=0)\n",
    "wb.create_sheet(title='Раздел 2.6',index=1)\n",
    "\n"
   ]
  },
  {
   "cell_type": "code",
   "execution_count": 73,
   "id": "8f5b9abb",
   "metadata": {},
   "outputs": [],
   "source": [
    "# Создаем дополнительную числовую колонку где каждое значение это 1, для удобства агрегирования\n",
    "df_po_2_5 = df_po.copy()\n",
    "# Добавляем колонку с 1\n",
    "df_po_2_5['for_counting'] = 1 \n"
   ]
  },
  {
   "cell_type": "code",
   "execution_count": 74,
   "id": "5bf0f93b",
   "metadata": {},
   "outputs": [],
   "source": [
    "# Считаем строку 01 Всего\n",
    "df_2_5_all = pd.pivot_table(df_po_2_5,              \n",
    "              columns=['Программа_профессионального_обучения_направление_подготовки','Источник_финансирования_обучения'],\n",
    "              values=['for_counting'],\n",
    "              aggfunc='sum')\n",
    "df_2_5_all.index = ['Всего']\n",
    "df_2_5_all.index.name='Код государства по ОКСМ'"
   ]
  },
  {
   "cell_type": "code",
   "execution_count": 75,
   "id": "a4e97f51",
   "metadata": {},
   "outputs": [
    {
     "data": {
      "text/html": [
       "<div>\n",
       "<style scoped>\n",
       "    .dataframe tbody tr th:only-of-type {\n",
       "        vertical-align: middle;\n",
       "    }\n",
       "\n",
       "    .dataframe tbody tr th {\n",
       "        vertical-align: top;\n",
       "    }\n",
       "\n",
       "    .dataframe thead tr th {\n",
       "        text-align: left;\n",
       "    }\n",
       "\n",
       "    .dataframe thead tr:last-of-type th {\n",
       "        text-align: right;\n",
       "    }\n",
       "</style>\n",
       "<table border=\"1\" class=\"dataframe\">\n",
       "  <thead>\n",
       "    <tr>\n",
       "      <th>Программа_профессионального_обучения_направление_подготовки</th>\n",
       "      <th colspan=\"4\" halign=\"left\">Программа переподготовки рабочих, служащих</th>\n",
       "      <th>Программа профессиональной подготовки по профессии рабочего, должности служащего</th>\n",
       "    </tr>\n",
       "    <tr>\n",
       "      <th>Источник_финансирования_обучения</th>\n",
       "      <th>Местный бюджет</th>\n",
       "      <th>Платное обучение</th>\n",
       "      <th>Региональный бюджет</th>\n",
       "      <th>Федеральный бюджет</th>\n",
       "      <th>Платное обучение</th>\n",
       "    </tr>\n",
       "    <tr>\n",
       "      <th>Код государства по ОКСМ</th>\n",
       "      <th></th>\n",
       "      <th></th>\n",
       "      <th></th>\n",
       "      <th></th>\n",
       "      <th></th>\n",
       "    </tr>\n",
       "  </thead>\n",
       "  <tbody>\n",
       "    <tr>\n",
       "      <th>Всего</th>\n",
       "      <td>1</td>\n",
       "      <td>1</td>\n",
       "      <td>1</td>\n",
       "      <td>3</td>\n",
       "      <td>4</td>\n",
       "    </tr>\n",
       "  </tbody>\n",
       "</table>\n",
       "</div>"
      ],
      "text/plain": [
       "Программа_профессионального_обучения_направление_подготовки Программа переподготовки рабочих, служащих  \\\n",
       "Источник_финансирования_обучения                                                        Местный бюджет   \n",
       "Код государства по ОКСМ                                                                                  \n",
       "Всего                                                                                                1   \n",
       "\n",
       "Программа_профессионального_обучения_направление_подготовки                   \\\n",
       "Источник_финансирования_обучения                            Платное обучение   \n",
       "Код государства по ОКСМ                                                        \n",
       "Всего                                                                      1   \n",
       "\n",
       "Программа_профессионального_обучения_направление_подготовки                      \\\n",
       "Источник_финансирования_обучения                            Региональный бюджет   \n",
       "Код государства по ОКСМ                                                           \n",
       "Всего                                                                         1   \n",
       "\n",
       "Программа_профессионального_обучения_направление_подготовки                     \\\n",
       "Источник_финансирования_обучения                            Федеральный бюджет   \n",
       "Код государства по ОКСМ                                                          \n",
       "Всего                                                                        3   \n",
       "\n",
       "Программа_профессионального_обучения_направление_подготовки Программа профессиональной подготовки по профессии рабочего, должности служащего   \n",
       "Источник_финансирования_обучения                                                                                             Платное обучение  \n",
       "Код государства по ОКСМ                                                                                                                        \n",
       "Всего                                                                                                        4                                 "
      ]
     },
     "execution_count": 75,
     "metadata": {},
     "output_type": "execute_result"
    }
   ],
   "source": [
    "df_2_5_all"
   ]
  },
  {
   "cell_type": "code",
   "execution_count": 76,
   "id": "0e9a74fa",
   "metadata": {},
   "outputs": [],
   "source": [
    "# Считаем данные по странам\n",
    "svod_df_po_2_5=pd.pivot_table(df_po_2_5,\n",
    "              index=['Гражданство_получателя_код_страны_по_ОКСМ'],\n",
    "              columns=['Программа_профессионального_обучения_направление_подготовки','Источник_финансирования_обучения'],\n",
    "              values=['for_counting'],\n",
    "              aggfunc='sum')"
   ]
  },
  {
   "cell_type": "code",
   "execution_count": 77,
   "id": "aa3730ad",
   "metadata": {},
   "outputs": [],
   "source": [
    "# Удаляем лишний мультииндекс\n",
    "svod_df_po_2_5.columns= svod_df_po_2_5.columns.droplevel()\n",
    "# заполняем нулями для корректного суммирования\n",
    "svod_df_po_2_5.fillna(0.0,inplace=True)\n"
   ]
  },
  {
   "cell_type": "code",
   "execution_count": 78,
   "id": "46788033",
   "metadata": {},
   "outputs": [],
   "source": [
    "# Соединяем датафреймы\n",
    "df_2_5_out = pd.concat([df_2_5_all,svod_df_po_2_5])\n",
    "# заменяем нули на нан, чтобы в итоговой таблице нули не отвлекали\n",
    "df_2_5_out.replace(0.0,np.NaN,inplace=True)"
   ]
  },
  {
   "cell_type": "code",
   "execution_count": 79,
   "id": "0c6e172c",
   "metadata": {},
   "outputs": [
    {
     "data": {
      "text/html": [
       "<div>\n",
       "<style scoped>\n",
       "    .dataframe tbody tr th:only-of-type {\n",
       "        vertical-align: middle;\n",
       "    }\n",
       "\n",
       "    .dataframe tbody tr th {\n",
       "        vertical-align: top;\n",
       "    }\n",
       "\n",
       "    .dataframe thead tr th {\n",
       "        text-align: left;\n",
       "    }\n",
       "</style>\n",
       "<table border=\"1\" class=\"dataframe\">\n",
       "  <thead>\n",
       "    <tr>\n",
       "      <th>Программа_профессионального_обучения_направление_подготовки</th>\n",
       "      <th colspan=\"4\" halign=\"left\">Программа переподготовки рабочих, служащих</th>\n",
       "      <th>Программа профессиональной подготовки по профессии рабочего, должности служащего</th>\n",
       "    </tr>\n",
       "    <tr>\n",
       "      <th>Источник_финансирования_обучения</th>\n",
       "      <th>Местный бюджет</th>\n",
       "      <th>Платное обучение</th>\n",
       "      <th>Региональный бюджет</th>\n",
       "      <th>Федеральный бюджет</th>\n",
       "      <th>Платное обучение</th>\n",
       "    </tr>\n",
       "  </thead>\n",
       "  <tbody>\n",
       "    <tr>\n",
       "      <th>Всего</th>\n",
       "      <td>1.0</td>\n",
       "      <td>1.0</td>\n",
       "      <td>1.0</td>\n",
       "      <td>3.0</td>\n",
       "      <td>4.0</td>\n",
       "    </tr>\n",
       "    <tr>\n",
       "      <th>004</th>\n",
       "      <td>NaN</td>\n",
       "      <td>NaN</td>\n",
       "      <td>NaN</td>\n",
       "      <td>NaN</td>\n",
       "      <td>2.0</td>\n",
       "    </tr>\n",
       "    <tr>\n",
       "      <th>012</th>\n",
       "      <td>NaN</td>\n",
       "      <td>NaN</td>\n",
       "      <td>NaN</td>\n",
       "      <td>NaN</td>\n",
       "      <td>1.0</td>\n",
       "    </tr>\n",
       "    <tr>\n",
       "      <th>020</th>\n",
       "      <td>NaN</td>\n",
       "      <td>NaN</td>\n",
       "      <td>NaN</td>\n",
       "      <td>NaN</td>\n",
       "      <td>1.0</td>\n",
       "    </tr>\n",
       "    <tr>\n",
       "      <th>643</th>\n",
       "      <td>1.0</td>\n",
       "      <td>1.0</td>\n",
       "      <td>1.0</td>\n",
       "      <td>3.0</td>\n",
       "      <td>NaN</td>\n",
       "    </tr>\n",
       "  </tbody>\n",
       "</table>\n",
       "</div>"
      ],
      "text/plain": [
       "Программа_профессионального_обучения_направление_подготовки Программа переподготовки рабочих, служащих  \\\n",
       "Источник_финансирования_обучения                                                        Местный бюджет   \n",
       "Всего                                                                                              1.0   \n",
       "004                                                                                                NaN   \n",
       "012                                                                                                NaN   \n",
       "020                                                                                                NaN   \n",
       "643                                                                                                1.0   \n",
       "\n",
       "Программа_профессионального_обучения_направление_подготовки                   \\\n",
       "Источник_финансирования_обучения                            Платное обучение   \n",
       "Всего                                                                    1.0   \n",
       "004                                                                      NaN   \n",
       "012                                                                      NaN   \n",
       "020                                                                      NaN   \n",
       "643                                                                      1.0   \n",
       "\n",
       "Программа_профессионального_обучения_направление_подготовки                      \\\n",
       "Источник_финансирования_обучения                            Региональный бюджет   \n",
       "Всего                                                                       1.0   \n",
       "004                                                                         NaN   \n",
       "012                                                                         NaN   \n",
       "020                                                                         NaN   \n",
       "643                                                                         1.0   \n",
       "\n",
       "Программа_профессионального_обучения_направление_подготовки                     \\\n",
       "Источник_финансирования_обучения                            Федеральный бюджет   \n",
       "Всего                                                                      3.0   \n",
       "004                                                                        NaN   \n",
       "012                                                                        NaN   \n",
       "020                                                                        NaN   \n",
       "643                                                                        3.0   \n",
       "\n",
       "Программа_профессионального_обучения_направление_подготовки Программа профессиональной подготовки по профессии рабочего, должности служащего   \n",
       "Источник_финансирования_обучения                                                                                             Платное обучение  \n",
       "Всего                                                                                                      4.0                                 \n",
       "004                                                                                                        2.0                                 \n",
       "012                                                                                                        1.0                                 \n",
       "020                                                                                                        1.0                                 \n",
       "643                                                                                                        NaN                                 "
      ]
     },
     "execution_count": 79,
     "metadata": {},
     "output_type": "execute_result"
    }
   ],
   "source": [
    "df_2_5_out"
   ]
  },
  {
   "cell_type": "code",
   "execution_count": 80,
   "id": "300fcf9d",
   "metadata": {},
   "outputs": [],
   "source": [
    "wb['Раздел 2.5'][f'A1'] = 'Распределение слушателей, обученных по программам ПО, по гражданству'\n",
    "wb['Раздел 2.5'][f'A1'].font = font_name_table\n",
    "wb['Раздел 2.5'][f'A2'] = 'В таб'\n",
    "wb['Раздел 2.5'][f'A2'].font = font_name_table\n",
    "\n",
    "\n",
    "\n",
    "for r in dataframe_to_rows(df_2_5_out,index =True,header=True):\n",
    "    if len(r) != 1:\n",
    "        wb['Раздел 2.5'].append(r)\n",
    "wb['Раздел 2.5'].column_dimensions['A'].width = 50\n",
    "wb['Раздел 2.5'].column_dimensions['B'].width = 50\n",
    "wb['Раздел 2.5'].column_dimensions['F'].width = 50"
   ]
  },
  {
   "cell_type": "code",
   "execution_count": null,
   "id": "82b83dfb",
   "metadata": {},
   "outputs": [],
   "source": []
  },
  {
   "cell_type": "code",
   "execution_count": null,
   "id": "d1e500dc",
   "metadata": {},
   "outputs": [],
   "source": []
  },
  {
   "cell_type": "code",
   "execution_count": null,
   "id": "c42da449",
   "metadata": {},
   "outputs": [],
   "source": []
  },
  {
   "cell_type": "code",
   "execution_count": null,
   "id": "d3eaa958",
   "metadata": {},
   "outputs": [],
   "source": []
  },
  {
   "cell_type": "code",
   "execution_count": 81,
   "id": "8013b07c",
   "metadata": {},
   "outputs": [],
   "source": [
    " # Получаем текущее время для того чтобы использовать в названии\n",
    "t = time.localtime()\n",
    "current_time = time.strftime('%H_%M_%S', t)\n",
    "# Сохраняем итоговый файл\n",
    "wb.save(f'{path_to_end_folder_report}/Часть отчета 1-ПО.xlsx {current_time}.xlsx')"
   ]
  }
 ],
 "metadata": {
  "kernelspec": {
   "display_name": "Python 3 (ipykernel)",
   "language": "python",
   "name": "python3"
  },
  "language_info": {
   "codemirror_mode": {
    "name": "ipython",
    "version": 3
   },
   "file_extension": ".py",
   "mimetype": "text/x-python",
   "name": "python",
   "nbconvert_exporter": "python",
   "pygments_lexer": "ipython3",
   "version": "3.9.7"
  }
 },
 "nbformat": 4,
 "nbformat_minor": 5
}
