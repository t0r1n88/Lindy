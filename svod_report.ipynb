{
 "cells": [
  {
   "cell_type": "code",
   "execution_count": 2,
   "id": "82bb6d4a",
   "metadata": {},
   "outputs": [],
   "source": [
    "import pandas as pd\n",
    "import openpyxl"
   ]
  },
  {
   "cell_type": "code",
   "execution_count": null,
   "id": "7dcc953f",
   "metadata": {},
   "outputs": [],
   "source": [
    "def extract_month(cell:str)->int:\n",
    "    \"\"\"Функция для извлечения месяца окончания обучения\"\"\""
   ]
  },
  {
   "cell_type": "code",
   "execution_count": 3,
   "id": "43d76b31",
   "metadata": {},
   "outputs": [],
   "source": [
    "name_file_data_report = 'Общая таблица для сводного отчета.xlsx'"
   ]
  },
  {
   "cell_type": "code",
   "execution_count": 4,
   "id": "a840d187",
   "metadata": {},
   "outputs": [],
   "source": [
    "dpo_df = pd.read_excel(name_file_data_report,sheet_name='ДПО')\n",
    "po_df = pd.read_excel(name_file_data_report,sheet_name='ПО')"
   ]
  },
  {
   "cell_type": "code",
   "execution_count": null,
   "id": "ff581a7f",
   "metadata": {},
   "outputs": [],
   "source": [
    "# Перед подсчетом нужна проверка заполнен ли "
   ]
  },
  {
   "cell_type": "code",
   "execution_count": 5,
   "id": "7974a7ad",
   "metadata": {},
   "outputs": [],
   "source": [
    "dpo_df['for_counting'] = 1\n",
    "po_df['for_counting'] = 1"
   ]
  },
  {
   "cell_type": "code",
   "execution_count": 7,
   "id": "6c71fc43",
   "metadata": {},
   "outputs": [],
   "source": [
    "# Создаем базовый датафрейм\n",
    "base_df = pd.DataFrame(index=['программы профессиональных модулей для среднего профессионального образования','программам для обучающихся общеобразовательных организаций'\n",
    "                              'программы под заказ работодателей','отраслевые программы','программы для граждан предпенсионного возраста','программы по компетенциям будущего, включая компетенции цифровой экономики'])"
   ]
  },
  {
   "cell_type": "code",
   "execution_count": 8,
   "id": "aeea8f57",
   "metadata": {},
   "outputs": [
    {
     "data": {
      "text/html": [
       "<div>\n",
       "<style scoped>\n",
       "    .dataframe tbody tr th:only-of-type {\n",
       "        vertical-align: middle;\n",
       "    }\n",
       "\n",
       "    .dataframe tbody tr th {\n",
       "        vertical-align: top;\n",
       "    }\n",
       "\n",
       "    .dataframe thead th {\n",
       "        text-align: right;\n",
       "    }\n",
       "</style>\n",
       "<table border=\"1\" class=\"dataframe\">\n",
       "  <thead>\n",
       "    <tr style=\"text-align: right;\">\n",
       "      <th></th>\n",
       "    </tr>\n",
       "  </thead>\n",
       "  <tbody>\n",
       "    <tr>\n",
       "      <th>программы профессиональных модулей для среднего профессионального образования</th>\n",
       "    </tr>\n",
       "    <tr>\n",
       "      <th>программам для обучающихся общеобразовательных организацийпрограммы под заказ работодателей</th>\n",
       "    </tr>\n",
       "    <tr>\n",
       "      <th>отраслевые программы</th>\n",
       "    </tr>\n",
       "    <tr>\n",
       "      <th>программы для граждан предпенсионного возраста</th>\n",
       "    </tr>\n",
       "    <tr>\n",
       "      <th>программы по компетенциям будущего, включая компетенции цифровой экономики</th>\n",
       "    </tr>\n",
       "  </tbody>\n",
       "</table>\n",
       "</div>"
      ],
      "text/plain": [
       "Empty DataFrame\n",
       "Columns: []\n",
       "Index: [программы профессиональных модулей для среднего профессионального образования, программам для обучающихся общеобразовательных организацийпрограммы под заказ работодателей, отраслевые программы, программы для граждан предпенсионного возраста, программы по компетенциям будущего, включая компетенции цифровой экономики]"
      ]
     },
     "execution_count": 8,
     "metadata": {},
     "output_type": "execute_result"
    }
   ],
   "source": [
    "# Обрабатываем колонку Период_обучения_в_формате_с_дата_начала_по_дата_окончания\n"
   ]
  },
  {
   "cell_type": "code",
   "execution_count": 11,
   "id": "041a3a5c",
   "metadata": {},
   "outputs": [
    {
     "data": {
      "text/html": [
       "<div>\n",
       "<style scoped>\n",
       "    .dataframe tbody tr th:only-of-type {\n",
       "        vertical-align: middle;\n",
       "    }\n",
       "\n",
       "    .dataframe tbody tr th {\n",
       "        vertical-align: top;\n",
       "    }\n",
       "\n",
       "    .dataframe thead th {\n",
       "        text-align: right;\n",
       "    }\n",
       "</style>\n",
       "<table border=\"1\" class=\"dataframe\">\n",
       "  <thead>\n",
       "    <tr style=\"text-align: right;\">\n",
       "      <th></th>\n",
       "      <th>for_counting</th>\n",
       "    </tr>\n",
       "    <tr>\n",
       "      <th>Индикатор</th>\n",
       "      <th></th>\n",
       "    </tr>\n",
       "  </thead>\n",
       "  <tbody>\n",
       "    <tr>\n",
       "      <th>отраслевые программы</th>\n",
       "      <td>82</td>\n",
       "    </tr>\n",
       "    <tr>\n",
       "      <th>программы под заказ работодателей</th>\n",
       "      <td>10</td>\n",
       "    </tr>\n",
       "    <tr>\n",
       "      <th>программы профессиональных модулей для среднего профессионального образования</th>\n",
       "      <td>21</td>\n",
       "    </tr>\n",
       "  </tbody>\n",
       "</table>\n",
       "</div>"
      ],
      "text/plain": [
       "                                                    for_counting\n",
       "Индикатор                                                       \n",
       "отраслевые программы                                          82\n",
       "программы под заказ работодателей                             10\n",
       "программы профессиональных модулей для среднего...            21"
      ]
     },
     "execution_count": 11,
     "metadata": {},
     "output_type": "execute_result"
    }
   ],
   "source": [
    "dpo_df.groupby(['Индикатор']).agg({'for_counting':'sum'})"
   ]
  },
  {
   "cell_type": "code",
   "execution_count": 9,
   "id": "07df94a6",
   "metadata": {},
   "outputs": [],
   "source": [
    "d = dpo_df.groupby(['Индикатор']).agg({'for_counting':'sum'})\n"
   ]
  },
  {
   "cell_type": "code",
   "execution_count": 10,
   "id": "4096cc6a",
   "metadata": {},
   "outputs": [
    {
     "data": {
      "text/html": [
       "<div>\n",
       "<style scoped>\n",
       "    .dataframe tbody tr th:only-of-type {\n",
       "        vertical-align: middle;\n",
       "    }\n",
       "\n",
       "    .dataframe tbody tr th {\n",
       "        vertical-align: top;\n",
       "    }\n",
       "\n",
       "    .dataframe thead th {\n",
       "        text-align: right;\n",
       "    }\n",
       "</style>\n",
       "<table border=\"1\" class=\"dataframe\">\n",
       "  <thead>\n",
       "    <tr style=\"text-align: right;\">\n",
       "      <th></th>\n",
       "      <th>for_counting</th>\n",
       "    </tr>\n",
       "  </thead>\n",
       "  <tbody>\n",
       "    <tr>\n",
       "      <th>программы профессиональных модулей для среднего профессионального образования</th>\n",
       "      <td>21.0</td>\n",
       "    </tr>\n",
       "    <tr>\n",
       "      <th>программам для обучающихся общеобразовательных организацийпрограммы под заказ работодателей</th>\n",
       "      <td>NaN</td>\n",
       "    </tr>\n",
       "    <tr>\n",
       "      <th>отраслевые программы</th>\n",
       "      <td>82.0</td>\n",
       "    </tr>\n",
       "    <tr>\n",
       "      <th>программы для граждан предпенсионного возраста</th>\n",
       "      <td>NaN</td>\n",
       "    </tr>\n",
       "    <tr>\n",
       "      <th>программы по компетенциям будущего, включая компетенции цифровой экономики</th>\n",
       "      <td>NaN</td>\n",
       "    </tr>\n",
       "    <tr>\n",
       "      <th>программы под заказ работодателей</th>\n",
       "      <td>10.0</td>\n",
       "    </tr>\n",
       "  </tbody>\n",
       "</table>\n",
       "</div>"
      ],
      "text/plain": [
       "                                                    for_counting\n",
       "программы профессиональных модулей для среднего...          21.0\n",
       "программам для обучающихся общеобразовательных ...           NaN\n",
       "отраслевые программы                                        82.0\n",
       "программы для граждан предпенсионного возраста               NaN\n",
       "программы по компетенциям будущего, включая ком...           NaN\n",
       "программы под заказ работодателей                           10.0"
      ]
     },
     "execution_count": 10,
     "metadata": {},
     "output_type": "execute_result"
    }
   ],
   "source": [
    "pd.concat([base_df,d],axis=1)"
   ]
  },
  {
   "cell_type": "code",
   "execution_count": null,
   "id": "b765d47b",
   "metadata": {},
   "outputs": [],
   "source": []
  }
 ],
 "metadata": {
  "kernelspec": {
   "display_name": "Python 3 (ipykernel)",
   "language": "python",
   "name": "python3"
  },
  "language_info": {
   "codemirror_mode": {
    "name": "ipython",
    "version": 3
   },
   "file_extension": ".py",
   "mimetype": "text/x-python",
   "name": "python",
   "nbconvert_exporter": "python",
   "pygments_lexer": "ipython3",
   "version": "3.9.7"
  }
 },
 "nbformat": 4,
 "nbformat_minor": 5
}
