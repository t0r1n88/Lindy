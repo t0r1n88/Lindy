{
 "cells": [
  {
   "cell_type": "code",
   "execution_count": 2,
   "id": "aeddefde",
   "metadata": {},
   "outputs": [],
   "source": [
    "import pandas as pd\n",
    "import openpyxl"
   ]
  },
  {
   "cell_type": "code",
   "execution_count": 3,
   "id": "044d5e25",
   "metadata": {},
   "outputs": [],
   "source": [
    "name_file_data_report = 'Общая таблица для сводного отчета.xlsx'"
   ]
  },
  {
   "cell_type": "code",
   "execution_count": 4,
   "id": "cb5b0c18",
   "metadata": {},
   "outputs": [],
   "source": [
    "dpo_df = pd.read_excel(name_file_data_report,sheet_name='ДПО')\n",
    "po_df = pd.read_excel(name_file_data_report,sheet_name='ПО')"
   ]
  },
  {
   "cell_type": "code",
   "execution_count": null,
   "id": "44a5bf8c",
   "metadata": {},
   "outputs": [],
   "source": [
    "# Перед подсчетом нужна проверка"
   ]
  },
  {
   "cell_type": "code",
   "execution_count": null,
   "id": "8bcccf7e",
   "metadata": {},
   "outputs": [],
   "source": [
    "dpo_ind = dpo_df['Индикатор']\n"
   ]
  }
 ],
 "metadata": {
  "kernelspec": {
   "display_name": "Python 3 (ipykernel)",
   "language": "python",
   "name": "python3"
  },
  "language_info": {
   "codemirror_mode": {
    "name": "ipython",
    "version": 3
   },
   "file_extension": ".py",
   "mimetype": "text/x-python",
   "name": "python",
   "nbconvert_exporter": "python",
   "pygments_lexer": "ipython3",
   "version": "3.9.7"
  }
 },
 "nbformat": 4,
 "nbformat_minor": 5
}
