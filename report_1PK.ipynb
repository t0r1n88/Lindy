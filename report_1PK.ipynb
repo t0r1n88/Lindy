{
 "cells": [
  {
   "cell_type": "code",
   "execution_count": 32,
   "metadata": {},
   "outputs": [],
   "source": [
    "import pandas as pd\n",
    "import openpyxl\n",
    "from openpyxl.utils.dataframe import dataframe_to_rows"
   ]
  },
  {
   "cell_type": "code",
   "execution_count": 33,
   "metadata": {},
   "outputs": [],
   "source": [
    "name_file_data_report = 'Общая таблица слушателей ЦОПП.xlsx' "
   ]
  },
  {
   "cell_type": "code",
   "execution_count": 34,
   "metadata": {},
   "outputs": [],
   "source": [
    "df_dpo = pd.read_excel(name_file_data_report,sheet_name='ДПО')"
   ]
  },
  {
   "cell_type": "code",
   "execution_count": 35,
   "metadata": {},
   "outputs": [],
   "source": [
    "#Создаем файл "
   ]
  },
  {
   "cell_type": "code",
   "execution_count": null,
   "metadata": {},
   "outputs": [],
   "source": []
  },
  {
   "cell_type": "code",
   "execution_count": null,
   "metadata": {},
   "outputs": [],
   "source": []
  },
  {
   "cell_type": "code",
   "execution_count": null,
   "metadata": {},
   "outputs": [],
   "source": []
  },
  {
   "cell_type": "code",
   "execution_count": null,
   "metadata": {},
   "outputs": [],
   "source": []
  },
  {
   "cell_type": "code",
   "execution_count": 36,
   "metadata": {},
   "outputs": [],
   "source": [
    "# Раздел 1.3\n",
    "# Количество программ по каждому виду обучения\n",
    "# группируем. Так как нам нужны текстовые данные то применяем создаем строку с помощью join\n",
    "quantity_program_on_type_provisional =df_dpo.groupby('Наименование_дополнительной_профессиональной_программы').agg({'Дополнительная_профессиональная_программа_повышение_квалификации_профессиональная_переподготовка':lambda x:','.join(x)})\n",
    "\n",
    "# Применяем к полученной серии функцию разделения по запятой. Предполо\n",
    "quantity_program_on_type_provisional['Дополнительная_профессиональная_программа_повышение_квалификации_профессиональная_переподготовка']=quantity_program_on_type_provisional['Дополнительная_профессиональная_программа_повышение_квалификации_профессиональная_переподготовка'].apply(lambda x: x.split(',')[0])\n",
    "\n",
    "df_1_3=quantity_program_on_type_provisional['Дополнительная_профессиональная_программа_повышение_квалификации_профессиональная_переподготовка'].value_counts().to_frame()\n",
    "# Раздел 1.3"
   ]
  },
  {
   "cell_type": "code",
   "execution_count": 37,
   "metadata": {},
   "outputs": [],
   "source": [
    "# Создаем пустую колонку 4\n",
    "temp_df = pd.DataFrame(columns=['4'])\n",
    "df_1_3 = pd.concat([df_1_3,temp_df],axis=1)\n",
    "# переименываем первую колонку\n",
    "df_1_3.rename(columns={'Дополнительная_профессиональная_программа_повышение_квалификации_профессиональная_переподготовка':'Число реализованных программ'},inplace=True)\n"
   ]
  },
  {
   "cell_type": "code",
   "execution_count": 38,
   "metadata": {},
   "outputs": [
    {
     "data": {
      "text/plain": [
       "Дополнительная_профессиональная_программа_повышение_квалификации_профессиональная_переподготовка\n",
       "Повышение квалификации              27\n",
       "Профессиональная переподготовка      9\n",
       "dtype: int64"
      ]
     },
     "execution_count": 38,
     "metadata": {},
     "output_type": "execute_result"
    }
   ],
   "source": [
    "group_quantity_student_program = df_dpo.groupby(['Дополнительная_профессиональная_программа_повышение_квалификации_профессиональная_переподготовка']).size()\n",
    "group_quantity_student_program"
   ]
  },
  {
   "cell_type": "code",
   "execution_count": 39,
   "metadata": {},
   "outputs": [
    {
     "data": {
      "text/html": [
       "<div>\n",
       "<style scoped>\n",
       "    .dataframe tbody tr th:only-of-type {\n",
       "        vertical-align: middle;\n",
       "    }\n",
       "\n",
       "    .dataframe tbody tr th {\n",
       "        vertical-align: top;\n",
       "    }\n",
       "\n",
       "    .dataframe thead th {\n",
       "        text-align: right;\n",
       "    }\n",
       "</style>\n",
       "<table border=\"1\" class=\"dataframe\">\n",
       "  <thead>\n",
       "    <tr style=\"text-align: right;\">\n",
       "      <th></th>\n",
       "      <th>Число реализованных программ</th>\n",
       "      <th>4</th>\n",
       "      <th>Всего слушателей</th>\n",
       "    </tr>\n",
       "  </thead>\n",
       "  <tbody>\n",
       "    <tr>\n",
       "      <th>Повышение квалификации</th>\n",
       "      <td>2</td>\n",
       "      <td>NaN</td>\n",
       "      <td>27</td>\n",
       "    </tr>\n",
       "    <tr>\n",
       "      <th>Профессиональная переподготовка</th>\n",
       "      <td>1</td>\n",
       "      <td>NaN</td>\n",
       "      <td>9</td>\n",
       "    </tr>\n",
       "  </tbody>\n",
       "</table>\n",
       "</div>"
      ],
      "text/plain": [
       "                                  Число реализованных программ    4  \\\n",
       "Повышение квалификации                                       2  NaN   \n",
       "Профессиональная переподготовка                              1  NaN   \n",
       "\n",
       "                                  Всего слушателей  \n",
       "Повышение квалификации                          27  \n",
       "Профессиональная переподготовка                  9  "
      ]
     },
     "execution_count": 39,
     "metadata": {},
     "output_type": "execute_result"
    }
   ],
   "source": [
    "# Добавляем колонку 5- всего слушателей\n",
    "df_1_3['Всего слушателей'] = group_quantity_student_program\n",
    "df_1_3"
   ]
  },
  {
   "cell_type": "code",
   "execution_count": 40,
   "metadata": {},
   "outputs": [],
   "source": [
    "# Подсчет сетевой формы\n",
    "df_dpo_network = df_dpo[df_dpo['Использование_сетевой_формы_обучения'] == 'Сетевая форма']"
   ]
  },
  {
   "cell_type": "code",
   "execution_count": 41,
   "metadata": {},
   "outputs": [],
   "source": [
    "group_quantity_network_program_provisional=df_dpo_network.groupby('Наименование_дополнительной_профессиональной_программы').agg({'Дополнительная_профессиональная_программа_повышение_квалификации_профессиональная_переподготовка':lambda x:','.join(x)})\n",
    "# Применяем к полученной серии функцию разделения по запятой. Предполо\n",
    "group_quantity_network_program_provisional['Дополнительная_профессиональная_программа_повышение_квалификации_профессиональная_переподготовка']=group_quantity_network_program_provisional['Дополнительная_профессиональная_программа_повышение_квалификации_профессиональная_переподготовка'].apply(lambda x: x.split(',')[0])\n",
    "df_1_3['Число программ сетевая форма'] = group_quantity_network_program_provisional['Дополнительная_профессиональная_программа_повышение_квалификации_профессиональная_переподготовка'].value_counts().to_frame()"
   ]
  },
  {
   "cell_type": "code",
   "execution_count": 42,
   "metadata": {},
   "outputs": [
    {
     "data": {
      "text/html": [
       "<div>\n",
       "<style scoped>\n",
       "    .dataframe tbody tr th:only-of-type {\n",
       "        vertical-align: middle;\n",
       "    }\n",
       "\n",
       "    .dataframe tbody tr th {\n",
       "        vertical-align: top;\n",
       "    }\n",
       "\n",
       "    .dataframe thead th {\n",
       "        text-align: right;\n",
       "    }\n",
       "</style>\n",
       "<table border=\"1\" class=\"dataframe\">\n",
       "  <thead>\n",
       "    <tr style=\"text-align: right;\">\n",
       "      <th></th>\n",
       "      <th>Число реализованных программ</th>\n",
       "      <th>4</th>\n",
       "      <th>Всего слушателей</th>\n",
       "      <th>Число программ сетевая форма</th>\n",
       "    </tr>\n",
       "  </thead>\n",
       "  <tbody>\n",
       "    <tr>\n",
       "      <th>Повышение квалификации</th>\n",
       "      <td>2</td>\n",
       "      <td>NaN</td>\n",
       "      <td>27</td>\n",
       "      <td>1</td>\n",
       "    </tr>\n",
       "    <tr>\n",
       "      <th>Профессиональная переподготовка</th>\n",
       "      <td>1</td>\n",
       "      <td>NaN</td>\n",
       "      <td>9</td>\n",
       "      <td>1</td>\n",
       "    </tr>\n",
       "  </tbody>\n",
       "</table>\n",
       "</div>"
      ],
      "text/plain": [
       "                                  Число реализованных программ    4  \\\n",
       "Повышение квалификации                                       2  NaN   \n",
       "Профессиональная переподготовка                              1  NaN   \n",
       "\n",
       "                                  Всего слушателей  \\\n",
       "Повышение квалификации                          27   \n",
       "Профессиональная переподготовка                  9   \n",
       "\n",
       "                                  Число программ сетевая форма  \n",
       "Повышение квалификации                                       1  \n",
       "Профессиональная переподготовка                              1  "
      ]
     },
     "execution_count": 42,
     "metadata": {},
     "output_type": "execute_result"
    }
   ],
   "source": [
    "df_1_3"
   ]
  },
  {
   "cell_type": "code",
   "execution_count": 43,
   "metadata": {},
   "outputs": [],
   "source": [
    "# Считаем число слушателей на сетевых программах\n",
    "df_1_3['Численость слушателей сетевый программ']=df_dpo_network.groupby('Дополнительная_профессиональная_программа_повышение_квалификации_профессиональная_переподготовка').agg({'ФИО_именительный':'count'})"
   ]
  },
  {
   "cell_type": "code",
   "execution_count": 44,
   "metadata": {},
   "outputs": [
    {
     "data": {
      "text/html": [
       "<div>\n",
       "<style scoped>\n",
       "    .dataframe tbody tr th:only-of-type {\n",
       "        vertical-align: middle;\n",
       "    }\n",
       "\n",
       "    .dataframe tbody tr th {\n",
       "        vertical-align: top;\n",
       "    }\n",
       "\n",
       "    .dataframe thead th {\n",
       "        text-align: right;\n",
       "    }\n",
       "</style>\n",
       "<table border=\"1\" class=\"dataframe\">\n",
       "  <thead>\n",
       "    <tr style=\"text-align: right;\">\n",
       "      <th></th>\n",
       "      <th>Число реализованных программ</th>\n",
       "      <th>4</th>\n",
       "      <th>Всего слушателей</th>\n",
       "      <th>Число программ сетевая форма</th>\n",
       "      <th>Численость слушателей сетевый программ</th>\n",
       "    </tr>\n",
       "  </thead>\n",
       "  <tbody>\n",
       "    <tr>\n",
       "      <th>Повышение квалификации</th>\n",
       "      <td>2</td>\n",
       "      <td>NaN</td>\n",
       "      <td>27</td>\n",
       "      <td>1</td>\n",
       "      <td>3</td>\n",
       "    </tr>\n",
       "    <tr>\n",
       "      <th>Профессиональная переподготовка</th>\n",
       "      <td>1</td>\n",
       "      <td>NaN</td>\n",
       "      <td>9</td>\n",
       "      <td>1</td>\n",
       "      <td>9</td>\n",
       "    </tr>\n",
       "  </tbody>\n",
       "</table>\n",
       "</div>"
      ],
      "text/plain": [
       "                                  Число реализованных программ    4  \\\n",
       "Повышение квалификации                                       2  NaN   \n",
       "Профессиональная переподготовка                              1  NaN   \n",
       "\n",
       "                                  Всего слушателей  \\\n",
       "Повышение квалификации                          27   \n",
       "Профессиональная переподготовка                  9   \n",
       "\n",
       "                                  Число программ сетевая форма  \\\n",
       "Повышение квалификации                                       1   \n",
       "Профессиональная переподготовка                              1   \n",
       "\n",
       "                                  Численость слушателей сетевый программ  \n",
       "Повышение квалификации                                                 3  \n",
       "Профессиональная переподготовка                                        9  "
      ]
     },
     "execution_count": 44,
     "metadata": {},
     "output_type": "execute_result"
    }
   ],
   "source": [
    "df_1_3"
   ]
  },
  {
   "cell_type": "code",
   "execution_count": 45,
   "metadata": {},
   "outputs": [],
   "source": [
    "# Добавляем 4 пустых столбца\n",
    "temp_df = pd.DataFrame(columns=['8','9','10','11','12'])\n",
    "df_1_3 = pd.concat([df_1_3,temp_df],axis=1)\n"
   ]
  },
  {
   "cell_type": "code",
   "execution_count": 46,
   "metadata": {},
   "outputs": [
    {
     "data": {
      "text/html": [
       "<div>\n",
       "<style scoped>\n",
       "    .dataframe tbody tr th:only-of-type {\n",
       "        vertical-align: middle;\n",
       "    }\n",
       "\n",
       "    .dataframe tbody tr th {\n",
       "        vertical-align: top;\n",
       "    }\n",
       "\n",
       "    .dataframe thead th {\n",
       "        text-align: right;\n",
       "    }\n",
       "</style>\n",
       "<table border=\"1\" class=\"dataframe\">\n",
       "  <thead>\n",
       "    <tr style=\"text-align: right;\">\n",
       "      <th></th>\n",
       "      <th>Число реализованных программ</th>\n",
       "      <th>4</th>\n",
       "      <th>Всего слушателей</th>\n",
       "      <th>Число программ сетевая форма</th>\n",
       "      <th>Численость слушателей сетевый программ</th>\n",
       "      <th>8</th>\n",
       "      <th>9</th>\n",
       "      <th>10</th>\n",
       "      <th>11</th>\n",
       "      <th>12</th>\n",
       "    </tr>\n",
       "  </thead>\n",
       "  <tbody>\n",
       "    <tr>\n",
       "      <th>Повышение квалификации</th>\n",
       "      <td>2</td>\n",
       "      <td>NaN</td>\n",
       "      <td>27</td>\n",
       "      <td>1</td>\n",
       "      <td>3</td>\n",
       "      <td>NaN</td>\n",
       "      <td>NaN</td>\n",
       "      <td>NaN</td>\n",
       "      <td>NaN</td>\n",
       "      <td>NaN</td>\n",
       "    </tr>\n",
       "    <tr>\n",
       "      <th>Профессиональная переподготовка</th>\n",
       "      <td>1</td>\n",
       "      <td>NaN</td>\n",
       "      <td>9</td>\n",
       "      <td>1</td>\n",
       "      <td>9</td>\n",
       "      <td>NaN</td>\n",
       "      <td>NaN</td>\n",
       "      <td>NaN</td>\n",
       "      <td>NaN</td>\n",
       "      <td>NaN</td>\n",
       "    </tr>\n",
       "  </tbody>\n",
       "</table>\n",
       "</div>"
      ],
      "text/plain": [
       "                                  Число реализованных программ    4  \\\n",
       "Повышение квалификации                                       2  NaN   \n",
       "Профессиональная переподготовка                              1  NaN   \n",
       "\n",
       "                                  Всего слушателей  \\\n",
       "Повышение квалификации                          27   \n",
       "Профессиональная переподготовка                  9   \n",
       "\n",
       "                                  Число программ сетевая форма  \\\n",
       "Повышение квалификации                                       1   \n",
       "Профессиональная переподготовка                              1   \n",
       "\n",
       "                                  Численость слушателей сетевый программ    8  \\\n",
       "Повышение квалификации                                                 3  NaN   \n",
       "Профессиональная переподготовка                                        9  NaN   \n",
       "\n",
       "                                    9   10   11   12  \n",
       "Повышение квалификации            NaN  NaN  NaN  NaN  \n",
       "Профессиональная переподготовка   NaN  NaN  NaN  NaN  "
      ]
     },
     "execution_count": 46,
     "metadata": {},
     "output_type": "execute_result"
    }
   ],
   "source": [
    "df_1_3"
   ]
  },
  {
   "cell_type": "code",
   "execution_count": 47,
   "metadata": {},
   "outputs": [],
   "source": [
    "# Считаем дистанционные технологии\n",
    "df_dpo_distant = df_dpo[df_dpo['Использование_ЭО_или_ДОТ'] != 'Без применения ЭО или ДОТ']\n",
    "group_quantity_distant = df_dpo_distant.groupby('Наименование_дополнительной_профессиональной_программы').agg({'Дополнительная_профессиональная_программа_повышение_квалификации_профессиональная_переподготовка':lambda x:','.join(x)})\n",
    "\n",
    "# Применяем к полученной серии функцию разделения по запятой. \n",
    "group_quantity_distant['Дополнительная_профессиональная_программа_повышение_квалификации_профессиональная_переподготовка']=group_quantity_distant['Дополнительная_профессиональная_программа_повышение_квалификации_профессиональная_переподготовка'].apply(lambda x: x.split(',')[0])\n",
    "df_1_3['Число программ ЭО и ДОТ'] = group_quantity_distant['Дополнительная_профессиональная_программа_повышение_квалификации_профессиональная_переподготовка'].value_counts().to_frame()\n"
   ]
  },
  {
   "cell_type": "code",
   "execution_count": 48,
   "metadata": {},
   "outputs": [
    {
     "data": {
      "text/html": [
       "<div>\n",
       "<style scoped>\n",
       "    .dataframe tbody tr th:only-of-type {\n",
       "        vertical-align: middle;\n",
       "    }\n",
       "\n",
       "    .dataframe tbody tr th {\n",
       "        vertical-align: top;\n",
       "    }\n",
       "\n",
       "    .dataframe thead th {\n",
       "        text-align: right;\n",
       "    }\n",
       "</style>\n",
       "<table border=\"1\" class=\"dataframe\">\n",
       "  <thead>\n",
       "    <tr style=\"text-align: right;\">\n",
       "      <th></th>\n",
       "      <th>Число реализованных программ</th>\n",
       "      <th>4</th>\n",
       "      <th>Всего слушателей</th>\n",
       "      <th>Число программ сетевая форма</th>\n",
       "      <th>Численость слушателей сетевый программ</th>\n",
       "      <th>8</th>\n",
       "      <th>9</th>\n",
       "      <th>10</th>\n",
       "      <th>11</th>\n",
       "      <th>12</th>\n",
       "      <th>Число программ ЭО и ДОТ</th>\n",
       "    </tr>\n",
       "  </thead>\n",
       "  <tbody>\n",
       "    <tr>\n",
       "      <th>Повышение квалификации</th>\n",
       "      <td>2</td>\n",
       "      <td>NaN</td>\n",
       "      <td>27</td>\n",
       "      <td>1</td>\n",
       "      <td>3</td>\n",
       "      <td>NaN</td>\n",
       "      <td>NaN</td>\n",
       "      <td>NaN</td>\n",
       "      <td>NaN</td>\n",
       "      <td>NaN</td>\n",
       "      <td>1</td>\n",
       "    </tr>\n",
       "    <tr>\n",
       "      <th>Профессиональная переподготовка</th>\n",
       "      <td>1</td>\n",
       "      <td>NaN</td>\n",
       "      <td>9</td>\n",
       "      <td>1</td>\n",
       "      <td>9</td>\n",
       "      <td>NaN</td>\n",
       "      <td>NaN</td>\n",
       "      <td>NaN</td>\n",
       "      <td>NaN</td>\n",
       "      <td>NaN</td>\n",
       "      <td>1</td>\n",
       "    </tr>\n",
       "  </tbody>\n",
       "</table>\n",
       "</div>"
      ],
      "text/plain": [
       "                                  Число реализованных программ    4  \\\n",
       "Повышение квалификации                                       2  NaN   \n",
       "Профессиональная переподготовка                              1  NaN   \n",
       "\n",
       "                                  Всего слушателей  \\\n",
       "Повышение квалификации                          27   \n",
       "Профессиональная переподготовка                  9   \n",
       "\n",
       "                                  Число программ сетевая форма  \\\n",
       "Повышение квалификации                                       1   \n",
       "Профессиональная переподготовка                              1   \n",
       "\n",
       "                                  Численость слушателей сетевый программ    8  \\\n",
       "Повышение квалификации                                                 3  NaN   \n",
       "Профессиональная переподготовка                                        9  NaN   \n",
       "\n",
       "                                    9   10   11   12  Число программ ЭО и ДОТ  \n",
       "Повышение квалификации            NaN  NaN  NaN  NaN                        1  \n",
       "Профессиональная переподготовка   NaN  NaN  NaN  NaN                        1  "
      ]
     },
     "execution_count": 48,
     "metadata": {},
     "output_type": "execute_result"
    }
   ],
   "source": [
    "df_1_3"
   ]
  },
  {
   "cell_type": "code",
   "execution_count": 49,
   "metadata": {},
   "outputs": [],
   "source": [
    "#Считаем количество слушателей\n",
    "df_1_3['Численность слушателей ЭО И ДОТ'] = df_dpo_distant.groupby('Дополнительная_профессиональная_программа_повышение_квалификации_профессиональная_переподготовка').agg({'ФИО_именительный':'count'})"
   ]
  },
  {
   "cell_type": "code",
   "execution_count": 50,
   "metadata": {},
   "outputs": [
    {
     "data": {
      "text/html": [
       "<div>\n",
       "<style scoped>\n",
       "    .dataframe tbody tr th:only-of-type {\n",
       "        vertical-align: middle;\n",
       "    }\n",
       "\n",
       "    .dataframe tbody tr th {\n",
       "        vertical-align: top;\n",
       "    }\n",
       "\n",
       "    .dataframe thead th {\n",
       "        text-align: right;\n",
       "    }\n",
       "</style>\n",
       "<table border=\"1\" class=\"dataframe\">\n",
       "  <thead>\n",
       "    <tr style=\"text-align: right;\">\n",
       "      <th></th>\n",
       "      <th>Число реализованных программ</th>\n",
       "      <th>4</th>\n",
       "      <th>Всего слушателей</th>\n",
       "      <th>Число программ сетевая форма</th>\n",
       "      <th>Численость слушателей сетевый программ</th>\n",
       "      <th>8</th>\n",
       "      <th>9</th>\n",
       "      <th>10</th>\n",
       "      <th>11</th>\n",
       "      <th>12</th>\n",
       "      <th>Число программ ЭО и ДОТ</th>\n",
       "      <th>Численность слушателей ЭО И ДОТ</th>\n",
       "    </tr>\n",
       "  </thead>\n",
       "  <tbody>\n",
       "    <tr>\n",
       "      <th>Повышение квалификации</th>\n",
       "      <td>2</td>\n",
       "      <td>NaN</td>\n",
       "      <td>27</td>\n",
       "      <td>1</td>\n",
       "      <td>3</td>\n",
       "      <td>NaN</td>\n",
       "      <td>NaN</td>\n",
       "      <td>NaN</td>\n",
       "      <td>NaN</td>\n",
       "      <td>NaN</td>\n",
       "      <td>1</td>\n",
       "      <td>3</td>\n",
       "    </tr>\n",
       "    <tr>\n",
       "      <th>Профессиональная переподготовка</th>\n",
       "      <td>1</td>\n",
       "      <td>NaN</td>\n",
       "      <td>9</td>\n",
       "      <td>1</td>\n",
       "      <td>9</td>\n",
       "      <td>NaN</td>\n",
       "      <td>NaN</td>\n",
       "      <td>NaN</td>\n",
       "      <td>NaN</td>\n",
       "      <td>NaN</td>\n",
       "      <td>1</td>\n",
       "      <td>9</td>\n",
       "    </tr>\n",
       "  </tbody>\n",
       "</table>\n",
       "</div>"
      ],
      "text/plain": [
       "                                  Число реализованных программ    4  \\\n",
       "Повышение квалификации                                       2  NaN   \n",
       "Профессиональная переподготовка                              1  NaN   \n",
       "\n",
       "                                  Всего слушателей  \\\n",
       "Повышение квалификации                          27   \n",
       "Профессиональная переподготовка                  9   \n",
       "\n",
       "                                  Число программ сетевая форма  \\\n",
       "Повышение квалификации                                       1   \n",
       "Профессиональная переподготовка                              1   \n",
       "\n",
       "                                  Численость слушателей сетевый программ    8  \\\n",
       "Повышение квалификации                                                 3  NaN   \n",
       "Профессиональная переподготовка                                        9  NaN   \n",
       "\n",
       "                                    9   10   11   12  Число программ ЭО и ДОТ  \\\n",
       "Повышение квалификации            NaN  NaN  NaN  NaN                        1   \n",
       "Профессиональная переподготовка   NaN  NaN  NaN  NaN                        1   \n",
       "\n",
       "                                  Численность слушателей ЭО И ДОТ  \n",
       "Повышение квалификации                                          3  \n",
       "Профессиональная переподготовка                                 9  "
      ]
     },
     "execution_count": 50,
     "metadata": {},
     "output_type": "execute_result"
    }
   ],
   "source": [
    "df_1_3"
   ]
  },
  {
   "cell_type": "code",
   "execution_count": 51,
   "metadata": {},
   "outputs": [],
   "source": [
    "# Считаем только тех кто учился на программах исключительно ЭО и ДОТ\n",
    "df_dpo_distant_only_dot = df_dpo_distant[df_dpo_distant['Использование_ЭО_или_ДОТ'] == 'Исключительно с ЭО ли ДОТ' ]\n",
    "df_1_3['Численность слушателей только ЭО и ДОТ'] = df_dpo_distant_only_dot.groupby('Дополнительная_профессиональная_программа_повышение_квалификации_профессиональная_переподготовка').agg({'ФИО_именительный':'count'})"
   ]
  },
  {
   "cell_type": "code",
   "execution_count": 52,
   "metadata": {},
   "outputs": [],
   "source": [
    "finish_df_1_3 = df_1_3.reset_index()"
   ]
  },
  {
   "cell_type": "code",
   "execution_count": 53,
   "metadata": {},
   "outputs": [
    {
     "data": {
      "text/html": [
       "<div>\n",
       "<style scoped>\n",
       "    .dataframe tbody tr th:only-of-type {\n",
       "        vertical-align: middle;\n",
       "    }\n",
       "\n",
       "    .dataframe tbody tr th {\n",
       "        vertical-align: top;\n",
       "    }\n",
       "\n",
       "    .dataframe thead th {\n",
       "        text-align: right;\n",
       "    }\n",
       "</style>\n",
       "<table border=\"1\" class=\"dataframe\">\n",
       "  <thead>\n",
       "    <tr style=\"text-align: right;\">\n",
       "      <th></th>\n",
       "      <th>index</th>\n",
       "      <th>Число реализованных программ</th>\n",
       "      <th>4</th>\n",
       "      <th>Всего слушателей</th>\n",
       "      <th>Число программ сетевая форма</th>\n",
       "      <th>Численость слушателей сетевый программ</th>\n",
       "      <th>8</th>\n",
       "      <th>9</th>\n",
       "      <th>10</th>\n",
       "      <th>11</th>\n",
       "      <th>12</th>\n",
       "      <th>Число программ ЭО и ДОТ</th>\n",
       "      <th>Численность слушателей ЭО И ДОТ</th>\n",
       "      <th>Численность слушателей только ЭО и ДОТ</th>\n",
       "    </tr>\n",
       "  </thead>\n",
       "  <tbody>\n",
       "    <tr>\n",
       "      <th>0</th>\n",
       "      <td>Повышение квалификации</td>\n",
       "      <td>2</td>\n",
       "      <td>NaN</td>\n",
       "      <td>27</td>\n",
       "      <td>1</td>\n",
       "      <td>3</td>\n",
       "      <td>NaN</td>\n",
       "      <td>NaN</td>\n",
       "      <td>NaN</td>\n",
       "      <td>NaN</td>\n",
       "      <td>NaN</td>\n",
       "      <td>1</td>\n",
       "      <td>3</td>\n",
       "      <td>NaN</td>\n",
       "    </tr>\n",
       "    <tr>\n",
       "      <th>1</th>\n",
       "      <td>Профессиональная переподготовка</td>\n",
       "      <td>1</td>\n",
       "      <td>NaN</td>\n",
       "      <td>9</td>\n",
       "      <td>1</td>\n",
       "      <td>9</td>\n",
       "      <td>NaN</td>\n",
       "      <td>NaN</td>\n",
       "      <td>NaN</td>\n",
       "      <td>NaN</td>\n",
       "      <td>NaN</td>\n",
       "      <td>1</td>\n",
       "      <td>9</td>\n",
       "      <td>NaN</td>\n",
       "    </tr>\n",
       "  </tbody>\n",
       "</table>\n",
       "</div>"
      ],
      "text/plain": [
       "                              index  Число реализованных программ    4  \\\n",
       "0            Повышение квалификации                             2  NaN   \n",
       "1  Профессиональная переподготовка                              1  NaN   \n",
       "\n",
       "   Всего слушателей  Число программ сетевая форма  \\\n",
       "0                27                             1   \n",
       "1                 9                             1   \n",
       "\n",
       "   Численость слушателей сетевый программ    8    9   10   11   12  \\\n",
       "0                                       3  NaN  NaN  NaN  NaN  NaN   \n",
       "1                                       9  NaN  NaN  NaN  NaN  NaN   \n",
       "\n",
       "   Число программ ЭО и ДОТ  Численность слушателей ЭО И ДОТ  \\\n",
       "0                        1                                3   \n",
       "1                        1                                9   \n",
       "\n",
       "   Численность слушателей только ЭО и ДОТ  \n",
       "0                                     NaN  \n",
       "1                                     NaN  "
      ]
     },
     "execution_count": 53,
     "metadata": {},
     "output_type": "execute_result"
    }
   ],
   "source": [
    "finish_df_1_3"
   ]
  },
  {
   "cell_type": "code",
   "execution_count": 54,
   "metadata": {},
   "outputs": [],
   "source": [
    "finish_df_1_3.columns= ['Наименование образовательных программ','Число реализованных образовательных программ всего,единиц','из них прошли профессионально-общественную аккредитацию',\n",
    "                'Всего слушателей, обученных по программам, человек','число программ(из графы 3) реализованных с использованием сетевой формы',\n",
    "                'численность слушателей обученных(из графы 5) по программам с использованием сетевой формы-всего',\n",
    "                 'в том числе(из графы 7) с использованием ресурсов иностранных организаций','общее число заключенных договоров с организациями на реализацию образовательных программ с использованием сетевой формы',\n",
    "                 'из них число заключенных договоров(из графы 9) с использованием ресурсов иностранных организаций','число организаций с которыми заключены договоры  на реализацию образовательных программ с использованием сетевой формы',\n",
    "                'в том числе(из графы 11) число иностранных организаций','число программ(из графы 3),реализованных с применением ЭО или ДОТ','Численность слушателей обученных(из графы 5) по программам с применением ЭО и ДОТ',\n",
    "                 'в том числе(из графы 14) с применением исключительно ЭО и ДОТ']"
   ]
  },
  {
   "cell_type": "code",
   "execution_count": 55,
   "metadata": {},
   "outputs": [
    {
     "data": {
      "text/html": [
       "<div>\n",
       "<style scoped>\n",
       "    .dataframe tbody tr th:only-of-type {\n",
       "        vertical-align: middle;\n",
       "    }\n",
       "\n",
       "    .dataframe tbody tr th {\n",
       "        vertical-align: top;\n",
       "    }\n",
       "\n",
       "    .dataframe thead th {\n",
       "        text-align: right;\n",
       "    }\n",
       "</style>\n",
       "<table border=\"1\" class=\"dataframe\">\n",
       "  <thead>\n",
       "    <tr style=\"text-align: right;\">\n",
       "      <th></th>\n",
       "      <th>Наименование образовательных программ</th>\n",
       "      <th>Число реализованных образовательных программ всего,единиц</th>\n",
       "      <th>из них прошли профессионально-общественную аккредитацию</th>\n",
       "      <th>Всего слушателей, обученных по программам, человек</th>\n",
       "      <th>число программ(из графы 3) реализованных с использованием сетевой формы</th>\n",
       "      <th>численность слушателей обученных(из графы 5) по программам с использованием сетевой формы-всего</th>\n",
       "      <th>в том числе(из графы 7) с использованием ресурсов иностранных организаций</th>\n",
       "      <th>общее число заключенных договоров с организациями на реализацию образовательных программ с использованием сетевой формы</th>\n",
       "      <th>из них число заключенных договоров(из графы 9) с использованием ресурсов иностранных организаций</th>\n",
       "      <th>число организаций с которыми заключены договоры  на реализацию образовательных программ с использованием сетевой формы</th>\n",
       "      <th>в том числе(из графы 11) число иностранных организаций</th>\n",
       "      <th>число программ(из графы 3),реализованных с применением ЭО или ДОТ</th>\n",
       "      <th>Численность слушателей обученных(из графы 5) по программам с применением ЭО и ДОТ</th>\n",
       "      <th>в том числе(из графы 14) с применением исключительно ЭО и ДОТ</th>\n",
       "    </tr>\n",
       "  </thead>\n",
       "  <tbody>\n",
       "    <tr>\n",
       "      <th>0</th>\n",
       "      <td>Повышение квалификации</td>\n",
       "      <td>2</td>\n",
       "      <td>NaN</td>\n",
       "      <td>27</td>\n",
       "      <td>1</td>\n",
       "      <td>3</td>\n",
       "      <td>NaN</td>\n",
       "      <td>NaN</td>\n",
       "      <td>NaN</td>\n",
       "      <td>NaN</td>\n",
       "      <td>NaN</td>\n",
       "      <td>1</td>\n",
       "      <td>3</td>\n",
       "      <td>NaN</td>\n",
       "    </tr>\n",
       "    <tr>\n",
       "      <th>1</th>\n",
       "      <td>Профессиональная переподготовка</td>\n",
       "      <td>1</td>\n",
       "      <td>NaN</td>\n",
       "      <td>9</td>\n",
       "      <td>1</td>\n",
       "      <td>9</td>\n",
       "      <td>NaN</td>\n",
       "      <td>NaN</td>\n",
       "      <td>NaN</td>\n",
       "      <td>NaN</td>\n",
       "      <td>NaN</td>\n",
       "      <td>1</td>\n",
       "      <td>9</td>\n",
       "      <td>NaN</td>\n",
       "    </tr>\n",
       "  </tbody>\n",
       "</table>\n",
       "</div>"
      ],
      "text/plain": [
       "  Наименование образовательных программ  \\\n",
       "0                Повышение квалификации   \n",
       "1      Профессиональная переподготовка    \n",
       "\n",
       "   Число реализованных образовательных программ всего,единиц  \\\n",
       "0                                                  2           \n",
       "1                                                  1           \n",
       "\n",
       "  из них прошли профессионально-общественную аккредитацию  \\\n",
       "0                                                NaN        \n",
       "1                                                NaN        \n",
       "\n",
       "   Всего слушателей, обученных по программам, человек  \\\n",
       "0                                                 27    \n",
       "1                                                  9    \n",
       "\n",
       "   число программ(из графы 3) реализованных с использованием сетевой формы  \\\n",
       "0                                                  1                         \n",
       "1                                                  1                         \n",
       "\n",
       "   численность слушателей обученных(из графы 5) по программам с использованием сетевой формы-всего  \\\n",
       "0                                                  3                                                 \n",
       "1                                                  9                                                 \n",
       "\n",
       "  в том числе(из графы 7) с использованием ресурсов иностранных организаций  \\\n",
       "0                                                NaN                          \n",
       "1                                                NaN                          \n",
       "\n",
       "  общее число заключенных договоров с организациями на реализацию образовательных программ с использованием сетевой формы  \\\n",
       "0                                                NaN                                                                        \n",
       "1                                                NaN                                                                        \n",
       "\n",
       "  из них число заключенных договоров(из графы 9) с использованием ресурсов иностранных организаций  \\\n",
       "0                                                NaN                                                 \n",
       "1                                                NaN                                                 \n",
       "\n",
       "  число организаций с которыми заключены договоры  на реализацию образовательных программ с использованием сетевой формы  \\\n",
       "0                                                NaN                                                                       \n",
       "1                                                NaN                                                                       \n",
       "\n",
       "  в том числе(из графы 11) число иностранных организаций  \\\n",
       "0                                                NaN       \n",
       "1                                                NaN       \n",
       "\n",
       "   число программ(из графы 3),реализованных с применением ЭО или ДОТ  \\\n",
       "0                                                  1                   \n",
       "1                                                  1                   \n",
       "\n",
       "   Численность слушателей обученных(из графы 5) по программам с применением ЭО и ДОТ  \\\n",
       "0                                                  3                                   \n",
       "1                                                  9                                   \n",
       "\n",
       "   в том числе(из графы 14) с применением исключительно ЭО и ДОТ  \n",
       "0                                                NaN              \n",
       "1                                                NaN              "
      ]
     },
     "execution_count": 55,
     "metadata": {},
     "output_type": "execute_result"
    }
   ],
   "source": [
    "finish_df_1_3"
   ]
  },
  {
   "cell_type": "code",
   "execution_count": 56,
   "metadata": {},
   "outputs": [
    {
     "data": {
      "text/plain": [
       "<Worksheet \"Раздел 1.3\">"
      ]
     },
     "execution_count": 56,
     "metadata": {},
     "output_type": "execute_result"
    }
   ],
   "source": [
    "# Создаем файл excel\n",
    "wb = openpyxl.Workbook()\n",
    "# Создаем лист раздела 1.3\n",
    "wb.create_sheet(title='Раздел 1.3',index=0)\n",
    "\n"
   ]
  },
  {
   "cell_type": "code",
   "execution_count": 57,
   "metadata": {},
   "outputs": [],
   "source": [
    "for r in dataframe_to_rows(finish_df_1_3, index=False, header=True):\n",
    "    wb['Раздел 1.3'].append(r)"
   ]
  },
  {
   "cell_type": "code",
   "execution_count": 58,
   "metadata": {},
   "outputs": [],
   "source": [
    "wb.save('Раздел 1.3.xlsx')"
   ]
  },
  {
   "cell_type": "code",
   "execution_count": null,
   "metadata": {},
   "outputs": [],
   "source": []
  },
  {
   "cell_type": "code",
   "execution_count": 59,
   "metadata": {},
   "outputs": [],
   "source": [
    "# Раздел 2.4\n"
   ]
  },
  {
   "cell_type": "code",
   "execution_count": 62,
   "metadata": {},
   "outputs": [],
   "source": [
    "finish_df2_4=pd.pivot_table(df_dpo,index=['Дополнительная_профессиональная_программа_повышение_квалификации_профессиональная_переподготовка','Пол_получателя'],\n",
    "              columns=['Возрастная_категория_1ПК'],\n",
    "               values=['ФИО_именительный'],\n",
    "              aggfunc='count')"
   ]
  },
  {
   "cell_type": "code",
   "execution_count": 65,
   "metadata": {},
   "outputs": [
    {
     "data": {
      "text/plain": [
       "MultiIndex([('ФИО_именительный',         '30-34'),\n",
       "            ('ФИО_именительный',         '35-39'),\n",
       "            ('ФИО_именительный',         '40-44'),\n",
       "            ('ФИО_именительный',         '45-49'),\n",
       "            ('ФИО_именительный',         '50-54'),\n",
       "            ('ФИО_именительный',         '55-59'),\n",
       "            ('ФИО_именительный',         '60-64'),\n",
       "            ('ФИО_именительный', 'моложе 25 лет')],\n",
       "           names=[None, 'Возрастная_категория_1ПК'])"
      ]
     },
     "execution_count": 65,
     "metadata": {},
     "output_type": "execute_result"
    }
   ],
   "source": [
    "finish_df2_4.columns"
   ]
  },
  {
   "cell_type": "code",
   "execution_count": 63,
   "metadata": {},
   "outputs": [],
   "source": [
    "finish_df2_4.to_excel('2.4.xlsx')"
   ]
  },
  {
   "cell_type": "code",
   "execution_count": 61,
   "metadata": {},
   "outputs": [
    {
     "data": {
      "text/html": [
       "<div>\n",
       "<style scoped>\n",
       "    .dataframe tbody tr th:only-of-type {\n",
       "        vertical-align: middle;\n",
       "    }\n",
       "\n",
       "    .dataframe tbody tr th {\n",
       "        vertical-align: top;\n",
       "    }\n",
       "\n",
       "    .dataframe thead th {\n",
       "        text-align: right;\n",
       "    }\n",
       "</style>\n",
       "<table border=\"1\" class=\"dataframe\">\n",
       "  <thead>\n",
       "    <tr style=\"text-align: right;\">\n",
       "      <th></th>\n",
       "      <th></th>\n",
       "      <th>ФИО_именительный</th>\n",
       "    </tr>\n",
       "    <tr>\n",
       "      <th>Дополнительная_профессиональная_программа_повышение_квалификации_профессиональная_переподготовка</th>\n",
       "      <th>Пол_получателя</th>\n",
       "      <th></th>\n",
       "    </tr>\n",
       "  </thead>\n",
       "  <tbody>\n",
       "    <tr>\n",
       "      <th rowspan=\"2\" valign=\"top\">Повышение квалификации</th>\n",
       "      <th>Жен</th>\n",
       "      <td>21</td>\n",
       "    </tr>\n",
       "    <tr>\n",
       "      <th>Муж</th>\n",
       "      <td>6</td>\n",
       "    </tr>\n",
       "    <tr>\n",
       "      <th rowspan=\"2\" valign=\"top\">Профессиональная переподготовка</th>\n",
       "      <th>Жен</th>\n",
       "      <td>7</td>\n",
       "    </tr>\n",
       "    <tr>\n",
       "      <th>Муж</th>\n",
       "      <td>2</td>\n",
       "    </tr>\n",
       "  </tbody>\n",
       "</table>\n",
       "</div>"
      ],
      "text/plain": [
       "                                                                   ФИО_именительный\n",
       "Дополнительная_профессиональная_программа_повыш... Пол_получателя                  \n",
       "Повышение квалификации                             Жен                           21\n",
       "                                                   Муж                            6\n",
       "Профессиональная переподготовка                    Жен                            7\n",
       "                                                   Муж                            2"
      ]
     },
     "execution_count": 61,
     "metadata": {},
     "output_type": "execute_result"
    }
   ],
   "source": [
    "pd.pivot_table(df_dpo,index=['Дополнительная_профессиональная_программа_повышение_квалификации_профессиональная_переподготовка','Пол_получателя'],\n",
    "              values=['ФИО_именительный'],\n",
    "              aggfunc='count')"
   ]
  },
  {
   "cell_type": "code",
   "execution_count": 69,
   "metadata": {},
   "outputs": [
    {
     "data": {
      "text/plain": [
       "(36,)"
      ]
     },
     "execution_count": 69,
     "metadata": {},
     "output_type": "execute_result"
    }
   ],
   "source": [
    "# Общее количество\n",
    "df_dpo['ФИО_именительный'].shape"
   ]
  },
  {
   "cell_type": "code",
   "execution_count": 72,
   "metadata": {},
   "outputs": [
    {
     "data": {
      "text/html": [
       "<div>\n",
       "<style scoped>\n",
       "    .dataframe tbody tr th:only-of-type {\n",
       "        vertical-align: middle;\n",
       "    }\n",
       "\n",
       "    .dataframe tbody tr th {\n",
       "        vertical-align: top;\n",
       "    }\n",
       "\n",
       "    .dataframe thead th {\n",
       "        text-align: right;\n",
       "    }\n",
       "</style>\n",
       "<table border=\"1\" class=\"dataframe\">\n",
       "  <thead>\n",
       "    <tr style=\"text-align: right;\">\n",
       "      <th></th>\n",
       "      <th>ФИО_именительный</th>\n",
       "    </tr>\n",
       "    <tr>\n",
       "      <th>Возрастная_категория_1ПК</th>\n",
       "      <th></th>\n",
       "    </tr>\n",
       "  </thead>\n",
       "  <tbody>\n",
       "    <tr>\n",
       "      <th>30-34</th>\n",
       "      <td>4</td>\n",
       "    </tr>\n",
       "    <tr>\n",
       "      <th>35-39</th>\n",
       "      <td>2</td>\n",
       "    </tr>\n",
       "    <tr>\n",
       "      <th>40-44</th>\n",
       "      <td>7</td>\n",
       "    </tr>\n",
       "    <tr>\n",
       "      <th>45-49</th>\n",
       "      <td>8</td>\n",
       "    </tr>\n",
       "    <tr>\n",
       "      <th>50-54</th>\n",
       "      <td>5</td>\n",
       "    </tr>\n",
       "    <tr>\n",
       "      <th>55-59</th>\n",
       "      <td>3</td>\n",
       "    </tr>\n",
       "    <tr>\n",
       "      <th>60-64</th>\n",
       "      <td>6</td>\n",
       "    </tr>\n",
       "    <tr>\n",
       "      <th>моложе 25 лет</th>\n",
       "      <td>1</td>\n",
       "    </tr>\n",
       "  </tbody>\n",
       "</table>\n",
       "</div>"
      ],
      "text/plain": [
       "                          ФИО_именительный\n",
       "Возрастная_категория_1ПК                  \n",
       "30-34                                    4\n",
       "35-39                                    2\n",
       "40-44                                    7\n",
       "45-49                                    8\n",
       "50-54                                    5\n",
       "55-59                                    3\n",
       "60-64                                    6\n",
       "моложе 25 лет                            1"
      ]
     },
     "execution_count": 72,
     "metadata": {},
     "output_type": "execute_result"
    }
   ],
   "source": [
    "df_dpo.groupby('Возрастная_категория_1ПК').agg({'ФИО_именительный':'count'})"
   ]
  },
  {
   "cell_type": "code",
   "execution_count": 74,
   "metadata": {},
   "outputs": [
    {
     "data": {
      "text/plain": [
       "                  Возрастная_категория_1ПК\n",
       "ФИО_именительный  30-34                       4\n",
       "                  35-39                       2\n",
       "                  40-44                       7\n",
       "                  45-49                       8\n",
       "                  50-54                       5\n",
       "                  55-59                       3\n",
       "                  60-64                       6\n",
       "                  моложе 25 лет               1\n",
       "dtype: int64"
      ]
     },
     "execution_count": 74,
     "metadata": {},
     "output_type": "execute_result"
    }
   ],
   "source": [
    "df_dpo.groupby('Возрастная_категория_1ПК').agg({'ФИО_именительный':'count'}).unstack()"
   ]
  },
  {
   "cell_type": "code",
   "execution_count": null,
   "metadata": {},
   "outputs": [],
   "source": []
  }
 ],
 "metadata": {
  "kernelspec": {
   "display_name": "Python 3 (ipykernel)",
   "language": "python",
   "name": "python3"
  },
  "language_info": {
   "codemirror_mode": {
    "name": "ipython",
    "version": 3
   },
   "file_extension": ".py",
   "mimetype": "text/x-python",
   "name": "python",
   "nbconvert_exporter": "python",
   "pygments_lexer": "ipython3",
   "version": "3.9.7"
  },
  "varInspector": {
   "cols": {
    "lenName": 16,
    "lenType": 16,
    "lenVar": 40
   },
   "kernels_config": {
    "python": {
     "delete_cmd_postfix": "",
     "delete_cmd_prefix": "del ",
     "library": "var_list.py",
     "varRefreshCmd": "print(var_dic_list())"
    },
    "r": {
     "delete_cmd_postfix": ") ",
     "delete_cmd_prefix": "rm(",
     "library": "var_list.r",
     "varRefreshCmd": "cat(var_dic_list()) "
    }
   },
   "types_to_exclude": [
    "module",
    "function",
    "builtin_function_or_method",
    "instance",
    "_Feature"
   ],
   "window_display": false
  }
 },
 "nbformat": 4,
 "nbformat_minor": 4
}
