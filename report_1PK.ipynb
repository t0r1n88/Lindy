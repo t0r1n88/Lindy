{
 "cells": [
  {
   "cell_type": "code",
   "execution_count": 1837,
   "metadata": {},
   "outputs": [],
   "source": [
    "import pandas as pd\n",
    "import numpy as np\n",
    "import openpyxl\n",
    "from openpyxl.utils.dataframe import dataframe_to_rows\n",
    "from openpyxl.styles import Font\n",
    "import time"
   ]
  },
  {
   "cell_type": "code",
   "execution_count": 1838,
   "metadata": {},
   "outputs": [],
   "source": [
    "name_file_data_report = 'Общая таблица слушателей ЦОПП.xlsx' \n",
    "path_to_end_folder_report = 'data'"
   ]
  },
  {
   "cell_type": "code",
   "execution_count": null,
   "metadata": {},
   "outputs": [],
   "source": []
  },
  {
   "cell_type": "code",
   "execution_count": 1839,
   "metadata": {},
   "outputs": [],
   "source": [
    "df_dpo = pd.read_excel(name_file_data_report,sheet_name='ДПО')"
   ]
  },
  {
   "cell_type": "code",
   "execution_count": 1840,
   "metadata": {},
   "outputs": [],
   "source": [
    "#Создаем шрифт которым будем выделять названия таблиц\n",
    "font_name_table = Font(name='Arial Black',size=15,italic=True)"
   ]
  },
  {
   "cell_type": "code",
   "execution_count": null,
   "metadata": {},
   "outputs": [],
   "source": []
  },
  {
   "cell_type": "code",
   "execution_count": null,
   "metadata": {},
   "outputs": [],
   "source": []
  },
  {
   "cell_type": "code",
   "execution_count": 1841,
   "metadata": {},
   "outputs": [],
   "source": [
    "# Раздел 1.3\n",
    "# Количество программ по каждому виду обучения\n",
    "# группируем. Так как нам нужны текстовые данные то применяем создаем строку с помощью join\n",
    "quantity_program_on_type_provisional =df_dpo.groupby('Наименование_дополнительной_профессиональной_программы').agg({'Дополнительная_профессиональная_программа_повышение_квалификации_профессиональная_переподготовка':lambda x:','.join(x)})\n",
    "\n",
    "# Применяем к полученной серии функцию разделения по запятой. Предполо\n",
    "quantity_program_on_type_provisional['Дополнительная_профессиональная_программа_повышение_квалификации_профессиональная_переподготовка']=quantity_program_on_type_provisional['Дополнительная_профессиональная_программа_повышение_квалификации_профессиональная_переподготовка'].apply(lambda x: x.split(',')[0])\n",
    "\n",
    "df_1_3=quantity_program_on_type_provisional['Дополнительная_профессиональная_программа_повышение_квалификации_профессиональная_переподготовка'].value_counts().to_frame()\n",
    "# Раздел 1.3"
   ]
  },
  {
   "cell_type": "code",
   "execution_count": 1842,
   "metadata": {},
   "outputs": [],
   "source": [
    "# Создаем пустую колонку 4\n",
    "temp_df = pd.DataFrame(columns=['4'])\n",
    "df_1_3 = pd.concat([df_1_3,temp_df],axis=1)\n",
    "# переименываем первую колонку\n",
    "df_1_3.rename(columns={'Дополнительная_профессиональная_программа_повышение_квалификации_профессиональная_переподготовка':'Число реализованных программ'},inplace=True)\n"
   ]
  },
  {
   "cell_type": "code",
   "execution_count": 1843,
   "metadata": {},
   "outputs": [
    {
     "data": {
      "text/plain": [
       "Дополнительная_профессиональная_программа_повышение_квалификации_профессиональная_переподготовка\n",
       "Повышение квалификации             27\n",
       "Профессиональная переподготовка     9\n",
       "dtype: int64"
      ]
     },
     "execution_count": 1843,
     "metadata": {},
     "output_type": "execute_result"
    }
   ],
   "source": [
    "group_quantity_student_program = df_dpo.groupby(['Дополнительная_профессиональная_программа_повышение_квалификации_профессиональная_переподготовка']).size()\n",
    "group_quantity_student_program"
   ]
  },
  {
   "cell_type": "code",
   "execution_count": 1844,
   "metadata": {},
   "outputs": [
    {
     "data": {
      "text/html": [
       "<div>\n",
       "<style scoped>\n",
       "    .dataframe tbody tr th:only-of-type {\n",
       "        vertical-align: middle;\n",
       "    }\n",
       "\n",
       "    .dataframe tbody tr th {\n",
       "        vertical-align: top;\n",
       "    }\n",
       "\n",
       "    .dataframe thead th {\n",
       "        text-align: right;\n",
       "    }\n",
       "</style>\n",
       "<table border=\"1\" class=\"dataframe\">\n",
       "  <thead>\n",
       "    <tr style=\"text-align: right;\">\n",
       "      <th></th>\n",
       "      <th>Число реализованных программ</th>\n",
       "      <th>4</th>\n",
       "      <th>Всего слушателей</th>\n",
       "    </tr>\n",
       "  </thead>\n",
       "  <tbody>\n",
       "    <tr>\n",
       "      <th>Повышение квалификации</th>\n",
       "      <td>2</td>\n",
       "      <td>NaN</td>\n",
       "      <td>27</td>\n",
       "    </tr>\n",
       "    <tr>\n",
       "      <th>Профессиональная переподготовка</th>\n",
       "      <td>1</td>\n",
       "      <td>NaN</td>\n",
       "      <td>9</td>\n",
       "    </tr>\n",
       "  </tbody>\n",
       "</table>\n",
       "</div>"
      ],
      "text/plain": [
       "                                 Число реализованных программ    4  \\\n",
       "Повышение квалификации                                      2  NaN   \n",
       "Профессиональная переподготовка                             1  NaN   \n",
       "\n",
       "                                 Всего слушателей  \n",
       "Повышение квалификации                         27  \n",
       "Профессиональная переподготовка                 9  "
      ]
     },
     "execution_count": 1844,
     "metadata": {},
     "output_type": "execute_result"
    }
   ],
   "source": [
    "# Добавляем колонку 5- всего слушателей\n",
    "df_1_3['Всего слушателей'] = group_quantity_student_program\n",
    "df_1_3"
   ]
  },
  {
   "cell_type": "code",
   "execution_count": 1845,
   "metadata": {},
   "outputs": [],
   "source": [
    "# Подсчет сетевой формы\n",
    "df_dpo_network = df_dpo[df_dpo['Использование_сетевой_формы_обучения'] == 'Сетевая форма']"
   ]
  },
  {
   "cell_type": "code",
   "execution_count": 1846,
   "metadata": {},
   "outputs": [],
   "source": [
    "group_quantity_network_program_provisional=df_dpo_network.groupby('Наименование_дополнительной_профессиональной_программы').agg({'Дополнительная_профессиональная_программа_повышение_квалификации_профессиональная_переподготовка':lambda x:','.join(x)})\n",
    "# Применяем к полученной серии функцию разделения по запятой. Предполо\n",
    "group_quantity_network_program_provisional['Дополнительная_профессиональная_программа_повышение_квалификации_профессиональная_переподготовка']=group_quantity_network_program_provisional['Дополнительная_профессиональная_программа_повышение_квалификации_профессиональная_переподготовка'].apply(lambda x: x.split(',')[0])\n",
    "df_1_3['Число программ сетевая форма'] = group_quantity_network_program_provisional['Дополнительная_профессиональная_программа_повышение_квалификации_профессиональная_переподготовка'].value_counts().to_frame()"
   ]
  },
  {
   "cell_type": "code",
   "execution_count": 1847,
   "metadata": {},
   "outputs": [
    {
     "data": {
      "text/html": [
       "<div>\n",
       "<style scoped>\n",
       "    .dataframe tbody tr th:only-of-type {\n",
       "        vertical-align: middle;\n",
       "    }\n",
       "\n",
       "    .dataframe tbody tr th {\n",
       "        vertical-align: top;\n",
       "    }\n",
       "\n",
       "    .dataframe thead th {\n",
       "        text-align: right;\n",
       "    }\n",
       "</style>\n",
       "<table border=\"1\" class=\"dataframe\">\n",
       "  <thead>\n",
       "    <tr style=\"text-align: right;\">\n",
       "      <th></th>\n",
       "      <th>Число реализованных программ</th>\n",
       "      <th>4</th>\n",
       "      <th>Всего слушателей</th>\n",
       "      <th>Число программ сетевая форма</th>\n",
       "    </tr>\n",
       "  </thead>\n",
       "  <tbody>\n",
       "    <tr>\n",
       "      <th>Повышение квалификации</th>\n",
       "      <td>2</td>\n",
       "      <td>NaN</td>\n",
       "      <td>27</td>\n",
       "      <td>1</td>\n",
       "    </tr>\n",
       "    <tr>\n",
       "      <th>Профессиональная переподготовка</th>\n",
       "      <td>1</td>\n",
       "      <td>NaN</td>\n",
       "      <td>9</td>\n",
       "      <td>1</td>\n",
       "    </tr>\n",
       "  </tbody>\n",
       "</table>\n",
       "</div>"
      ],
      "text/plain": [
       "                                 Число реализованных программ    4  \\\n",
       "Повышение квалификации                                      2  NaN   \n",
       "Профессиональная переподготовка                             1  NaN   \n",
       "\n",
       "                                 Всего слушателей  \\\n",
       "Повышение квалификации                         27   \n",
       "Профессиональная переподготовка                 9   \n",
       "\n",
       "                                 Число программ сетевая форма  \n",
       "Повышение квалификации                                      1  \n",
       "Профессиональная переподготовка                             1  "
      ]
     },
     "execution_count": 1847,
     "metadata": {},
     "output_type": "execute_result"
    }
   ],
   "source": [
    "df_1_3"
   ]
  },
  {
   "cell_type": "code",
   "execution_count": 1848,
   "metadata": {},
   "outputs": [],
   "source": [
    "# Считаем число слушателей на сетевых программах\n",
    "df_1_3['Численость слушателей сетевый программ']=df_dpo_network.groupby('Дополнительная_профессиональная_программа_повышение_квалификации_профессиональная_переподготовка').agg({'ФИО_именительный':'count'})"
   ]
  },
  {
   "cell_type": "code",
   "execution_count": 1849,
   "metadata": {},
   "outputs": [
    {
     "data": {
      "text/html": [
       "<div>\n",
       "<style scoped>\n",
       "    .dataframe tbody tr th:only-of-type {\n",
       "        vertical-align: middle;\n",
       "    }\n",
       "\n",
       "    .dataframe tbody tr th {\n",
       "        vertical-align: top;\n",
       "    }\n",
       "\n",
       "    .dataframe thead th {\n",
       "        text-align: right;\n",
       "    }\n",
       "</style>\n",
       "<table border=\"1\" class=\"dataframe\">\n",
       "  <thead>\n",
       "    <tr style=\"text-align: right;\">\n",
       "      <th></th>\n",
       "      <th>Число реализованных программ</th>\n",
       "      <th>4</th>\n",
       "      <th>Всего слушателей</th>\n",
       "      <th>Число программ сетевая форма</th>\n",
       "      <th>Численость слушателей сетевый программ</th>\n",
       "    </tr>\n",
       "  </thead>\n",
       "  <tbody>\n",
       "    <tr>\n",
       "      <th>Повышение квалификации</th>\n",
       "      <td>2</td>\n",
       "      <td>NaN</td>\n",
       "      <td>27</td>\n",
       "      <td>1</td>\n",
       "      <td>3</td>\n",
       "    </tr>\n",
       "    <tr>\n",
       "      <th>Профессиональная переподготовка</th>\n",
       "      <td>1</td>\n",
       "      <td>NaN</td>\n",
       "      <td>9</td>\n",
       "      <td>1</td>\n",
       "      <td>9</td>\n",
       "    </tr>\n",
       "  </tbody>\n",
       "</table>\n",
       "</div>"
      ],
      "text/plain": [
       "                                 Число реализованных программ    4  \\\n",
       "Повышение квалификации                                      2  NaN   \n",
       "Профессиональная переподготовка                             1  NaN   \n",
       "\n",
       "                                 Всего слушателей  \\\n",
       "Повышение квалификации                         27   \n",
       "Профессиональная переподготовка                 9   \n",
       "\n",
       "                                 Число программ сетевая форма  \\\n",
       "Повышение квалификации                                      1   \n",
       "Профессиональная переподготовка                             1   \n",
       "\n",
       "                                 Численость слушателей сетевый программ  \n",
       "Повышение квалификации                                                3  \n",
       "Профессиональная переподготовка                                       9  "
      ]
     },
     "execution_count": 1849,
     "metadata": {},
     "output_type": "execute_result"
    }
   ],
   "source": [
    "df_1_3"
   ]
  },
  {
   "cell_type": "code",
   "execution_count": 1850,
   "metadata": {},
   "outputs": [],
   "source": [
    "# Добавляем 4 пустых столбца\n",
    "temp_df = pd.DataFrame(columns=['8','9','10','11','12'])\n",
    "df_1_3 = pd.concat([df_1_3,temp_df],axis=1)\n"
   ]
  },
  {
   "cell_type": "code",
   "execution_count": 1851,
   "metadata": {},
   "outputs": [
    {
     "data": {
      "text/html": [
       "<div>\n",
       "<style scoped>\n",
       "    .dataframe tbody tr th:only-of-type {\n",
       "        vertical-align: middle;\n",
       "    }\n",
       "\n",
       "    .dataframe tbody tr th {\n",
       "        vertical-align: top;\n",
       "    }\n",
       "\n",
       "    .dataframe thead th {\n",
       "        text-align: right;\n",
       "    }\n",
       "</style>\n",
       "<table border=\"1\" class=\"dataframe\">\n",
       "  <thead>\n",
       "    <tr style=\"text-align: right;\">\n",
       "      <th></th>\n",
       "      <th>Число реализованных программ</th>\n",
       "      <th>4</th>\n",
       "      <th>Всего слушателей</th>\n",
       "      <th>Число программ сетевая форма</th>\n",
       "      <th>Численость слушателей сетевый программ</th>\n",
       "      <th>8</th>\n",
       "      <th>9</th>\n",
       "      <th>10</th>\n",
       "      <th>11</th>\n",
       "      <th>12</th>\n",
       "    </tr>\n",
       "  </thead>\n",
       "  <tbody>\n",
       "    <tr>\n",
       "      <th>Повышение квалификации</th>\n",
       "      <td>2</td>\n",
       "      <td>NaN</td>\n",
       "      <td>27</td>\n",
       "      <td>1</td>\n",
       "      <td>3</td>\n",
       "      <td>NaN</td>\n",
       "      <td>NaN</td>\n",
       "      <td>NaN</td>\n",
       "      <td>NaN</td>\n",
       "      <td>NaN</td>\n",
       "    </tr>\n",
       "    <tr>\n",
       "      <th>Профессиональная переподготовка</th>\n",
       "      <td>1</td>\n",
       "      <td>NaN</td>\n",
       "      <td>9</td>\n",
       "      <td>1</td>\n",
       "      <td>9</td>\n",
       "      <td>NaN</td>\n",
       "      <td>NaN</td>\n",
       "      <td>NaN</td>\n",
       "      <td>NaN</td>\n",
       "      <td>NaN</td>\n",
       "    </tr>\n",
       "  </tbody>\n",
       "</table>\n",
       "</div>"
      ],
      "text/plain": [
       "                                 Число реализованных программ    4  \\\n",
       "Повышение квалификации                                      2  NaN   \n",
       "Профессиональная переподготовка                             1  NaN   \n",
       "\n",
       "                                 Всего слушателей  \\\n",
       "Повышение квалификации                         27   \n",
       "Профессиональная переподготовка                 9   \n",
       "\n",
       "                                 Число программ сетевая форма  \\\n",
       "Повышение квалификации                                      1   \n",
       "Профессиональная переподготовка                             1   \n",
       "\n",
       "                                 Численость слушателей сетевый программ    8  \\\n",
       "Повышение квалификации                                                3  NaN   \n",
       "Профессиональная переподготовка                                       9  NaN   \n",
       "\n",
       "                                   9   10   11   12  \n",
       "Повышение квалификации           NaN  NaN  NaN  NaN  \n",
       "Профессиональная переподготовка  NaN  NaN  NaN  NaN  "
      ]
     },
     "execution_count": 1851,
     "metadata": {},
     "output_type": "execute_result"
    }
   ],
   "source": [
    "df_1_3"
   ]
  },
  {
   "cell_type": "code",
   "execution_count": 1852,
   "metadata": {},
   "outputs": [],
   "source": [
    "# Считаем дистанционные технологии\n",
    "df_dpo_distant = df_dpo[df_dpo['Использование_ЭО_или_ДОТ'] != 'Без применения ЭО или ДОТ']\n",
    "group_quantity_distant = df_dpo_distant.groupby('Наименование_дополнительной_профессиональной_программы').agg({'Дополнительная_профессиональная_программа_повышение_квалификации_профессиональная_переподготовка':lambda x:','.join(x)})\n",
    "\n",
    "# Применяем к полученной серии функцию разделения по запятой. \n",
    "group_quantity_distant['Дополнительная_профессиональная_программа_повышение_квалификации_профессиональная_переподготовка']=group_quantity_distant['Дополнительная_профессиональная_программа_повышение_квалификации_профессиональная_переподготовка'].apply(lambda x: x.split(',')[0])\n",
    "df_1_3['Число программ ЭО и ДОТ'] = group_quantity_distant['Дополнительная_профессиональная_программа_повышение_квалификации_профессиональная_переподготовка'].value_counts().to_frame()\n"
   ]
  },
  {
   "cell_type": "code",
   "execution_count": 1853,
   "metadata": {},
   "outputs": [
    {
     "data": {
      "text/html": [
       "<div>\n",
       "<style scoped>\n",
       "    .dataframe tbody tr th:only-of-type {\n",
       "        vertical-align: middle;\n",
       "    }\n",
       "\n",
       "    .dataframe tbody tr th {\n",
       "        vertical-align: top;\n",
       "    }\n",
       "\n",
       "    .dataframe thead th {\n",
       "        text-align: right;\n",
       "    }\n",
       "</style>\n",
       "<table border=\"1\" class=\"dataframe\">\n",
       "  <thead>\n",
       "    <tr style=\"text-align: right;\">\n",
       "      <th></th>\n",
       "      <th>Число реализованных программ</th>\n",
       "      <th>4</th>\n",
       "      <th>Всего слушателей</th>\n",
       "      <th>Число программ сетевая форма</th>\n",
       "      <th>Численость слушателей сетевый программ</th>\n",
       "      <th>8</th>\n",
       "      <th>9</th>\n",
       "      <th>10</th>\n",
       "      <th>11</th>\n",
       "      <th>12</th>\n",
       "      <th>Число программ ЭО и ДОТ</th>\n",
       "    </tr>\n",
       "  </thead>\n",
       "  <tbody>\n",
       "    <tr>\n",
       "      <th>Повышение квалификации</th>\n",
       "      <td>2</td>\n",
       "      <td>NaN</td>\n",
       "      <td>27</td>\n",
       "      <td>1</td>\n",
       "      <td>3</td>\n",
       "      <td>NaN</td>\n",
       "      <td>NaN</td>\n",
       "      <td>NaN</td>\n",
       "      <td>NaN</td>\n",
       "      <td>NaN</td>\n",
       "      <td>2</td>\n",
       "    </tr>\n",
       "    <tr>\n",
       "      <th>Профессиональная переподготовка</th>\n",
       "      <td>1</td>\n",
       "      <td>NaN</td>\n",
       "      <td>9</td>\n",
       "      <td>1</td>\n",
       "      <td>9</td>\n",
       "      <td>NaN</td>\n",
       "      <td>NaN</td>\n",
       "      <td>NaN</td>\n",
       "      <td>NaN</td>\n",
       "      <td>NaN</td>\n",
       "      <td>1</td>\n",
       "    </tr>\n",
       "  </tbody>\n",
       "</table>\n",
       "</div>"
      ],
      "text/plain": [
       "                                 Число реализованных программ    4  \\\n",
       "Повышение квалификации                                      2  NaN   \n",
       "Профессиональная переподготовка                             1  NaN   \n",
       "\n",
       "                                 Всего слушателей  \\\n",
       "Повышение квалификации                         27   \n",
       "Профессиональная переподготовка                 9   \n",
       "\n",
       "                                 Число программ сетевая форма  \\\n",
       "Повышение квалификации                                      1   \n",
       "Профессиональная переподготовка                             1   \n",
       "\n",
       "                                 Численость слушателей сетевый программ    8  \\\n",
       "Повышение квалификации                                                3  NaN   \n",
       "Профессиональная переподготовка                                       9  NaN   \n",
       "\n",
       "                                   9   10   11   12  Число программ ЭО и ДОТ  \n",
       "Повышение квалификации           NaN  NaN  NaN  NaN                        2  \n",
       "Профессиональная переподготовка  NaN  NaN  NaN  NaN                        1  "
      ]
     },
     "execution_count": 1853,
     "metadata": {},
     "output_type": "execute_result"
    }
   ],
   "source": [
    "df_1_3"
   ]
  },
  {
   "cell_type": "code",
   "execution_count": 1854,
   "metadata": {},
   "outputs": [],
   "source": [
    "#Считаем количество слушателей\n",
    "df_1_3['Численность слушателей ЭО И ДОТ'] = df_dpo_distant.groupby('Дополнительная_профессиональная_программа_повышение_квалификации_профессиональная_переподготовка').agg({'ФИО_именительный':'count'})"
   ]
  },
  {
   "cell_type": "code",
   "execution_count": 1855,
   "metadata": {},
   "outputs": [
    {
     "data": {
      "text/html": [
       "<div>\n",
       "<style scoped>\n",
       "    .dataframe tbody tr th:only-of-type {\n",
       "        vertical-align: middle;\n",
       "    }\n",
       "\n",
       "    .dataframe tbody tr th {\n",
       "        vertical-align: top;\n",
       "    }\n",
       "\n",
       "    .dataframe thead th {\n",
       "        text-align: right;\n",
       "    }\n",
       "</style>\n",
       "<table border=\"1\" class=\"dataframe\">\n",
       "  <thead>\n",
       "    <tr style=\"text-align: right;\">\n",
       "      <th></th>\n",
       "      <th>Число реализованных программ</th>\n",
       "      <th>4</th>\n",
       "      <th>Всего слушателей</th>\n",
       "      <th>Число программ сетевая форма</th>\n",
       "      <th>Численость слушателей сетевый программ</th>\n",
       "      <th>8</th>\n",
       "      <th>9</th>\n",
       "      <th>10</th>\n",
       "      <th>11</th>\n",
       "      <th>12</th>\n",
       "      <th>Число программ ЭО и ДОТ</th>\n",
       "      <th>Численность слушателей ЭО И ДОТ</th>\n",
       "    </tr>\n",
       "  </thead>\n",
       "  <tbody>\n",
       "    <tr>\n",
       "      <th>Повышение квалификации</th>\n",
       "      <td>2</td>\n",
       "      <td>NaN</td>\n",
       "      <td>27</td>\n",
       "      <td>1</td>\n",
       "      <td>3</td>\n",
       "      <td>NaN</td>\n",
       "      <td>NaN</td>\n",
       "      <td>NaN</td>\n",
       "      <td>NaN</td>\n",
       "      <td>NaN</td>\n",
       "      <td>2</td>\n",
       "      <td>27</td>\n",
       "    </tr>\n",
       "    <tr>\n",
       "      <th>Профессиональная переподготовка</th>\n",
       "      <td>1</td>\n",
       "      <td>NaN</td>\n",
       "      <td>9</td>\n",
       "      <td>1</td>\n",
       "      <td>9</td>\n",
       "      <td>NaN</td>\n",
       "      <td>NaN</td>\n",
       "      <td>NaN</td>\n",
       "      <td>NaN</td>\n",
       "      <td>NaN</td>\n",
       "      <td>1</td>\n",
       "      <td>9</td>\n",
       "    </tr>\n",
       "  </tbody>\n",
       "</table>\n",
       "</div>"
      ],
      "text/plain": [
       "                                 Число реализованных программ    4  \\\n",
       "Повышение квалификации                                      2  NaN   \n",
       "Профессиональная переподготовка                             1  NaN   \n",
       "\n",
       "                                 Всего слушателей  \\\n",
       "Повышение квалификации                         27   \n",
       "Профессиональная переподготовка                 9   \n",
       "\n",
       "                                 Число программ сетевая форма  \\\n",
       "Повышение квалификации                                      1   \n",
       "Профессиональная переподготовка                             1   \n",
       "\n",
       "                                 Численость слушателей сетевый программ    8  \\\n",
       "Повышение квалификации                                                3  NaN   \n",
       "Профессиональная переподготовка                                       9  NaN   \n",
       "\n",
       "                                   9   10   11   12  Число программ ЭО и ДОТ  \\\n",
       "Повышение квалификации           NaN  NaN  NaN  NaN                        2   \n",
       "Профессиональная переподготовка  NaN  NaN  NaN  NaN                        1   \n",
       "\n",
       "                                 Численность слушателей ЭО И ДОТ  \n",
       "Повышение квалификации                                        27  \n",
       "Профессиональная переподготовка                                9  "
      ]
     },
     "execution_count": 1855,
     "metadata": {},
     "output_type": "execute_result"
    }
   ],
   "source": [
    "df_1_3"
   ]
  },
  {
   "cell_type": "code",
   "execution_count": 1856,
   "metadata": {},
   "outputs": [],
   "source": [
    "# Считаем только тех кто учился на программах исключительно ЭО и ДОТ\n",
    "df_dpo_distant_only_dot = df_dpo_distant[df_dpo_distant['Использование_ЭО_или_ДОТ'] == 'Исключительно с ЭО ли ДОТ' ]\n",
    "df_1_3['Численность слушателей только ЭО и ДОТ'] = df_dpo_distant_only_dot.groupby('Дополнительная_профессиональная_программа_повышение_квалификации_профессиональная_переподготовка').agg({'ФИО_именительный':'count'})"
   ]
  },
  {
   "cell_type": "code",
   "execution_count": 1857,
   "metadata": {},
   "outputs": [],
   "source": [
    "finish_df_1_3 = df_1_3.reset_index()"
   ]
  },
  {
   "cell_type": "code",
   "execution_count": 1858,
   "metadata": {},
   "outputs": [
    {
     "data": {
      "text/html": [
       "<div>\n",
       "<style scoped>\n",
       "    .dataframe tbody tr th:only-of-type {\n",
       "        vertical-align: middle;\n",
       "    }\n",
       "\n",
       "    .dataframe tbody tr th {\n",
       "        vertical-align: top;\n",
       "    }\n",
       "\n",
       "    .dataframe thead th {\n",
       "        text-align: right;\n",
       "    }\n",
       "</style>\n",
       "<table border=\"1\" class=\"dataframe\">\n",
       "  <thead>\n",
       "    <tr style=\"text-align: right;\">\n",
       "      <th></th>\n",
       "      <th>index</th>\n",
       "      <th>Число реализованных программ</th>\n",
       "      <th>4</th>\n",
       "      <th>Всего слушателей</th>\n",
       "      <th>Число программ сетевая форма</th>\n",
       "      <th>Численость слушателей сетевый программ</th>\n",
       "      <th>8</th>\n",
       "      <th>9</th>\n",
       "      <th>10</th>\n",
       "      <th>11</th>\n",
       "      <th>12</th>\n",
       "      <th>Число программ ЭО и ДОТ</th>\n",
       "      <th>Численность слушателей ЭО И ДОТ</th>\n",
       "      <th>Численность слушателей только ЭО и ДОТ</th>\n",
       "    </tr>\n",
       "  </thead>\n",
       "  <tbody>\n",
       "    <tr>\n",
       "      <th>0</th>\n",
       "      <td>Повышение квалификации</td>\n",
       "      <td>2</td>\n",
       "      <td>NaN</td>\n",
       "      <td>27</td>\n",
       "      <td>1</td>\n",
       "      <td>3</td>\n",
       "      <td>NaN</td>\n",
       "      <td>NaN</td>\n",
       "      <td>NaN</td>\n",
       "      <td>NaN</td>\n",
       "      <td>NaN</td>\n",
       "      <td>2</td>\n",
       "      <td>27</td>\n",
       "      <td>1.0</td>\n",
       "    </tr>\n",
       "    <tr>\n",
       "      <th>1</th>\n",
       "      <td>Профессиональная переподготовка</td>\n",
       "      <td>1</td>\n",
       "      <td>NaN</td>\n",
       "      <td>9</td>\n",
       "      <td>1</td>\n",
       "      <td>9</td>\n",
       "      <td>NaN</td>\n",
       "      <td>NaN</td>\n",
       "      <td>NaN</td>\n",
       "      <td>NaN</td>\n",
       "      <td>NaN</td>\n",
       "      <td>1</td>\n",
       "      <td>9</td>\n",
       "      <td>NaN</td>\n",
       "    </tr>\n",
       "  </tbody>\n",
       "</table>\n",
       "</div>"
      ],
      "text/plain": [
       "                             index  Число реализованных программ    4  \\\n",
       "0           Повышение квалификации                             2  NaN   \n",
       "1  Профессиональная переподготовка                             1  NaN   \n",
       "\n",
       "   Всего слушателей  Число программ сетевая форма  \\\n",
       "0                27                             1   \n",
       "1                 9                             1   \n",
       "\n",
       "   Численость слушателей сетевый программ    8    9   10   11   12  \\\n",
       "0                                       3  NaN  NaN  NaN  NaN  NaN   \n",
       "1                                       9  NaN  NaN  NaN  NaN  NaN   \n",
       "\n",
       "   Число программ ЭО и ДОТ  Численность слушателей ЭО И ДОТ  \\\n",
       "0                        2                               27   \n",
       "1                        1                                9   \n",
       "\n",
       "   Численность слушателей только ЭО и ДОТ  \n",
       "0                                     1.0  \n",
       "1                                     NaN  "
      ]
     },
     "execution_count": 1858,
     "metadata": {},
     "output_type": "execute_result"
    }
   ],
   "source": [
    "finish_df_1_3"
   ]
  },
  {
   "cell_type": "code",
   "execution_count": 1859,
   "metadata": {},
   "outputs": [],
   "source": [
    "finish_df_1_3.columns= ['Наименование образовательных программ','Число реализованных образовательных программ всего,единиц','из них прошли профессионально-общественную аккредитацию',\n",
    "                'Всего слушателей, обученных по программам, человек','число программ(из графы 3) реализованных с использованием сетевой формы',\n",
    "                'численность слушателей обученных(из графы 5) по программам с использованием сетевой формы-всего',\n",
    "                 'в том числе(из графы 7) с использованием ресурсов иностранных организаций','общее число заключенных договоров с организациями на реализацию образовательных программ с использованием сетевой формы',\n",
    "                 'из них число заключенных договоров(из графы 9) с использованием ресурсов иностранных организаций','число организаций с которыми заключены договоры  на реализацию образовательных программ с использованием сетевой формы',\n",
    "                'в том числе(из графы 11) число иностранных организаций','число программ(из графы 3),реализованных с применением ЭО или ДОТ','Численность слушателей обученных(из графы 5) по программам с применением ЭО и ДОТ',\n",
    "                 'в том числе(из графы 14) с применением исключительно ЭО и ДОТ']"
   ]
  },
  {
   "cell_type": "code",
   "execution_count": 1860,
   "metadata": {},
   "outputs": [
    {
     "data": {
      "text/html": [
       "<div>\n",
       "<style scoped>\n",
       "    .dataframe tbody tr th:only-of-type {\n",
       "        vertical-align: middle;\n",
       "    }\n",
       "\n",
       "    .dataframe tbody tr th {\n",
       "        vertical-align: top;\n",
       "    }\n",
       "\n",
       "    .dataframe thead th {\n",
       "        text-align: right;\n",
       "    }\n",
       "</style>\n",
       "<table border=\"1\" class=\"dataframe\">\n",
       "  <thead>\n",
       "    <tr style=\"text-align: right;\">\n",
       "      <th></th>\n",
       "      <th>Наименование образовательных программ</th>\n",
       "      <th>Число реализованных образовательных программ всего,единиц</th>\n",
       "      <th>из них прошли профессионально-общественную аккредитацию</th>\n",
       "      <th>Всего слушателей, обученных по программам, человек</th>\n",
       "      <th>число программ(из графы 3) реализованных с использованием сетевой формы</th>\n",
       "      <th>численность слушателей обученных(из графы 5) по программам с использованием сетевой формы-всего</th>\n",
       "      <th>в том числе(из графы 7) с использованием ресурсов иностранных организаций</th>\n",
       "      <th>общее число заключенных договоров с организациями на реализацию образовательных программ с использованием сетевой формы</th>\n",
       "      <th>из них число заключенных договоров(из графы 9) с использованием ресурсов иностранных организаций</th>\n",
       "      <th>число организаций с которыми заключены договоры  на реализацию образовательных программ с использованием сетевой формы</th>\n",
       "      <th>в том числе(из графы 11) число иностранных организаций</th>\n",
       "      <th>число программ(из графы 3),реализованных с применением ЭО или ДОТ</th>\n",
       "      <th>Численность слушателей обученных(из графы 5) по программам с применением ЭО и ДОТ</th>\n",
       "      <th>в том числе(из графы 14) с применением исключительно ЭО и ДОТ</th>\n",
       "    </tr>\n",
       "  </thead>\n",
       "  <tbody>\n",
       "    <tr>\n",
       "      <th>0</th>\n",
       "      <td>Повышение квалификации</td>\n",
       "      <td>2</td>\n",
       "      <td>NaN</td>\n",
       "      <td>27</td>\n",
       "      <td>1</td>\n",
       "      <td>3</td>\n",
       "      <td>NaN</td>\n",
       "      <td>NaN</td>\n",
       "      <td>NaN</td>\n",
       "      <td>NaN</td>\n",
       "      <td>NaN</td>\n",
       "      <td>2</td>\n",
       "      <td>27</td>\n",
       "      <td>1.0</td>\n",
       "    </tr>\n",
       "    <tr>\n",
       "      <th>1</th>\n",
       "      <td>Профессиональная переподготовка</td>\n",
       "      <td>1</td>\n",
       "      <td>NaN</td>\n",
       "      <td>9</td>\n",
       "      <td>1</td>\n",
       "      <td>9</td>\n",
       "      <td>NaN</td>\n",
       "      <td>NaN</td>\n",
       "      <td>NaN</td>\n",
       "      <td>NaN</td>\n",
       "      <td>NaN</td>\n",
       "      <td>1</td>\n",
       "      <td>9</td>\n",
       "      <td>NaN</td>\n",
       "    </tr>\n",
       "  </tbody>\n",
       "</table>\n",
       "</div>"
      ],
      "text/plain": [
       "  Наименование образовательных программ  \\\n",
       "0                Повышение квалификации   \n",
       "1       Профессиональная переподготовка   \n",
       "\n",
       "   Число реализованных образовательных программ всего,единиц  \\\n",
       "0                                                  2           \n",
       "1                                                  1           \n",
       "\n",
       "  из них прошли профессионально-общественную аккредитацию  \\\n",
       "0                                                NaN        \n",
       "1                                                NaN        \n",
       "\n",
       "   Всего слушателей, обученных по программам, человек  \\\n",
       "0                                                 27    \n",
       "1                                                  9    \n",
       "\n",
       "   число программ(из графы 3) реализованных с использованием сетевой формы  \\\n",
       "0                                                  1                         \n",
       "1                                                  1                         \n",
       "\n",
       "   численность слушателей обученных(из графы 5) по программам с использованием сетевой формы-всего  \\\n",
       "0                                                  3                                                 \n",
       "1                                                  9                                                 \n",
       "\n",
       "  в том числе(из графы 7) с использованием ресурсов иностранных организаций  \\\n",
       "0                                                NaN                          \n",
       "1                                                NaN                          \n",
       "\n",
       "  общее число заключенных договоров с организациями на реализацию образовательных программ с использованием сетевой формы  \\\n",
       "0                                                NaN                                                                        \n",
       "1                                                NaN                                                                        \n",
       "\n",
       "  из них число заключенных договоров(из графы 9) с использованием ресурсов иностранных организаций  \\\n",
       "0                                                NaN                                                 \n",
       "1                                                NaN                                                 \n",
       "\n",
       "  число организаций с которыми заключены договоры  на реализацию образовательных программ с использованием сетевой формы  \\\n",
       "0                                                NaN                                                                       \n",
       "1                                                NaN                                                                       \n",
       "\n",
       "  в том числе(из графы 11) число иностранных организаций  \\\n",
       "0                                                NaN       \n",
       "1                                                NaN       \n",
       "\n",
       "   число программ(из графы 3),реализованных с применением ЭО или ДОТ  \\\n",
       "0                                                  2                   \n",
       "1                                                  1                   \n",
       "\n",
       "   Численность слушателей обученных(из графы 5) по программам с применением ЭО и ДОТ  \\\n",
       "0                                                 27                                   \n",
       "1                                                  9                                   \n",
       "\n",
       "   в том числе(из графы 14) с применением исключительно ЭО и ДОТ  \n",
       "0                                                1.0              \n",
       "1                                                NaN              "
      ]
     },
     "execution_count": 1860,
     "metadata": {},
     "output_type": "execute_result"
    }
   ],
   "source": [
    "finish_df_1_3"
   ]
  },
  {
   "cell_type": "code",
   "execution_count": 1861,
   "metadata": {},
   "outputs": [
    {
     "data": {
      "text/plain": [
       "<Worksheet \"Раздел 2.5\">"
      ]
     },
     "execution_count": 1861,
     "metadata": {},
     "output_type": "execute_result"
    }
   ],
   "source": [
    "# Создаем файл excel\n",
    "wb = openpyxl.Workbook()\n",
    "# Создаем лист раздела 1.3\n",
    "wb.create_sheet(title='Раздел 1.3',index=0)\n",
    "wb.create_sheet(title='Раздел 2.1',index=1)\n",
    "wb.create_sheet(title='Раздел 2.1 Строки 28,29,30',index=2)\n",
    "wb.create_sheet(title='Раздел 2.2',index=3)\n",
    "wb.create_sheet(title='Раздел 2.3.1',index=4)\n",
    "wb.create_sheet(title='Раздел 2.3.2',index=5)\n",
    "wb.create_sheet(title='Раздел 2.4',index=6)\n",
    "wb.create_sheet(title='Раздел 2.5',index=7)\n",
    "\n",
    "\n"
   ]
  },
  {
   "cell_type": "code",
   "execution_count": 1862,
   "metadata": {},
   "outputs": [],
   "source": [
    "for r in dataframe_to_rows(finish_df_1_3, index=False, header=True):\n",
    "    wb['Раздел 1.3'].append(r)"
   ]
  },
  {
   "cell_type": "code",
   "execution_count": null,
   "metadata": {},
   "outputs": [],
   "source": []
  },
  {
   "cell_type": "code",
   "execution_count": 1863,
   "metadata": {},
   "outputs": [],
   "source": [
    "# Раздел 2.4\n"
   ]
  },
  {
   "cell_type": "code",
   "execution_count": 1864,
   "metadata": {},
   "outputs": [],
   "source": [
    "# Создаем дополнительную числовую колонку где каждое значение это 1, для удобства агрегирования\n",
    "df_2_4 = df_dpo.copy()\n",
    "# Добавляем колонку с 1\n",
    "df_2_4['for_counting'] = 1 "
   ]
  },
  {
   "cell_type": "code",
   "execution_count": 1865,
   "metadata": {},
   "outputs": [],
   "source": [
    "#Считаем общее количество\n",
    "all_counting_age_category=df_2_4.groupby(['Возрастная_категория_1ПК']).agg({'for_counting':'sum'}).rename(columns={'for_counting':'Всего слушателей'})"
   ]
  },
  {
   "cell_type": "code",
   "execution_count": 1866,
   "metadata": {},
   "outputs": [
    {
     "data": {
      "text/html": [
       "<div>\n",
       "<style scoped>\n",
       "    .dataframe tbody tr th:only-of-type {\n",
       "        vertical-align: middle;\n",
       "    }\n",
       "\n",
       "    .dataframe tbody tr th {\n",
       "        vertical-align: top;\n",
       "    }\n",
       "\n",
       "    .dataframe thead th {\n",
       "        text-align: right;\n",
       "    }\n",
       "</style>\n",
       "<table border=\"1\" class=\"dataframe\">\n",
       "  <thead>\n",
       "    <tr style=\"text-align: right;\">\n",
       "      <th></th>\n",
       "      <th>Всего слушателей</th>\n",
       "    </tr>\n",
       "    <tr>\n",
       "      <th>Возрастная_категория_1ПК</th>\n",
       "      <th></th>\n",
       "    </tr>\n",
       "  </thead>\n",
       "  <tbody>\n",
       "    <tr>\n",
       "      <th>30-34</th>\n",
       "      <td>4</td>\n",
       "    </tr>\n",
       "    <tr>\n",
       "      <th>35-39</th>\n",
       "      <td>2</td>\n",
       "    </tr>\n",
       "    <tr>\n",
       "      <th>40-44</th>\n",
       "      <td>7</td>\n",
       "    </tr>\n",
       "    <tr>\n",
       "      <th>45-49</th>\n",
       "      <td>8</td>\n",
       "    </tr>\n",
       "    <tr>\n",
       "      <th>50-54</th>\n",
       "      <td>5</td>\n",
       "    </tr>\n",
       "    <tr>\n",
       "      <th>55-59</th>\n",
       "      <td>3</td>\n",
       "    </tr>\n",
       "    <tr>\n",
       "      <th>60-64</th>\n",
       "      <td>6</td>\n",
       "    </tr>\n",
       "  </tbody>\n",
       "</table>\n",
       "</div>"
      ],
      "text/plain": [
       "                          Всего слушателей\n",
       "Возрастная_категория_1ПК                  \n",
       "30-34                                    4\n",
       "35-39                                    2\n",
       "40-44                                    7\n",
       "45-49                                    8\n",
       "50-54                                    5\n",
       "55-59                                    3\n",
       "60-64                                    6"
      ]
     },
     "execution_count": 1866,
     "metadata": {},
     "output_type": "execute_result"
    }
   ],
   "source": [
    "all_counting_age_category"
   ]
  },
  {
   "cell_type": "code",
   "execution_count": 1867,
   "metadata": {},
   "outputs": [],
   "source": [
    "df_2_4_all = all_counting_age_category.swapaxes(1,0)"
   ]
  },
  {
   "cell_type": "code",
   "execution_count": 1868,
   "metadata": {},
   "outputs": [
    {
     "data": {
      "text/html": [
       "<div>\n",
       "<style scoped>\n",
       "    .dataframe tbody tr th:only-of-type {\n",
       "        vertical-align: middle;\n",
       "    }\n",
       "\n",
       "    .dataframe tbody tr th {\n",
       "        vertical-align: top;\n",
       "    }\n",
       "\n",
       "    .dataframe thead th {\n",
       "        text-align: right;\n",
       "    }\n",
       "</style>\n",
       "<table border=\"1\" class=\"dataframe\">\n",
       "  <thead>\n",
       "    <tr style=\"text-align: right;\">\n",
       "      <th>Возрастная_категория_1ПК</th>\n",
       "      <th>30-34</th>\n",
       "      <th>35-39</th>\n",
       "      <th>40-44</th>\n",
       "      <th>45-49</th>\n",
       "      <th>50-54</th>\n",
       "      <th>55-59</th>\n",
       "      <th>60-64</th>\n",
       "    </tr>\n",
       "  </thead>\n",
       "  <tbody>\n",
       "    <tr>\n",
       "      <th>Всего слушателей</th>\n",
       "      <td>4</td>\n",
       "      <td>2</td>\n",
       "      <td>7</td>\n",
       "      <td>8</td>\n",
       "      <td>5</td>\n",
       "      <td>3</td>\n",
       "      <td>6</td>\n",
       "    </tr>\n",
       "  </tbody>\n",
       "</table>\n",
       "</div>"
      ],
      "text/plain": [
       "Возрастная_категория_1ПК  30-34  35-39  40-44  45-49  50-54  55-59  60-64\n",
       "Всего слушателей              4      2      7      8      5      3      6"
      ]
     },
     "execution_count": 1868,
     "metadata": {},
     "output_type": "execute_result"
    }
   ],
   "source": [
    "df_2_4_all"
   ]
  },
  {
   "cell_type": "code",
   "execution_count": 1869,
   "metadata": {},
   "outputs": [],
   "source": [
    "# Считаем женщин\n",
    "df_2_4_women=df_2_4[df_2_4['Пол_получателя']=='Жен'].groupby(['Возрастная_категория_1ПК']).agg({'for_counting':'sum'}).rename(columns={'for_counting':'Женщин Всего'}).swapaxes(1,0)"
   ]
  },
  {
   "cell_type": "code",
   "execution_count": 1870,
   "metadata": {},
   "outputs": [
    {
     "data": {
      "text/html": [
       "<div>\n",
       "<style scoped>\n",
       "    .dataframe tbody tr th:only-of-type {\n",
       "        vertical-align: middle;\n",
       "    }\n",
       "\n",
       "    .dataframe tbody tr th {\n",
       "        vertical-align: top;\n",
       "    }\n",
       "\n",
       "    .dataframe thead th {\n",
       "        text-align: right;\n",
       "    }\n",
       "</style>\n",
       "<table border=\"1\" class=\"dataframe\">\n",
       "  <thead>\n",
       "    <tr style=\"text-align: right;\">\n",
       "      <th>Возрастная_категория_1ПК</th>\n",
       "      <th>30-34</th>\n",
       "      <th>35-39</th>\n",
       "      <th>40-44</th>\n",
       "      <th>45-49</th>\n",
       "      <th>50-54</th>\n",
       "      <th>55-59</th>\n",
       "      <th>60-64</th>\n",
       "    </tr>\n",
       "  </thead>\n",
       "  <tbody>\n",
       "    <tr>\n",
       "      <th>Женщин Всего</th>\n",
       "      <td>3</td>\n",
       "      <td>2</td>\n",
       "      <td>7</td>\n",
       "      <td>6</td>\n",
       "      <td>5</td>\n",
       "      <td>3</td>\n",
       "      <td>1</td>\n",
       "    </tr>\n",
       "  </tbody>\n",
       "</table>\n",
       "</div>"
      ],
      "text/plain": [
       "Возрастная_категория_1ПК  30-34  35-39  40-44  45-49  50-54  55-59  60-64\n",
       "Женщин Всего                  3      2      7      6      5      3      1"
      ]
     },
     "execution_count": 1870,
     "metadata": {},
     "output_type": "execute_result"
    }
   ],
   "source": [
    "df_2_4_women"
   ]
  },
  {
   "cell_type": "code",
   "execution_count": 1871,
   "metadata": {},
   "outputs": [],
   "source": [
    "df_2_4_all =pd.concat([df_2_4_all,df_2_4_women],axis=0)"
   ]
  },
  {
   "cell_type": "code",
   "execution_count": 1872,
   "metadata": {},
   "outputs": [
    {
     "data": {
      "text/html": [
       "<div>\n",
       "<style scoped>\n",
       "    .dataframe tbody tr th:only-of-type {\n",
       "        vertical-align: middle;\n",
       "    }\n",
       "\n",
       "    .dataframe tbody tr th {\n",
       "        vertical-align: top;\n",
       "    }\n",
       "\n",
       "    .dataframe thead th {\n",
       "        text-align: right;\n",
       "    }\n",
       "</style>\n",
       "<table border=\"1\" class=\"dataframe\">\n",
       "  <thead>\n",
       "    <tr style=\"text-align: right;\">\n",
       "      <th>Возрастная_категория_1ПК</th>\n",
       "      <th>30-34</th>\n",
       "      <th>35-39</th>\n",
       "      <th>40-44</th>\n",
       "      <th>45-49</th>\n",
       "      <th>50-54</th>\n",
       "      <th>55-59</th>\n",
       "      <th>60-64</th>\n",
       "    </tr>\n",
       "  </thead>\n",
       "  <tbody>\n",
       "    <tr>\n",
       "      <th>Всего слушателей</th>\n",
       "      <td>4</td>\n",
       "      <td>2</td>\n",
       "      <td>7</td>\n",
       "      <td>8</td>\n",
       "      <td>5</td>\n",
       "      <td>3</td>\n",
       "      <td>6</td>\n",
       "    </tr>\n",
       "    <tr>\n",
       "      <th>Женщин Всего</th>\n",
       "      <td>3</td>\n",
       "      <td>2</td>\n",
       "      <td>7</td>\n",
       "      <td>6</td>\n",
       "      <td>5</td>\n",
       "      <td>3</td>\n",
       "      <td>1</td>\n",
       "    </tr>\n",
       "  </tbody>\n",
       "</table>\n",
       "</div>"
      ],
      "text/plain": [
       "Возрастная_категория_1ПК  30-34  35-39  40-44  45-49  50-54  55-59  60-64\n",
       "Всего слушателей              4      2      7      8      5      3      6\n",
       "Женщин Всего                  3      2      7      6      5      3      1"
      ]
     },
     "execution_count": 1872,
     "metadata": {},
     "output_type": "execute_result"
    }
   ],
   "source": [
    "df_2_4_all"
   ]
  },
  {
   "cell_type": "code",
   "execution_count": 1873,
   "metadata": {},
   "outputs": [],
   "source": [
    "finish_df2_4=pd.pivot_table(df_dpo,index=['Дополнительная_профессиональная_программа_повышение_квалификации_профессиональная_переподготовка','Пол_получателя'],\n",
    "              columns=['Возрастная_категория_1ПК'],\n",
    "               values=['ФИО_именительный'],\n",
    "              aggfunc='count')"
   ]
  },
  {
   "cell_type": "code",
   "execution_count": 1874,
   "metadata": {},
   "outputs": [
    {
     "data": {
      "text/html": [
       "<div>\n",
       "<style scoped>\n",
       "    .dataframe tbody tr th:only-of-type {\n",
       "        vertical-align: middle;\n",
       "    }\n",
       "\n",
       "    .dataframe tbody tr th {\n",
       "        vertical-align: top;\n",
       "    }\n",
       "\n",
       "    .dataframe thead tr th {\n",
       "        text-align: left;\n",
       "    }\n",
       "\n",
       "    .dataframe thead tr:last-of-type th {\n",
       "        text-align: right;\n",
       "    }\n",
       "</style>\n",
       "<table border=\"1\" class=\"dataframe\">\n",
       "  <thead>\n",
       "    <tr>\n",
       "      <th></th>\n",
       "      <th></th>\n",
       "      <th colspan=\"7\" halign=\"left\">ФИО_именительный</th>\n",
       "    </tr>\n",
       "    <tr>\n",
       "      <th></th>\n",
       "      <th>Возрастная_категория_1ПК</th>\n",
       "      <th>30-34</th>\n",
       "      <th>35-39</th>\n",
       "      <th>40-44</th>\n",
       "      <th>45-49</th>\n",
       "      <th>50-54</th>\n",
       "      <th>55-59</th>\n",
       "      <th>60-64</th>\n",
       "    </tr>\n",
       "    <tr>\n",
       "      <th>Дополнительная_профессиональная_программа_повышение_квалификации_профессиональная_переподготовка</th>\n",
       "      <th>Пол_получателя</th>\n",
       "      <th></th>\n",
       "      <th></th>\n",
       "      <th></th>\n",
       "      <th></th>\n",
       "      <th></th>\n",
       "      <th></th>\n",
       "      <th></th>\n",
       "    </tr>\n",
       "  </thead>\n",
       "  <tbody>\n",
       "    <tr>\n",
       "      <th rowspan=\"2\" valign=\"top\">Повышение квалификации</th>\n",
       "      <th>Жен</th>\n",
       "      <td>2.0</td>\n",
       "      <td>2.0</td>\n",
       "      <td>6.0</td>\n",
       "      <td>4.0</td>\n",
       "      <td>3.0</td>\n",
       "      <td>2.0</td>\n",
       "      <td>1.0</td>\n",
       "    </tr>\n",
       "    <tr>\n",
       "      <th>Муж</th>\n",
       "      <td>1.0</td>\n",
       "      <td>NaN</td>\n",
       "      <td>NaN</td>\n",
       "      <td>2.0</td>\n",
       "      <td>NaN</td>\n",
       "      <td>NaN</td>\n",
       "      <td>3.0</td>\n",
       "    </tr>\n",
       "    <tr>\n",
       "      <th rowspan=\"2\" valign=\"top\">Профессиональная переподготовка</th>\n",
       "      <th>Жен</th>\n",
       "      <td>1.0</td>\n",
       "      <td>NaN</td>\n",
       "      <td>1.0</td>\n",
       "      <td>2.0</td>\n",
       "      <td>2.0</td>\n",
       "      <td>1.0</td>\n",
       "      <td>NaN</td>\n",
       "    </tr>\n",
       "    <tr>\n",
       "      <th>Муж</th>\n",
       "      <td>NaN</td>\n",
       "      <td>NaN</td>\n",
       "      <td>NaN</td>\n",
       "      <td>NaN</td>\n",
       "      <td>NaN</td>\n",
       "      <td>NaN</td>\n",
       "      <td>2.0</td>\n",
       "    </tr>\n",
       "  </tbody>\n",
       "</table>\n",
       "</div>"
      ],
      "text/plain": [
       "                                                                  ФИО_именительный  \\\n",
       "Возрастная_категория_1ПК                                                     30-34   \n",
       "Дополнительная_профессиональная_программа_повыш... Пол_получателя                    \n",
       "Повышение квалификации                             Жен                         2.0   \n",
       "                                                   Муж                         1.0   \n",
       "Профессиональная переподготовка                    Жен                         1.0   \n",
       "                                                   Муж                         NaN   \n",
       "\n",
       "                                                                               \\\n",
       "Возрастная_категория_1ПК                                          35-39 40-44   \n",
       "Дополнительная_профессиональная_программа_повыш... Пол_получателя               \n",
       "Повышение квалификации                             Жен              2.0   6.0   \n",
       "                                                   Муж              NaN   NaN   \n",
       "Профессиональная переподготовка                    Жен              NaN   1.0   \n",
       "                                                   Муж              NaN   NaN   \n",
       "\n",
       "                                                                               \\\n",
       "Возрастная_категория_1ПК                                          45-49 50-54   \n",
       "Дополнительная_профессиональная_программа_повыш... Пол_получателя               \n",
       "Повышение квалификации                             Жен              4.0   3.0   \n",
       "                                                   Муж              2.0   NaN   \n",
       "Профессиональная переподготовка                    Жен              2.0   2.0   \n",
       "                                                   Муж              NaN   NaN   \n",
       "\n",
       "                                                                               \n",
       "Возрастная_категория_1ПК                                          55-59 60-64  \n",
       "Дополнительная_профессиональная_программа_повыш... Пол_получателя              \n",
       "Повышение квалификации                             Жен              2.0   1.0  \n",
       "                                                   Муж              NaN   3.0  \n",
       "Профессиональная переподготовка                    Жен              1.0   NaN  \n",
       "                                                   Муж              NaN   2.0  "
      ]
     },
     "execution_count": 1874,
     "metadata": {},
     "output_type": "execute_result"
    }
   ],
   "source": [
    "finish_df2_4"
   ]
  },
  {
   "cell_type": "code",
   "execution_count": 1875,
   "metadata": {},
   "outputs": [],
   "source": [
    "finish_df2_4.columns =finish_df2_4.columns.droplevel()\n",
    "finish_df2_4.index = finish_df2_4.index.droplevel()"
   ]
  },
  {
   "cell_type": "code",
   "execution_count": 1876,
   "metadata": {},
   "outputs": [
    {
     "data": {
      "text/html": [
       "<div>\n",
       "<style scoped>\n",
       "    .dataframe tbody tr th:only-of-type {\n",
       "        vertical-align: middle;\n",
       "    }\n",
       "\n",
       "    .dataframe tbody tr th {\n",
       "        vertical-align: top;\n",
       "    }\n",
       "\n",
       "    .dataframe thead th {\n",
       "        text-align: right;\n",
       "    }\n",
       "</style>\n",
       "<table border=\"1\" class=\"dataframe\">\n",
       "  <thead>\n",
       "    <tr style=\"text-align: right;\">\n",
       "      <th>Возрастная_категория_1ПК</th>\n",
       "      <th>30-34</th>\n",
       "      <th>35-39</th>\n",
       "      <th>40-44</th>\n",
       "      <th>45-49</th>\n",
       "      <th>50-54</th>\n",
       "      <th>55-59</th>\n",
       "      <th>60-64</th>\n",
       "    </tr>\n",
       "    <tr>\n",
       "      <th>Пол_получателя</th>\n",
       "      <th></th>\n",
       "      <th></th>\n",
       "      <th></th>\n",
       "      <th></th>\n",
       "      <th></th>\n",
       "      <th></th>\n",
       "      <th></th>\n",
       "    </tr>\n",
       "  </thead>\n",
       "  <tbody>\n",
       "    <tr>\n",
       "      <th>Жен</th>\n",
       "      <td>2.0</td>\n",
       "      <td>2.0</td>\n",
       "      <td>6.0</td>\n",
       "      <td>4.0</td>\n",
       "      <td>3.0</td>\n",
       "      <td>2.0</td>\n",
       "      <td>1.0</td>\n",
       "    </tr>\n",
       "    <tr>\n",
       "      <th>Муж</th>\n",
       "      <td>1.0</td>\n",
       "      <td>NaN</td>\n",
       "      <td>NaN</td>\n",
       "      <td>2.0</td>\n",
       "      <td>NaN</td>\n",
       "      <td>NaN</td>\n",
       "      <td>3.0</td>\n",
       "    </tr>\n",
       "    <tr>\n",
       "      <th>Жен</th>\n",
       "      <td>1.0</td>\n",
       "      <td>NaN</td>\n",
       "      <td>1.0</td>\n",
       "      <td>2.0</td>\n",
       "      <td>2.0</td>\n",
       "      <td>1.0</td>\n",
       "      <td>NaN</td>\n",
       "    </tr>\n",
       "    <tr>\n",
       "      <th>Муж</th>\n",
       "      <td>NaN</td>\n",
       "      <td>NaN</td>\n",
       "      <td>NaN</td>\n",
       "      <td>NaN</td>\n",
       "      <td>NaN</td>\n",
       "      <td>NaN</td>\n",
       "      <td>2.0</td>\n",
       "    </tr>\n",
       "  </tbody>\n",
       "</table>\n",
       "</div>"
      ],
      "text/plain": [
       "Возрастная_категория_1ПК  30-34  35-39  40-44  45-49  50-54  55-59  60-64\n",
       "Пол_получателя                                                           \n",
       "Жен                         2.0    2.0    6.0    4.0    3.0    2.0    1.0\n",
       "Муж                         1.0    NaN    NaN    2.0    NaN    NaN    3.0\n",
       "Жен                         1.0    NaN    1.0    2.0    2.0    1.0    NaN\n",
       "Муж                         NaN    NaN    NaN    NaN    NaN    NaN    2.0"
      ]
     },
     "execution_count": 1876,
     "metadata": {},
     "output_type": "execute_result"
    }
   ],
   "source": [
    "finish_df2_4"
   ]
  },
  {
   "cell_type": "code",
   "execution_count": 1877,
   "metadata": {},
   "outputs": [],
   "source": [
    "finish_df2_4=pd.concat([df_2_4_all,finish_df2_4])"
   ]
  },
  {
   "cell_type": "code",
   "execution_count": 1878,
   "metadata": {},
   "outputs": [
    {
     "data": {
      "text/html": [
       "<div>\n",
       "<style scoped>\n",
       "    .dataframe tbody tr th:only-of-type {\n",
       "        vertical-align: middle;\n",
       "    }\n",
       "\n",
       "    .dataframe tbody tr th {\n",
       "        vertical-align: top;\n",
       "    }\n",
       "\n",
       "    .dataframe thead th {\n",
       "        text-align: right;\n",
       "    }\n",
       "</style>\n",
       "<table border=\"1\" class=\"dataframe\">\n",
       "  <thead>\n",
       "    <tr style=\"text-align: right;\">\n",
       "      <th>Возрастная_категория_1ПК</th>\n",
       "      <th>30-34</th>\n",
       "      <th>35-39</th>\n",
       "      <th>40-44</th>\n",
       "      <th>45-49</th>\n",
       "      <th>50-54</th>\n",
       "      <th>55-59</th>\n",
       "      <th>60-64</th>\n",
       "    </tr>\n",
       "  </thead>\n",
       "  <tbody>\n",
       "    <tr>\n",
       "      <th>Всего слушателей</th>\n",
       "      <td>4.0</td>\n",
       "      <td>2.0</td>\n",
       "      <td>7.0</td>\n",
       "      <td>8.0</td>\n",
       "      <td>5.0</td>\n",
       "      <td>3.0</td>\n",
       "      <td>6.0</td>\n",
       "    </tr>\n",
       "    <tr>\n",
       "      <th>Женщин Всего</th>\n",
       "      <td>3.0</td>\n",
       "      <td>2.0</td>\n",
       "      <td>7.0</td>\n",
       "      <td>6.0</td>\n",
       "      <td>5.0</td>\n",
       "      <td>3.0</td>\n",
       "      <td>1.0</td>\n",
       "    </tr>\n",
       "    <tr>\n",
       "      <th>Жен</th>\n",
       "      <td>2.0</td>\n",
       "      <td>2.0</td>\n",
       "      <td>6.0</td>\n",
       "      <td>4.0</td>\n",
       "      <td>3.0</td>\n",
       "      <td>2.0</td>\n",
       "      <td>1.0</td>\n",
       "    </tr>\n",
       "    <tr>\n",
       "      <th>Муж</th>\n",
       "      <td>1.0</td>\n",
       "      <td>NaN</td>\n",
       "      <td>NaN</td>\n",
       "      <td>2.0</td>\n",
       "      <td>NaN</td>\n",
       "      <td>NaN</td>\n",
       "      <td>3.0</td>\n",
       "    </tr>\n",
       "    <tr>\n",
       "      <th>Жен</th>\n",
       "      <td>1.0</td>\n",
       "      <td>NaN</td>\n",
       "      <td>1.0</td>\n",
       "      <td>2.0</td>\n",
       "      <td>2.0</td>\n",
       "      <td>1.0</td>\n",
       "      <td>NaN</td>\n",
       "    </tr>\n",
       "    <tr>\n",
       "      <th>Муж</th>\n",
       "      <td>NaN</td>\n",
       "      <td>NaN</td>\n",
       "      <td>NaN</td>\n",
       "      <td>NaN</td>\n",
       "      <td>NaN</td>\n",
       "      <td>NaN</td>\n",
       "      <td>2.0</td>\n",
       "    </tr>\n",
       "  </tbody>\n",
       "</table>\n",
       "</div>"
      ],
      "text/plain": [
       "Возрастная_категория_1ПК  30-34  35-39  40-44  45-49  50-54  55-59  60-64\n",
       "Всего слушателей            4.0    2.0    7.0    8.0    5.0    3.0    6.0\n",
       "Женщин Всего                3.0    2.0    7.0    6.0    5.0    3.0    1.0\n",
       "Жен                         2.0    2.0    6.0    4.0    3.0    2.0    1.0\n",
       "Муж                         1.0    NaN    NaN    2.0    NaN    NaN    3.0\n",
       "Жен                         1.0    NaN    1.0    2.0    2.0    1.0    NaN\n",
       "Муж                         NaN    NaN    NaN    NaN    NaN    NaN    2.0"
      ]
     },
     "execution_count": 1878,
     "metadata": {},
     "output_type": "execute_result"
    }
   ],
   "source": [
    "finish_df2_4"
   ]
  },
  {
   "cell_type": "code",
   "execution_count": 1879,
   "metadata": {},
   "outputs": [],
   "source": [
    "# Переименовываем индекс, чтобы было более понятно\n",
    "finish_df2_4.index.name = 'Наименование показателей'\n",
    "finish_df2_4.index= ['Численность слушателей Всего','из них Женщин','Повышение квалификации Женщины','Повышение квалификации Мужчины',\n",
    "                     'Профессиональная переподготовка Женщины','Профессиональная переподготовка Мужчины',]\n",
    "\n"
   ]
  },
  {
   "cell_type": "code",
   "execution_count": null,
   "metadata": {},
   "outputs": [],
   "source": []
  },
  {
   "cell_type": "code",
   "execution_count": 1880,
   "metadata": {},
   "outputs": [],
   "source": [
    "finish_df2_4.to_excel('2.4.xlsx')"
   ]
  },
  {
   "cell_type": "code",
   "execution_count": 1881,
   "metadata": {},
   "outputs": [
    {
     "data": {
      "text/plain": [
       "Index(['Численность слушателей Всего', 'из них Женщин',\n",
       "       'Повышение квалификации Женщины', 'Повышение квалификации Мужчины',\n",
       "       'Профессиональная переподготовка Женщины',\n",
       "       'Профессиональная переподготовка Мужчины'],\n",
       "      dtype='object')"
      ]
     },
     "execution_count": 1881,
     "metadata": {},
     "output_type": "execute_result"
    }
   ],
   "source": [
    "finish_df2_4.index"
   ]
  },
  {
   "cell_type": "code",
   "execution_count": 1882,
   "metadata": {},
   "outputs": [],
   "source": [
    "#Сохраняем в лист Раздел 2.4\n",
    "for r in dataframe_to_rows(finish_df2_4, index=True, header=True):\n",
    "    if len(r) != 1:\n",
    "        wb['Раздел 2.4'].append(r)"
   ]
  },
  {
   "cell_type": "code",
   "execution_count": 1883,
   "metadata": {},
   "outputs": [],
   "source": [
    "#Добавляем колонки\n"
   ]
  },
  {
   "cell_type": "code",
   "execution_count": 1884,
   "metadata": {},
   "outputs": [],
   "source": [
    "#раздел 2.5 Инвалиды\n",
    "df_dpo_2_5 = df_dpo.copy()\n",
    "df_dpo_2_5['for_counting'] = 1\n",
    "df_dpo_2_5 = df_dpo_2_5[df_dpo_2_5['Сведения_об_ограничении_возможностей_здоровья'] != 'нет ОВЗ']\n",
    "\n"
   ]
  },
  {
   "cell_type": "code",
   "execution_count": 1885,
   "metadata": {},
   "outputs": [
    {
     "data": {
      "text/html": [
       "<div>\n",
       "<style scoped>\n",
       "    .dataframe tbody tr th:only-of-type {\n",
       "        vertical-align: middle;\n",
       "    }\n",
       "\n",
       "    .dataframe tbody tr th {\n",
       "        vertical-align: top;\n",
       "    }\n",
       "\n",
       "    .dataframe thead th {\n",
       "        text-align: right;\n",
       "    }\n",
       "</style>\n",
       "<table border=\"1\" class=\"dataframe\">\n",
       "  <thead>\n",
       "    <tr style=\"text-align: right;\">\n",
       "      <th></th>\n",
       "      <th>Порядковый_номер_группы</th>\n",
       "      <th>Вид_документа</th>\n",
       "      <th>Статус_документа</th>\n",
       "      <th>Подтверждение_утраты</th>\n",
       "      <th>Подтверждение_обмена</th>\n",
       "      <th>Подтверждение_уничтожения</th>\n",
       "      <th>Серия_документа</th>\n",
       "      <th>Номер_документа</th>\n",
       "      <th>Дата_выдачи_документа</th>\n",
       "      <th>Регистрационный_номер</th>\n",
       "      <th>...</th>\n",
       "      <th>Использование_сетевой_формы_обучения</th>\n",
       "      <th>Использование_ЭО_или_ДОТ</th>\n",
       "      <th>Модульная_программа_с_вариативным_выбором</th>\n",
       "      <th>Вид_экономической\\nдеятельности_дополнительной_профессиональной_программы</th>\n",
       "      <th>Для_освоения_ДПП_требуется_наличие_ВО</th>\n",
       "      <th>Номер_приказа_о_зачислении</th>\n",
       "      <th>Номер_приказа_об_отчислении</th>\n",
       "      <th>Текущий_возраст</th>\n",
       "      <th>Возрастная_категория_1ПК</th>\n",
       "      <th>for_counting</th>\n",
       "    </tr>\n",
       "  </thead>\n",
       "  <tbody>\n",
       "  </tbody>\n",
       "</table>\n",
       "<p>0 rows × 68 columns</p>\n",
       "</div>"
      ],
      "text/plain": [
       "Empty DataFrame\n",
       "Columns: [Порядковый_номер_группы, Вид_документа, Статус_документа, Подтверждение_утраты, Подтверждение_обмена, Подтверждение_уничтожения, Серия_документа, Номер_документа, Дата_выдачи_документа, Регистрационный_номер, Дополнительная_профессиональная_программа_повышение_квалификации_профессиональная_переподготовка, Наименование_дополнительной_профессиональной_программы, Наименование_области_профессиональной_деятельности, Укрупненные_группы_специальностей, Наименование_квалификации_профессии_специальности, Уровень_образования_ВО_СПО, Фамилия_указанная_в_дипломе_о_ВО_или_СПО, Серия_документа_о_ВО_СПО, Номер_документа_о_ВО_СПО, Год_начала_обучения_для_документа_о_квалификации, Год_окончания_обучения_для_документа_о_квалификации, Срок_обучения_часов_для_документа_о_квалификации, Фамилия_получателя, Имя_получателя, Отчество_получателя, ФИО_именительный, ФИО_дательный, Дата_рождения_получателя, Пол_получателя, СНИЛС, Форма_обучения, Источник_финансирования_обучения, Форма_получения_образования_на_момент_прекращения_образовательных_отношений, Гражданство_получателя_код_страны_по_ОКСМ, Наименование_документа_об_образовании_оригинала, Серия_оригинала, Номер_оригинала, Регистрационный_N_оригинала, Дата_выдачи_оригинала, Фамилия_получателя_оригинала, Имя_получателя_оригинала, Отчество_получателя_оригинала, Номер_документа_для_изменения, Серия_паспорта_в_формате_1111, Номер_паспорта_в_формате_111111, Кем_выдан_паспорт, Дата_выдачи_паспорта, Место_работы_слушателя, Категория_слушателя, Является_ли_слушатель_руководителем, Сведения_об_ограничении_возможностей_здоровья, Период_обучения_в_формате_с_дата_начала_по_дата_окончания, База_обучения_подразделение_образовательная_организация, Источник_финансирования_индикаторы_физ_лицо_юр_лицо_бюдж_ассигнования_собственные_средства_ЦОПП, Индикатор, Наименование_заказчика, Стоимость_обучения_руб, Отметка_об_оплате_плюс_оплачено_минус_не_оплачено, Использование_сетевой_формы_обучения, Использование_ЭО_или_ДОТ, Модульная_программа_с_вариативным_выбором, Вид_экономической\n",
       "деятельности_дополнительной_профессиональной_программы, Для_освоения_ДПП_требуется_наличие_ВО, Номер_приказа_о_зачислении, Номер_приказа_об_отчислении, Текущий_возраст, Возрастная_категория_1ПК, for_counting]\n",
       "Index: []\n",
       "\n",
       "[0 rows x 68 columns]"
      ]
     },
     "execution_count": 1885,
     "metadata": {},
     "output_type": "execute_result"
    }
   ],
   "source": [
    "df_dpo_2_5"
   ]
  },
  {
   "cell_type": "code",
   "execution_count": 1886,
   "metadata": {},
   "outputs": [],
   "source": [
    "df_2_5_all = df_dpo_2_5.groupby(['Дополнительная_профессиональная_программа_повышение_квалификации_профессиональная_переподготовка']).agg({'ФИО_именительный':'count'}).rename(columns={'ФИО_именительный':'Всего'}).swapaxes(1,0)"
   ]
  },
  {
   "cell_type": "code",
   "execution_count": 1887,
   "metadata": {},
   "outputs": [],
   "source": [
    "finish_df2_5=pd.pivot_table(df_dpo_2_5,\n",
    "              index=['Сведения_об_ограничении_возможностей_здоровья'],\n",
    "              columns=['Дополнительная_профессиональная_программа_повышение_квалификации_профессиональная_переподготовка'],\n",
    "              values=['for_counting'],\n",
    "              aggfunc='sum')"
   ]
  },
  {
   "cell_type": "code",
   "execution_count": 1888,
   "metadata": {},
   "outputs": [
    {
     "data": {
      "text/html": [
       "<div>\n",
       "<style scoped>\n",
       "    .dataframe tbody tr th:only-of-type {\n",
       "        vertical-align: middle;\n",
       "    }\n",
       "\n",
       "    .dataframe tbody tr th {\n",
       "        vertical-align: top;\n",
       "    }\n",
       "\n",
       "    .dataframe thead tr th {\n",
       "        text-align: left;\n",
       "    }\n",
       "\n",
       "    .dataframe thead tr:last-of-type th {\n",
       "        text-align: right;\n",
       "    }\n",
       "</style>\n",
       "<table border=\"1\" class=\"dataframe\">\n",
       "  <thead>\n",
       "    <tr>\n",
       "      <th>Сведения_об_ограничении_возможностей_здоровья</th>\n",
       "    </tr>\n",
       "  </thead>\n",
       "  <tbody>\n",
       "  </tbody>\n",
       "</table>\n",
       "</div>"
      ],
      "text/plain": [
       "Empty DataFrame\n",
       "Columns: []\n",
       "Index: []"
      ]
     },
     "execution_count": 1888,
     "metadata": {},
     "output_type": "execute_result"
    }
   ],
   "source": [
    "finish_df2_5\n"
   ]
  },
  {
   "cell_type": "code",
   "execution_count": 1889,
   "metadata": {},
   "outputs": [],
   "source": [
    "finish_df2_5.columns = finish_df2_5.columns.droplevel(0)"
   ]
  },
  {
   "cell_type": "code",
   "execution_count": 1890,
   "metadata": {},
   "outputs": [],
   "source": [
    "# Соединяем\n",
    "finish_df2_5 = pd.concat([df_2_5_all,finish_df2_5])"
   ]
  },
  {
   "cell_type": "code",
   "execution_count": 1891,
   "metadata": {},
   "outputs": [
    {
     "data": {
      "text/html": [
       "<div>\n",
       "<style scoped>\n",
       "    .dataframe tbody tr th:only-of-type {\n",
       "        vertical-align: middle;\n",
       "    }\n",
       "\n",
       "    .dataframe tbody tr th {\n",
       "        vertical-align: top;\n",
       "    }\n",
       "\n",
       "    .dataframe thead th {\n",
       "        text-align: right;\n",
       "    }\n",
       "</style>\n",
       "<table border=\"1\" class=\"dataframe\">\n",
       "  <thead>\n",
       "    <tr style=\"text-align: right;\">\n",
       "      <th>Дополнительная_профессиональная_программа_повышение_квалификации_профессиональная_переподготовка</th>\n",
       "    </tr>\n",
       "  </thead>\n",
       "  <tbody>\n",
       "    <tr>\n",
       "      <th>Всего</th>\n",
       "    </tr>\n",
       "  </tbody>\n",
       "</table>\n",
       "</div>"
      ],
      "text/plain": [
       "Empty DataFrame\n",
       "Columns: []\n",
       "Index: [Всего]"
      ]
     },
     "execution_count": 1891,
     "metadata": {},
     "output_type": "execute_result"
    }
   ],
   "source": [
    "finish_df2_5"
   ]
  },
  {
   "cell_type": "code",
   "execution_count": 1892,
   "metadata": {},
   "outputs": [],
   "source": [
    "# заполняем пропуски нулями\n",
    "finish_df2_5.fillna(0,inplace=True)"
   ]
  },
  {
   "cell_type": "code",
   "execution_count": 1893,
   "metadata": {},
   "outputs": [],
   "source": [
    "# Необходимо как то проверять наличие колонок, ведь не факт что в таблице будет повышение квалификации или проф подготовка\n",
    "#создаем колонку всего\n",
    "\n",
    "#Проверяем количество колонок\n",
    "# Заполняем нулями чтобы корректно слаживалось\n",
    "if len(finish_df2_5.columns) == 1:\n",
    "    finish_df2_5['Всего слушателей по всем категориям'] = finish_df2_5.iloc[:,0]\n",
    "elif len(finish_df2_5.columns):\n",
    "    finish_df2_5['Всего слушателей по всем категориям'] = finish_df2_5.iloc[:,0] + finish_df2_5.iloc[:,1]"
   ]
  },
  {
   "cell_type": "code",
   "execution_count": 1894,
   "metadata": {},
   "outputs": [
    {
     "data": {
      "text/plain": [
       "Index(['Всего'], dtype='object')"
      ]
     },
     "execution_count": 1894,
     "metadata": {},
     "output_type": "execute_result"
    }
   ],
   "source": [
    "finish_df2_5.index"
   ]
  },
  {
   "cell_type": "code",
   "execution_count": 1895,
   "metadata": {},
   "outputs": [
    {
     "data": {
      "text/html": [
       "<div>\n",
       "<style scoped>\n",
       "    .dataframe tbody tr th:only-of-type {\n",
       "        vertical-align: middle;\n",
       "    }\n",
       "\n",
       "    .dataframe tbody tr th {\n",
       "        vertical-align: top;\n",
       "    }\n",
       "\n",
       "    .dataframe thead th {\n",
       "        text-align: right;\n",
       "    }\n",
       "</style>\n",
       "<table border=\"1\" class=\"dataframe\">\n",
       "  <thead>\n",
       "    <tr style=\"text-align: right;\">\n",
       "      <th>Дополнительная_профессиональная_программа_повышение_квалификации_профессиональная_переподготовка</th>\n",
       "    </tr>\n",
       "  </thead>\n",
       "  <tbody>\n",
       "    <tr>\n",
       "      <th>Всего</th>\n",
       "    </tr>\n",
       "  </tbody>\n",
       "</table>\n",
       "</div>"
      ],
      "text/plain": [
       "Empty DataFrame\n",
       "Columns: []\n",
       "Index: [Всего]"
      ]
     },
     "execution_count": 1895,
     "metadata": {},
     "output_type": "execute_result"
    }
   ],
   "source": [
    "finish_df2_5"
   ]
  },
  {
   "cell_type": "code",
   "execution_count": 1896,
   "metadata": {},
   "outputs": [],
   "source": [
    "# Считаем колонку с женщинами инвалидами\n",
    "df_2_5_women =df_dpo_2_5[df_dpo_2_5['Пол_получателя']=='Жен'].groupby('Сведения_об_ограничении_возможностей_здоровья').agg({'for_counting':'sum'})"
   ]
  },
  {
   "cell_type": "code",
   "execution_count": 1897,
   "metadata": {},
   "outputs": [],
   "source": [
    "df_2_5_women.columns =['Количество женщин']\n"
   ]
  },
  {
   "cell_type": "code",
   "execution_count": 1898,
   "metadata": {},
   "outputs": [],
   "source": [
    "sum_woman = df_2_5_women['Количество женщин'].sum()\n",
    "\n",
    "if sum_woman == 0:\n",
    "    # т.е если женщин инвалидов нет, то создаем датафрейм с пустыми значениями\n",
    "    df_2_5_women_all = pd.DataFrame(data=[np.NaN,np.NaN,np.NaN],index=['Всего','инвалид','Лицо с ОВЗ'],columns=['Количество женщин'])\n",
    "else:\n",
    "    # в противном случае, считаем общее количество женщин-инвалидов. Создаем маленький датафрейм \n",
    "    df_2_5_women_all = pd.DataFrame(data=sum_woman,index=['Всего женщин инвалидов'],columns=['Количество женщин'])\n",
    "    # Объединяем столбы с женщинами инвалидами\n",
    "    df_2_5_women_all = pd.concat([df_2_5_women_all,df_2_5_women])\n",
    "    \n",
    "    \n",
    "    "
   ]
  },
  {
   "cell_type": "code",
   "execution_count": 1899,
   "metadata": {},
   "outputs": [],
   "source": [
    "finish_df2_5 = finish_df2_5.astype(float)"
   ]
  },
  {
   "cell_type": "code",
   "execution_count": 1900,
   "metadata": {},
   "outputs": [],
   "source": [
    "finish_df2_5 = finish_df2_5.replace(0.0,np.NaN)"
   ]
  },
  {
   "cell_type": "code",
   "execution_count": null,
   "metadata": {},
   "outputs": [],
   "source": []
  },
  {
   "cell_type": "code",
   "execution_count": 1901,
   "metadata": {},
   "outputs": [
    {
     "data": {
      "text/html": [
       "<div>\n",
       "<style scoped>\n",
       "    .dataframe tbody tr th:only-of-type {\n",
       "        vertical-align: middle;\n",
       "    }\n",
       "\n",
       "    .dataframe tbody tr th {\n",
       "        vertical-align: top;\n",
       "    }\n",
       "\n",
       "    .dataframe thead th {\n",
       "        text-align: right;\n",
       "    }\n",
       "</style>\n",
       "<table border=\"1\" class=\"dataframe\">\n",
       "  <thead>\n",
       "    <tr style=\"text-align: right;\">\n",
       "      <th>Дополнительная_профессиональная_программа_повышение_квалификации_профессиональная_переподготовка</th>\n",
       "    </tr>\n",
       "  </thead>\n",
       "  <tbody>\n",
       "    <tr>\n",
       "      <th>Всего</th>\n",
       "    </tr>\n",
       "  </tbody>\n",
       "</table>\n",
       "</div>"
      ],
      "text/plain": [
       "Empty DataFrame\n",
       "Columns: []\n",
       "Index: [Всего]"
      ]
     },
     "execution_count": 1901,
     "metadata": {},
     "output_type": "execute_result"
    }
   ],
   "source": [
    "finish_df2_5"
   ]
  },
  {
   "cell_type": "code",
   "execution_count": 1902,
   "metadata": {},
   "outputs": [],
   "source": [
    "finish_df2_5.to_excel('2.5.xlsx')"
   ]
  },
  {
   "cell_type": "code",
   "execution_count": 1903,
   "metadata": {},
   "outputs": [],
   "source": [
    "#Сохраняем в лист Раздел 2.5\n",
    "for r in dataframe_to_rows(finish_df2_5, index=True, header=True):\n",
    "    if len(r) != 1:\n",
    "        wb['Раздел 2.5'].append(r)"
   ]
  },
  {
   "cell_type": "code",
   "execution_count": 1904,
   "metadata": {},
   "outputs": [],
   "source": [
    "#Добавляем в раздел 2.5 информацию о женщинах\n",
    "for r in dataframe_to_rows(df_2_5_women_all, index=True, header=True):\n",
    "    if len(r) != 1:\n",
    "        wb['Раздел 2.5'].append(r)"
   ]
  },
  {
   "cell_type": "code",
   "execution_count": 1905,
   "metadata": {},
   "outputs": [],
   "source": [
    "# раздел 2.1  Сведения о численности слушателей обученных по доп профессиональным программам\n",
    "df_2_1 = df_dpo.copy()\n",
    "# Создаем колонку для удобства подсчета\n",
    "df_2_1['for_counting'] = 1.0\n",
    "\n"
   ]
  },
  {
   "cell_type": "code",
   "execution_count": 1906,
   "metadata": {},
   "outputs": [],
   "source": [
    "df_2_1_pkpo = pd.pivot_table(df_2_1,index=['Категория_слушателя','Место_работы_слушателя','Является_ли_слушатель_руководителем'],\n",
    "              columns = ['Дополнительная_профессиональная_программа_повышение_квалификации_профессиональная_переподготовка'],\n",
    "              values=['for_counting'],\n",
    "              aggfunc='sum')"
   ]
  },
  {
   "cell_type": "code",
   "execution_count": 1907,
   "metadata": {},
   "outputs": [
    {
     "data": {
      "text/html": [
       "<div>\n",
       "<style scoped>\n",
       "    .dataframe tbody tr th:only-of-type {\n",
       "        vertical-align: middle;\n",
       "    }\n",
       "\n",
       "    .dataframe tbody tr th {\n",
       "        vertical-align: top;\n",
       "    }\n",
       "\n",
       "    .dataframe thead tr th {\n",
       "        text-align: left;\n",
       "    }\n",
       "\n",
       "    .dataframe thead tr:last-of-type th {\n",
       "        text-align: right;\n",
       "    }\n",
       "</style>\n",
       "<table border=\"1\" class=\"dataframe\">\n",
       "  <thead>\n",
       "    <tr>\n",
       "      <th></th>\n",
       "      <th></th>\n",
       "      <th></th>\n",
       "      <th colspan=\"2\" halign=\"left\">for_counting</th>\n",
       "    </tr>\n",
       "    <tr>\n",
       "      <th></th>\n",
       "      <th></th>\n",
       "      <th>Дополнительная_профессиональная_программа_повышение_квалификации_профессиональная_переподготовка</th>\n",
       "      <th>Повышение квалификации</th>\n",
       "      <th>Профессиональная переподготовка</th>\n",
       "    </tr>\n",
       "    <tr>\n",
       "      <th>Категория_слушателя</th>\n",
       "      <th>Место_работы_слушателя</th>\n",
       "      <th>Является_ли_слушатель_руководителем</th>\n",
       "      <th></th>\n",
       "      <th></th>\n",
       "    </tr>\n",
       "  </thead>\n",
       "  <tbody>\n",
       "    <tr>\n",
       "      <th rowspan=\"2\" valign=\"top\">лицо, замещающее государственную должность или должность ГГС</th>\n",
       "      <th rowspan=\"2\" valign=\"top\">Государственная/бюджетная организация</th>\n",
       "      <th>не руководитель</th>\n",
       "      <td>2.0</td>\n",
       "      <td>NaN</td>\n",
       "    </tr>\n",
       "    <tr>\n",
       "      <th>руководитель</th>\n",
       "      <td>1.0</td>\n",
       "      <td>NaN</td>\n",
       "    </tr>\n",
       "    <tr>\n",
       "      <th rowspan=\"4\" valign=\"top\">работник образовательной организации</th>\n",
       "      <th>Государственная/бюджетная организация</th>\n",
       "      <th>не руководитель</th>\n",
       "      <td>2.0</td>\n",
       "      <td>NaN</td>\n",
       "    </tr>\n",
       "    <tr>\n",
       "      <th>Дополнительное образование</th>\n",
       "      <th>не руководитель</th>\n",
       "      <td>1.0</td>\n",
       "      <td>NaN</td>\n",
       "    </tr>\n",
       "    <tr>\n",
       "      <th rowspan=\"2\" valign=\"top\">Общеобразовательная организация</th>\n",
       "      <th>не руководитель</th>\n",
       "      <td>17.0</td>\n",
       "      <td>8.0</td>\n",
       "    </tr>\n",
       "    <tr>\n",
       "      <th>руководитель</th>\n",
       "      <td>1.0</td>\n",
       "      <td>1.0</td>\n",
       "    </tr>\n",
       "    <tr>\n",
       "      <th rowspan=\"2\" valign=\"top\">студент ВО</th>\n",
       "      <th rowspan=\"2\" valign=\"top\">Общеобразовательная организация</th>\n",
       "      <th>не руководитель</th>\n",
       "      <td>1.0</td>\n",
       "      <td>NaN</td>\n",
       "    </tr>\n",
       "    <tr>\n",
       "      <th>руководитель</th>\n",
       "      <td>1.0</td>\n",
       "      <td>NaN</td>\n",
       "    </tr>\n",
       "    <tr>\n",
       "      <th>студент СПО</th>\n",
       "      <th>Общеобразовательная организация</th>\n",
       "      <th>руководитель</th>\n",
       "      <td>1.0</td>\n",
       "      <td>NaN</td>\n",
       "    </tr>\n",
       "  </tbody>\n",
       "</table>\n",
       "</div>"
      ],
      "text/plain": [
       "                                                                                                                                       for_counting  \\\n",
       "Дополнительная_профессиональная_программа_повышение_квалификации_профессиональная_переподготовка                             Повышение квалификации   \n",
       "Категория_слушателя                                Место_работы_слушателя                Является_ли_слушатель_руководителем                          \n",
       "лицо, замещающее государственную должность или ... Государственная/бюджетная организация не руководитель                                        2.0   \n",
       "                                                                                         руководитель                                           1.0   \n",
       "работник образовательной организации               Государственная/бюджетная организация не руководитель                                        2.0   \n",
       "                                                   Дополнительное образование            не руководитель                                        1.0   \n",
       "                                                   Общеобразовательная организация       не руководитель                                       17.0   \n",
       "                                                                                         руководитель                                           1.0   \n",
       "студент ВО                                         Общеобразовательная организация       не руководитель                                        1.0   \n",
       "                                                                                         руководитель                                           1.0   \n",
       "студент СПО                                        Общеобразовательная организация       руководитель                                           1.0   \n",
       "\n",
       "                                                                                                                                                              \n",
       "Дополнительная_профессиональная_программа_повышение_квалификации_профессиональная_переподготовка                             Профессиональная переподготовка  \n",
       "Категория_слушателя                                Место_работы_слушателя                Является_ли_слушатель_руководителем                                  \n",
       "лицо, замещающее государственную должность или ... Государственная/бюджетная организация не руководитель                                                 NaN  \n",
       "                                                                                         руководитель                                                    NaN  \n",
       "работник образовательной организации               Государственная/бюджетная организация не руководитель                                                 NaN  \n",
       "                                                   Дополнительное образование            не руководитель                                                 NaN  \n",
       "                                                   Общеобразовательная организация       не руководитель                                                 8.0  \n",
       "                                                                                         руководитель                                                    1.0  \n",
       "студент ВО                                         Общеобразовательная организация       не руководитель                                                 NaN  \n",
       "                                                                                         руководитель                                                    NaN  \n",
       "студент СПО                                        Общеобразовательная организация       руководитель                                                    NaN  "
      ]
     },
     "execution_count": 1907,
     "metadata": {},
     "output_type": "execute_result"
    }
   ],
   "source": [
    "df_2_1_pkpo"
   ]
  },
  {
   "cell_type": "code",
   "execution_count": 1908,
   "metadata": {},
   "outputs": [],
   "source": [
    "#Удаляем мультиколонку for counting\n",
    "df_2_1_pkpo.columns = df_2_1_pkpo.columns.droplevel()\n"
   ]
  },
  {
   "cell_type": "code",
   "execution_count": 1909,
   "metadata": {},
   "outputs": [],
   "source": [
    "# заполняем NaN нулями чтобы просуммировать\n",
    "df_2_1_pkpo.fillna(0.0,inplace=True)"
   ]
  },
  {
   "cell_type": "code",
   "execution_count": 1910,
   "metadata": {},
   "outputs": [],
   "source": [
    "# Считаем в зависимости от количества колонок\n",
    "if len(df_2_1_pkpo.columns) == 1:\n",
    "    df_2_1_pkpo['Всего слушателей_temp']= df_2_1_pkpo.iloc[:,0]\n",
    "else:\n",
    "    df_2_1_pkpo['Всего слушателей_temp'] = df_2_1_pkpo['Повышение квалификации'] + df_2_1_pkpo['Профессиональная переподготовка']\n",
    "     \n",
    "    "
   ]
  },
  {
   "cell_type": "code",
   "execution_count": 1911,
   "metadata": {},
   "outputs": [
    {
     "data": {
      "text/html": [
       "<div>\n",
       "<style scoped>\n",
       "    .dataframe tbody tr th:only-of-type {\n",
       "        vertical-align: middle;\n",
       "    }\n",
       "\n",
       "    .dataframe tbody tr th {\n",
       "        vertical-align: top;\n",
       "    }\n",
       "\n",
       "    .dataframe thead th {\n",
       "        text-align: right;\n",
       "    }\n",
       "</style>\n",
       "<table border=\"1\" class=\"dataframe\">\n",
       "  <thead>\n",
       "    <tr style=\"text-align: right;\">\n",
       "      <th></th>\n",
       "      <th></th>\n",
       "      <th>Дополнительная_профессиональная_программа_повышение_квалификации_профессиональная_переподготовка</th>\n",
       "      <th>Повышение квалификации</th>\n",
       "      <th>Профессиональная переподготовка</th>\n",
       "      <th>Всего слушателей_temp</th>\n",
       "    </tr>\n",
       "    <tr>\n",
       "      <th>Категория_слушателя</th>\n",
       "      <th>Место_работы_слушателя</th>\n",
       "      <th>Является_ли_слушатель_руководителем</th>\n",
       "      <th></th>\n",
       "      <th></th>\n",
       "      <th></th>\n",
       "    </tr>\n",
       "  </thead>\n",
       "  <tbody>\n",
       "    <tr>\n",
       "      <th rowspan=\"2\" valign=\"top\">лицо, замещающее государственную должность или должность ГГС</th>\n",
       "      <th rowspan=\"2\" valign=\"top\">Государственная/бюджетная организация</th>\n",
       "      <th>не руководитель</th>\n",
       "      <td>2.0</td>\n",
       "      <td>0.0</td>\n",
       "      <td>2.0</td>\n",
       "    </tr>\n",
       "    <tr>\n",
       "      <th>руководитель</th>\n",
       "      <td>1.0</td>\n",
       "      <td>0.0</td>\n",
       "      <td>1.0</td>\n",
       "    </tr>\n",
       "    <tr>\n",
       "      <th rowspan=\"4\" valign=\"top\">работник образовательной организации</th>\n",
       "      <th>Государственная/бюджетная организация</th>\n",
       "      <th>не руководитель</th>\n",
       "      <td>2.0</td>\n",
       "      <td>0.0</td>\n",
       "      <td>2.0</td>\n",
       "    </tr>\n",
       "    <tr>\n",
       "      <th>Дополнительное образование</th>\n",
       "      <th>не руководитель</th>\n",
       "      <td>1.0</td>\n",
       "      <td>0.0</td>\n",
       "      <td>1.0</td>\n",
       "    </tr>\n",
       "    <tr>\n",
       "      <th rowspan=\"2\" valign=\"top\">Общеобразовательная организация</th>\n",
       "      <th>не руководитель</th>\n",
       "      <td>17.0</td>\n",
       "      <td>8.0</td>\n",
       "      <td>25.0</td>\n",
       "    </tr>\n",
       "    <tr>\n",
       "      <th>руководитель</th>\n",
       "      <td>1.0</td>\n",
       "      <td>1.0</td>\n",
       "      <td>2.0</td>\n",
       "    </tr>\n",
       "    <tr>\n",
       "      <th rowspan=\"2\" valign=\"top\">студент ВО</th>\n",
       "      <th rowspan=\"2\" valign=\"top\">Общеобразовательная организация</th>\n",
       "      <th>не руководитель</th>\n",
       "      <td>1.0</td>\n",
       "      <td>0.0</td>\n",
       "      <td>1.0</td>\n",
       "    </tr>\n",
       "    <tr>\n",
       "      <th>руководитель</th>\n",
       "      <td>1.0</td>\n",
       "      <td>0.0</td>\n",
       "      <td>1.0</td>\n",
       "    </tr>\n",
       "    <tr>\n",
       "      <th>студент СПО</th>\n",
       "      <th>Общеобразовательная организация</th>\n",
       "      <th>руководитель</th>\n",
       "      <td>1.0</td>\n",
       "      <td>0.0</td>\n",
       "      <td>1.0</td>\n",
       "    </tr>\n",
       "  </tbody>\n",
       "</table>\n",
       "</div>"
      ],
      "text/plain": [
       "Дополнительная_профессиональная_программа_повышение_квалификации_профессиональная_переподготовка                              Повышение квалификации  \\\n",
       "Категория_слушателя                                Место_работы_слушателя                Является_ли_слушатель_руководителем                           \n",
       "лицо, замещающее государственную должность или ... Государственная/бюджетная организация не руководитель                                         2.0   \n",
       "                                                                                         руководитель                                            1.0   \n",
       "работник образовательной организации               Государственная/бюджетная организация не руководитель                                         2.0   \n",
       "                                                   Дополнительное образование            не руководитель                                         1.0   \n",
       "                                                   Общеобразовательная организация       не руководитель                                        17.0   \n",
       "                                                                                         руководитель                                            1.0   \n",
       "студент ВО                                         Общеобразовательная организация       не руководитель                                         1.0   \n",
       "                                                                                         руководитель                                            1.0   \n",
       "студент СПО                                        Общеобразовательная организация       руководитель                                            1.0   \n",
       "\n",
       "Дополнительная_профессиональная_программа_повышение_квалификации_профессиональная_переподготовка                              Профессиональная переподготовка  \\\n",
       "Категория_слушателя                                Место_работы_слушателя                Является_ли_слушатель_руководителем                                    \n",
       "лицо, замещающее государственную должность или ... Государственная/бюджетная организация не руководитель                                                  0.0   \n",
       "                                                                                         руководитель                                                     0.0   \n",
       "работник образовательной организации               Государственная/бюджетная организация не руководитель                                                  0.0   \n",
       "                                                   Дополнительное образование            не руководитель                                                  0.0   \n",
       "                                                   Общеобразовательная организация       не руководитель                                                  8.0   \n",
       "                                                                                         руководитель                                                     1.0   \n",
       "студент ВО                                         Общеобразовательная организация       не руководитель                                                  0.0   \n",
       "                                                                                         руководитель                                                     0.0   \n",
       "студент СПО                                        Общеобразовательная организация       руководитель                                                     0.0   \n",
       "\n",
       "Дополнительная_профессиональная_программа_повышение_квалификации_профессиональная_переподготовка                              Всего слушателей_temp  \n",
       "Категория_слушателя                                Место_работы_слушателя                Является_ли_слушатель_руководителем                         \n",
       "лицо, замещающее государственную должность или ... Государственная/бюджетная организация не руководитель                                        2.0  \n",
       "                                                                                         руководитель                                           1.0  \n",
       "работник образовательной организации               Государственная/бюджетная организация не руководитель                                        2.0  \n",
       "                                                   Дополнительное образование            не руководитель                                        1.0  \n",
       "                                                   Общеобразовательная организация       не руководитель                                       25.0  \n",
       "                                                                                         руководитель                                           2.0  \n",
       "студент ВО                                         Общеобразовательная организация       не руководитель                                        1.0  \n",
       "                                                                                         руководитель                                           1.0  \n",
       "студент СПО                                        Общеобразовательная организация       руководитель                                           1.0  "
      ]
     },
     "execution_count": 1911,
     "metadata": {},
     "output_type": "execute_result"
    }
   ],
   "source": [
    "df_2_1_pkpo"
   ]
  },
  {
   "cell_type": "code",
   "execution_count": 1912,
   "metadata": {},
   "outputs": [],
   "source": [
    "# Перемещаем колонку Всего слушателей\n",
    "df_2_1_pkpo.insert(0,'Всего слушателей',df_2_1_pkpo['Всего слушателей_temp'])\n"
   ]
  },
  {
   "cell_type": "code",
   "execution_count": 1913,
   "metadata": {},
   "outputs": [],
   "source": [
    "# Удаляем временную колонку\n",
    "df_2_1_pkpo.drop(columns='Всего слушателей_temp',axis=1,inplace=True)"
   ]
  },
  {
   "cell_type": "code",
   "execution_count": 1914,
   "metadata": {},
   "outputs": [],
   "source": [
    "df_2_1_pkpo=df_2_1_pkpo.reset_index()"
   ]
  },
  {
   "cell_type": "code",
   "execution_count": 1915,
   "metadata": {},
   "outputs": [],
   "source": [
    "wb['Раздел 2.1'][f'A1'] = 'Слушателей обученных по дополнительным профессиональным программам'\n",
    "wb['Раздел 2.1'][f'A1'].font = font_name_table"
   ]
  },
  {
   "cell_type": "code",
   "execution_count": 1916,
   "metadata": {},
   "outputs": [],
   "source": [
    "#Сохраняем датафрейм с подсчетом по пк и пп в лист Раздел 2.1\n",
    "for r in dataframe_to_rows(df_2_1_pkpo, index=False, header=True):\n",
    "    if len(r) != 1:\n",
    "        wb['Раздел 2.1'].append(r)"
   ]
  },
  {
   "cell_type": "code",
   "execution_count": 1917,
   "metadata": {},
   "outputs": [],
   "source": [
    "# Считаем слушателей по модульным программам с вариативным выбором\n",
    "df_2_1_module_pkpo_yes = df_2_1[df_2_1['Модульная_программа_с_вариативным_выбором'] == 'да']"
   ]
  },
  {
   "cell_type": "code",
   "execution_count": 1918,
   "metadata": {},
   "outputs": [],
   "source": [
    "df_2_1_module_pkpo = pd.pivot_table(df_2_1_module_pkpo_yes,\n",
    "                                    index=['Категория_слушателя','Место_работы_слушателя','Является_ли_слушатель_руководителем'],\n",
    "              columns = ['Дополнительная_профессиональная_программа_повышение_квалификации_профессиональная_переподготовка'],\n",
    "              values=['for_counting'],\n",
    "              aggfunc='sum')"
   ]
  },
  {
   "cell_type": "code",
   "execution_count": 1919,
   "metadata": {},
   "outputs": [],
   "source": [
    "# Удаляем мультиколонку\n",
    "df_2_1_module_pkpo.columns = df_2_1_module_pkpo.columns.droplevel()"
   ]
  },
  {
   "cell_type": "code",
   "execution_count": 1920,
   "metadata": {},
   "outputs": [],
   "source": [
    "# Заполняем NaN\n",
    "df_2_1_module_pkpo.fillna(0.0,inplace=True)"
   ]
  },
  {
   "cell_type": "code",
   "execution_count": 1921,
   "metadata": {},
   "outputs": [],
   "source": [
    "# Считаем в зависимости от количества колонок\n",
    "if len(df_2_1_module_pkpo.columns) == 1:\n",
    "    df_2_1_module_pkpo['Всего слушателей_temp']= df_2_1_module_pkpo.iloc[:,0]\n",
    "else:\n",
    "    df_2_1_module_pkpo['Всего слушателей_temp'] = df_2_1_module_pkpo['Повышение квалификации'] + df_2_1_module_pkpo['Профессиональная переподготовка']"
   ]
  },
  {
   "cell_type": "code",
   "execution_count": 1922,
   "metadata": {},
   "outputs": [
    {
     "data": {
      "text/html": [
       "<div>\n",
       "<style scoped>\n",
       "    .dataframe tbody tr th:only-of-type {\n",
       "        vertical-align: middle;\n",
       "    }\n",
       "\n",
       "    .dataframe tbody tr th {\n",
       "        vertical-align: top;\n",
       "    }\n",
       "\n",
       "    .dataframe thead th {\n",
       "        text-align: right;\n",
       "    }\n",
       "</style>\n",
       "<table border=\"1\" class=\"dataframe\">\n",
       "  <thead>\n",
       "    <tr style=\"text-align: right;\">\n",
       "      <th></th>\n",
       "      <th></th>\n",
       "      <th>Дополнительная_профессиональная_программа_повышение_квалификации_профессиональная_переподготовка</th>\n",
       "      <th>Повышение квалификации</th>\n",
       "      <th>Всего слушателей_temp</th>\n",
       "    </tr>\n",
       "    <tr>\n",
       "      <th>Категория_слушателя</th>\n",
       "      <th>Место_работы_слушателя</th>\n",
       "      <th>Является_ли_слушатель_руководителем</th>\n",
       "      <th></th>\n",
       "      <th></th>\n",
       "    </tr>\n",
       "  </thead>\n",
       "  <tbody>\n",
       "    <tr>\n",
       "      <th rowspan=\"2\" valign=\"top\">лицо, замещающее государственную должность или должность ГГС</th>\n",
       "      <th rowspan=\"2\" valign=\"top\">Государственная/бюджетная организация</th>\n",
       "      <th>не руководитель</th>\n",
       "      <td>2.0</td>\n",
       "      <td>2.0</td>\n",
       "    </tr>\n",
       "    <tr>\n",
       "      <th>руководитель</th>\n",
       "      <td>1.0</td>\n",
       "      <td>1.0</td>\n",
       "    </tr>\n",
       "  </tbody>\n",
       "</table>\n",
       "</div>"
      ],
      "text/plain": [
       "Дополнительная_профессиональная_программа_повышение_квалификации_профессиональная_переподготовка                              Повышение квалификации  \\\n",
       "Категория_слушателя                                Место_работы_слушателя                Является_ли_слушатель_руководителем                           \n",
       "лицо, замещающее государственную должность или ... Государственная/бюджетная организация не руководитель                                         2.0   \n",
       "                                                                                         руководитель                                            1.0   \n",
       "\n",
       "Дополнительная_профессиональная_программа_повышение_квалификации_профессиональная_переподготовка                              Всего слушателей_temp  \n",
       "Категория_слушателя                                Место_работы_слушателя                Является_ли_слушатель_руководителем                         \n",
       "лицо, замещающее государственную должность или ... Государственная/бюджетная организация не руководитель                                        2.0  \n",
       "                                                                                         руководитель                                           1.0  "
      ]
     },
     "execution_count": 1922,
     "metadata": {},
     "output_type": "execute_result"
    }
   ],
   "source": [
    "df_2_1_module_pkpo"
   ]
  },
  {
   "cell_type": "code",
   "execution_count": 1923,
   "metadata": {},
   "outputs": [],
   "source": [
    "# перемещаем колонку всего слушателй_temp\n",
    "df_2_1_module_pkpo.insert(0,'Всего слушателей',df_2_1_module_pkpo['Всего слушателей_temp'])"
   ]
  },
  {
   "cell_type": "code",
   "execution_count": 1924,
   "metadata": {},
   "outputs": [],
   "source": [
    "# Удаляем лишнюю колонку\n",
    "df_2_1_module_pkpo.drop(columns='Всего слушателей_temp',axis=1,inplace=True)"
   ]
  },
  {
   "cell_type": "code",
   "execution_count": 1925,
   "metadata": {},
   "outputs": [],
   "source": [
    "df_2_1_module_pkpo = df_2_1_module_pkpo.reset_index()"
   ]
  },
  {
   "cell_type": "code",
   "execution_count": 1926,
   "metadata": {},
   "outputs": [],
   "source": [
    "# получаем максимальную строку для модульной части\n",
    "max_row_module = wb['Раздел 2.1'].max_row"
   ]
  },
  {
   "cell_type": "code",
   "execution_count": 1927,
   "metadata": {},
   "outputs": [],
   "source": [
    "wb['Раздел 2.1'][f'A{max_row_module+2}'] = 'Обучено слушателей по модульным программам с вариативным выбором'\n",
    "wb['Раздел 2.1'][f'A{max_row_module+2}'].font = font_name_table"
   ]
  },
  {
   "cell_type": "code",
   "execution_count": 1928,
   "metadata": {},
   "outputs": [],
   "source": [
    "#Сохраняем датафрейм с подсчетом слушателей модульных программ  пк и пп  в лист Раздел 2.1\n",
    "for r in dataframe_to_rows(df_2_1_module_pkpo, index=False, header=True):\n",
    "    if len(r) != 1:\n",
    "        wb['Раздел 2.1'].append(r)"
   ]
  },
  {
   "cell_type": "code",
   "execution_count": 1929,
   "metadata": {},
   "outputs": [],
   "source": [
    "# Создаем промежуток\n",
    "max_row_women = wb['Раздел 2.1'].max_row"
   ]
  },
  {
   "cell_type": "code",
   "execution_count": 1930,
   "metadata": {},
   "outputs": [],
   "source": [
    "wb['Раздел 2.1'][f'A{max_row_women+2}'] = 'Обучено женщин слушателей'\n",
    "wb['Раздел 2.1'][f'A{max_row_women+2}'].font = font_name_table"
   ]
  },
  {
   "cell_type": "code",
   "execution_count": 1931,
   "metadata": {},
   "outputs": [],
   "source": [
    "# Считаем женщин\n",
    "df_2_1_women_yes = df_2_1[df_2_1['Пол_получателя'] == 'Жен']"
   ]
  },
  {
   "cell_type": "code",
   "execution_count": 1932,
   "metadata": {},
   "outputs": [],
   "source": [
    "df_2_1_women = pd.pivot_table(df_2_1_women_yes,\n",
    "                                    index=['Категория_слушателя','Место_работы_слушателя','Является_ли_слушатель_руководителем'],\n",
    "              columns = ['Дополнительная_профессиональная_программа_повышение_квалификации_профессиональная_переподготовка'],\n",
    "              values=['for_counting'],\n",
    "              aggfunc='sum')"
   ]
  },
  {
   "cell_type": "code",
   "execution_count": 1933,
   "metadata": {},
   "outputs": [
    {
     "data": {
      "text/html": [
       "<div>\n",
       "<style scoped>\n",
       "    .dataframe tbody tr th:only-of-type {\n",
       "        vertical-align: middle;\n",
       "    }\n",
       "\n",
       "    .dataframe tbody tr th {\n",
       "        vertical-align: top;\n",
       "    }\n",
       "\n",
       "    .dataframe thead tr th {\n",
       "        text-align: left;\n",
       "    }\n",
       "\n",
       "    .dataframe thead tr:last-of-type th {\n",
       "        text-align: right;\n",
       "    }\n",
       "</style>\n",
       "<table border=\"1\" class=\"dataframe\">\n",
       "  <thead>\n",
       "    <tr>\n",
       "      <th></th>\n",
       "      <th></th>\n",
       "      <th></th>\n",
       "      <th colspan=\"2\" halign=\"left\">for_counting</th>\n",
       "    </tr>\n",
       "    <tr>\n",
       "      <th></th>\n",
       "      <th></th>\n",
       "      <th>Дополнительная_профессиональная_программа_повышение_квалификации_профессиональная_переподготовка</th>\n",
       "      <th>Повышение квалификации</th>\n",
       "      <th>Профессиональная переподготовка</th>\n",
       "    </tr>\n",
       "    <tr>\n",
       "      <th>Категория_слушателя</th>\n",
       "      <th>Место_работы_слушателя</th>\n",
       "      <th>Является_ли_слушатель_руководителем</th>\n",
       "      <th></th>\n",
       "      <th></th>\n",
       "    </tr>\n",
       "  </thead>\n",
       "  <tbody>\n",
       "    <tr>\n",
       "      <th rowspan=\"2\" valign=\"top\">лицо, замещающее государственную должность или должность ГГС</th>\n",
       "      <th rowspan=\"2\" valign=\"top\">Государственная/бюджетная организация</th>\n",
       "      <th>не руководитель</th>\n",
       "      <td>1.0</td>\n",
       "      <td>NaN</td>\n",
       "    </tr>\n",
       "    <tr>\n",
       "      <th>руководитель</th>\n",
       "      <td>1.0</td>\n",
       "      <td>NaN</td>\n",
       "    </tr>\n",
       "    <tr>\n",
       "      <th rowspan=\"4\" valign=\"top\">работник образовательной организации</th>\n",
       "      <th>Государственная/бюджетная организация</th>\n",
       "      <th>не руководитель</th>\n",
       "      <td>2.0</td>\n",
       "      <td>NaN</td>\n",
       "    </tr>\n",
       "    <tr>\n",
       "      <th>Дополнительное образование</th>\n",
       "      <th>не руководитель</th>\n",
       "      <td>1.0</td>\n",
       "      <td>NaN</td>\n",
       "    </tr>\n",
       "    <tr>\n",
       "      <th rowspan=\"2\" valign=\"top\">Общеобразовательная организация</th>\n",
       "      <th>не руководитель</th>\n",
       "      <td>14.0</td>\n",
       "      <td>6.0</td>\n",
       "    </tr>\n",
       "    <tr>\n",
       "      <th>руководитель</th>\n",
       "      <td>1.0</td>\n",
       "      <td>1.0</td>\n",
       "    </tr>\n",
       "    <tr>\n",
       "      <th>студент ВО</th>\n",
       "      <th>Общеобразовательная организация</th>\n",
       "      <th>не руководитель</th>\n",
       "      <td>1.0</td>\n",
       "      <td>NaN</td>\n",
       "    </tr>\n",
       "  </tbody>\n",
       "</table>\n",
       "</div>"
      ],
      "text/plain": [
       "                                                                                                                                       for_counting  \\\n",
       "Дополнительная_профессиональная_программа_повышение_квалификации_профессиональная_переподготовка                             Повышение квалификации   \n",
       "Категория_слушателя                                Место_работы_слушателя                Является_ли_слушатель_руководителем                          \n",
       "лицо, замещающее государственную должность или ... Государственная/бюджетная организация не руководитель                                        1.0   \n",
       "                                                                                         руководитель                                           1.0   \n",
       "работник образовательной организации               Государственная/бюджетная организация не руководитель                                        2.0   \n",
       "                                                   Дополнительное образование            не руководитель                                        1.0   \n",
       "                                                   Общеобразовательная организация       не руководитель                                       14.0   \n",
       "                                                                                         руководитель                                           1.0   \n",
       "студент ВО                                         Общеобразовательная организация       не руководитель                                        1.0   \n",
       "\n",
       "                                                                                                                                                              \n",
       "Дополнительная_профессиональная_программа_повышение_квалификации_профессиональная_переподготовка                             Профессиональная переподготовка  \n",
       "Категория_слушателя                                Место_работы_слушателя                Является_ли_слушатель_руководителем                                  \n",
       "лицо, замещающее государственную должность или ... Государственная/бюджетная организация не руководитель                                                 NaN  \n",
       "                                                                                         руководитель                                                    NaN  \n",
       "работник образовательной организации               Государственная/бюджетная организация не руководитель                                                 NaN  \n",
       "                                                   Дополнительное образование            не руководитель                                                 NaN  \n",
       "                                                   Общеобразовательная организация       не руководитель                                                 6.0  \n",
       "                                                                                         руководитель                                                    1.0  \n",
       "студент ВО                                         Общеобразовательная организация       не руководитель                                                 NaN  "
      ]
     },
     "execution_count": 1933,
     "metadata": {},
     "output_type": "execute_result"
    }
   ],
   "source": [
    "df_2_1_women"
   ]
  },
  {
   "cell_type": "code",
   "execution_count": 1934,
   "metadata": {},
   "outputs": [],
   "source": [
    "\n",
    "# Удаляем мультиколонку\n",
    "df_2_1_women.columns = df_2_1_women.columns.droplevel()\n",
    "True\n",
    "# Заполняем NaN\n",
    "df_2_1_women.fillna(0.0,inplace=True)\n"
   ]
  },
  {
   "cell_type": "code",
   "execution_count": 1935,
   "metadata": {},
   "outputs": [],
   "source": [
    "# Считаем в зависимости от количества колонок\n",
    "if len(df_2_1_women.columns) == 1:\n",
    "    df_2_1_women['Всего слушателей_temp']= df_2_1_women.iloc[:,0]\n",
    "else:\n",
    "    df_2_1_women['Всего слушателей_temp'] = df_2_1_women['Повышение квалификации'] + df_2_1_women['Профессиональная переподготовка']"
   ]
  },
  {
   "cell_type": "code",
   "execution_count": 1936,
   "metadata": {},
   "outputs": [],
   "source": [
    "# перемещаем колонку всего слушателй_temp\n",
    "df_2_1_women.insert(0,'Всего женщин-слушателей',df_2_1_women['Всего слушателей_temp'])"
   ]
  },
  {
   "cell_type": "code",
   "execution_count": 1937,
   "metadata": {},
   "outputs": [],
   "source": [
    "# Удаляем лишнюю колонку\n",
    "df_2_1_women.drop(columns='Всего слушателей_temp',axis=1,inplace=True)"
   ]
  },
  {
   "cell_type": "code",
   "execution_count": 1938,
   "metadata": {},
   "outputs": [],
   "source": [
    "df_2_1_women = df_2_1_women.reset_index()"
   ]
  },
  {
   "cell_type": "code",
   "execution_count": 1939,
   "metadata": {},
   "outputs": [],
   "source": [
    "#Сохраняем датафрейм с подсчетом женщин  по пк и пп в лист Раздел 2.1\n",
    "for r in dataframe_to_rows(df_2_1_women, index=False, header=True):\n",
    "    if len(r) != 1:\n",
    "        wb['Раздел 2.1'].append(r)"
   ]
  },
  {
   "cell_type": "code",
   "execution_count": 1940,
   "metadata": {},
   "outputs": [],
   "source": [
    "# Создаем датафрейм для строк 28 и 29 по обычным программам\n"
   ]
  },
  {
   "cell_type": "code",
   "execution_count": 1941,
   "metadata": {},
   "outputs": [],
   "source": [
    "# Создаем список категорий слушателей которых нужно посчитать\n",
    "lst_cat = ['работник предприятия или организации','работник образовательной организации','лицо, замещающее государственную должность или должность ГГС'\n",
    "           ,'лицо,замещающее муниципальную должность или должность муниципальной службы','лицо,уволенное с военной службы','незанятое лицо по направлению СЗ','другое']"
   ]
  },
  {
   "cell_type": "code",
   "execution_count": 1942,
   "metadata": {},
   "outputs": [],
   "source": [
    "\n",
    "df_2_1_28_29_base = df_2_1.loc[df_2_1['Категория_слушателя'].isin(lst_cat)]"
   ]
  },
  {
   "cell_type": "code",
   "execution_count": 1943,
   "metadata": {},
   "outputs": [],
   "source": [
    "df_2_1_28_29 = pd.pivot_table(df_2_1_28_29_base,index=['Уровень_образования_ВО_СПО'],\n",
    "              columns = ['Дополнительная_профессиональная_программа_повышение_квалификации_профессиональная_переподготовка'],\n",
    "              values=['for_counting'],\n",
    "              aggfunc='sum')"
   ]
  },
  {
   "cell_type": "code",
   "execution_count": 1944,
   "metadata": {},
   "outputs": [
    {
     "data": {
      "text/html": [
       "<div>\n",
       "<style scoped>\n",
       "    .dataframe tbody tr th:only-of-type {\n",
       "        vertical-align: middle;\n",
       "    }\n",
       "\n",
       "    .dataframe tbody tr th {\n",
       "        vertical-align: top;\n",
       "    }\n",
       "\n",
       "    .dataframe thead tr th {\n",
       "        text-align: left;\n",
       "    }\n",
       "\n",
       "    .dataframe thead tr:last-of-type th {\n",
       "        text-align: right;\n",
       "    }\n",
       "</style>\n",
       "<table border=\"1\" class=\"dataframe\">\n",
       "  <thead>\n",
       "    <tr>\n",
       "      <th></th>\n",
       "      <th colspan=\"2\" halign=\"left\">for_counting</th>\n",
       "    </tr>\n",
       "    <tr>\n",
       "      <th>Дополнительная_профессиональная_программа_повышение_квалификации_профессиональная_переподготовка</th>\n",
       "      <th>Повышение квалификации</th>\n",
       "      <th>Профессиональная переподготовка</th>\n",
       "    </tr>\n",
       "    <tr>\n",
       "      <th>Уровень_образования_ВО_СПО</th>\n",
       "      <th></th>\n",
       "      <th></th>\n",
       "    </tr>\n",
       "  </thead>\n",
       "  <tbody>\n",
       "    <tr>\n",
       "      <th>Высшее образование</th>\n",
       "      <td>13.0</td>\n",
       "      <td>6.0</td>\n",
       "    </tr>\n",
       "    <tr>\n",
       "      <th>Среднее профессиональное образование</th>\n",
       "      <td>11.0</td>\n",
       "      <td>3.0</td>\n",
       "    </tr>\n",
       "  </tbody>\n",
       "</table>\n",
       "</div>"
      ],
      "text/plain": [
       "                                                                                                           for_counting  \\\n",
       "Дополнительная_профессиональная_программа_повышение_квалификации_профессиональная_переподготовка Повышение квалификации   \n",
       "Уровень_образования_ВО_СПО                                                                                                \n",
       "Высшее образование                                                                                                 13.0   \n",
       "Среднее профессиональное образование                                                                               11.0   \n",
       "\n",
       "                                                                                                                                  \n",
       "Дополнительная_профессиональная_программа_повышение_квалификации_профессиональная_переподготовка Профессиональная переподготовка  \n",
       "Уровень_образования_ВО_СПО                                                                                                        \n",
       "Высшее образование                                                                                                           6.0  \n",
       "Среднее профессиональное образование                                                                                         3.0  "
      ]
     },
     "execution_count": 1944,
     "metadata": {},
     "output_type": "execute_result"
    }
   ],
   "source": [
    "df_2_1_28_29"
   ]
  },
  {
   "cell_type": "code",
   "execution_count": 1945,
   "metadata": {},
   "outputs": [],
   "source": [
    "\n",
    "# Удаляем мультиколонку\n",
    "df_2_1_28_29.columns = df_2_1_28_29.columns.droplevel()\n",
    "True\n",
    "# Заполняем NaN\n",
    "df_2_1_28_29.fillna(0.0,inplace=True)\n",
    "# Считаем в зависимости от количества колонок\n",
    "if len(df_2_1_28_29.columns) == 1:\n",
    "    df_2_1_28_29['Всего слушателей_temp']= df_2_1_28_29.iloc[:,0]\n",
    "else:\n",
    "    df_2_1_28_29['Всего слушателей_temp'] = df_2_1_28_29['Повышение квалификации'] + df_2_1_28_29['Профессиональная переподготовка']"
   ]
  },
  {
   "cell_type": "code",
   "execution_count": 1946,
   "metadata": {},
   "outputs": [],
   "source": [
    "# перемещаем колонку всего слушателй_temp\n",
    "df_2_1_28_29.insert(0,'Всего слушателей',df_2_1_28_29['Всего слушателей_temp'])\n",
    "# Удаляем лишнюю колонку\n",
    "df_2_1_28_29.drop(columns='Всего слушателей_temp',axis=1,inplace=True)\n",
    "df_2_1_28_29 = df_2_1_28_29.reset_index()"
   ]
  },
  {
   "cell_type": "code",
   "execution_count": 1947,
   "metadata": {},
   "outputs": [],
   "source": [
    "#Добавляем заголовок\n",
    "wb['Раздел 2.1 Строки 28,29,30'][f'A1'] = 'Образование слушателей обученных по дополнительным профессиональным программам'\n",
    "wb['Раздел 2.1 Строки 28,29,30'][f'A1'].font = font_name_table"
   ]
  },
  {
   "cell_type": "code",
   "execution_count": 1948,
   "metadata": {},
   "outputs": [],
   "source": [
    "for r in dataframe_to_rows(df_2_1_28_29, index=False, header=True):\n",
    "    if len(r) != 1:\n",
    "        wb['Раздел 2.1 Строки 28,29,30'].append(r)"
   ]
  },
  {
   "cell_type": "code",
   "execution_count": 1949,
   "metadata": {},
   "outputs": [],
   "source": [
    "# # Создаем датафрейм для строк 28 и 29 по модульным программам с вариативным выбором\n",
    "df_2_1_28_29_module_base= df_2_1_28_29_base[df_2_1_28_29_base['Модульная_программа_с_вариативным_выбором'] == 'да']"
   ]
  },
  {
   "cell_type": "code",
   "execution_count": 1950,
   "metadata": {},
   "outputs": [],
   "source": [
    "df_2_1_28_29_module = pd.pivot_table(df_2_1_28_29_module_base,index=['Уровень_образования_ВО_СПО'],\n",
    "              columns = ['Дополнительная_профессиональная_программа_повышение_квалификации_профессиональная_переподготовка'],\n",
    "              values=['for_counting'],\n",
    "              aggfunc='sum')"
   ]
  },
  {
   "cell_type": "code",
   "execution_count": 1951,
   "metadata": {},
   "outputs": [],
   "source": [
    "\n",
    "# Удаляем мультиколонку\n",
    "df_2_1_28_29_module.columns = df_2_1_28_29_module.columns.droplevel()\n",
    "True\n",
    "# Заполняем NaN\n",
    "df_2_1_28_29_module.fillna(0.0,inplace=True)\n",
    "# Считаем в зависимости от количества колонок\n",
    "if len(df_2_1_28_29_module.columns) == 1:\n",
    "    df_2_1_28_29_module['Всего слушателей_temp']= df_2_1_28_29_module.iloc[:,0]\n",
    "else:\n",
    "    df_2_1_28_29_module['Всего слушателей_temp'] = df_2_1_28_29_module['Повышение квалификации'] + df_2_1_28_29_module['Профессиональная переподготовка']\n",
    "# перемещаем колонку всего слушателй_temp\n",
    "df_2_1_28_29_module.insert(0,'Всего слушателей',df_2_1_28_29_module['Всего слушателей_temp'])\n",
    "# Удаляем лишнюю колонку\n",
    "df_2_1_28_29_module.drop(columns='Всего слушателей_temp',axis=1,inplace=True)\n",
    "df_2_1_28_29_module = df_2_1_28_29_module.reset_index()"
   ]
  },
  {
   "cell_type": "code",
   "execution_count": 1952,
   "metadata": {},
   "outputs": [
    {
     "data": {
      "text/html": [
       "<div>\n",
       "<style scoped>\n",
       "    .dataframe tbody tr th:only-of-type {\n",
       "        vertical-align: middle;\n",
       "    }\n",
       "\n",
       "    .dataframe tbody tr th {\n",
       "        vertical-align: top;\n",
       "    }\n",
       "\n",
       "    .dataframe thead th {\n",
       "        text-align: right;\n",
       "    }\n",
       "</style>\n",
       "<table border=\"1\" class=\"dataframe\">\n",
       "  <thead>\n",
       "    <tr style=\"text-align: right;\">\n",
       "      <th>Дополнительная_профессиональная_программа_повышение_квалификации_профессиональная_переподготовка</th>\n",
       "      <th>Уровень_образования_ВО_СПО</th>\n",
       "      <th>Всего слушателей</th>\n",
       "      <th>Повышение квалификации</th>\n",
       "    </tr>\n",
       "  </thead>\n",
       "  <tbody>\n",
       "    <tr>\n",
       "      <th>0</th>\n",
       "      <td>Высшее образование</td>\n",
       "      <td>1.0</td>\n",
       "      <td>1.0</td>\n",
       "    </tr>\n",
       "    <tr>\n",
       "      <th>1</th>\n",
       "      <td>Среднее профессиональное образование</td>\n",
       "      <td>2.0</td>\n",
       "      <td>2.0</td>\n",
       "    </tr>\n",
       "  </tbody>\n",
       "</table>\n",
       "</div>"
      ],
      "text/plain": [
       "Дополнительная_профессиональная_программа_повышение_квалификации_профессиональная_переподготовка            Уровень_образования_ВО_СПО  \\\n",
       "0                                                                                                                   Высшее образование   \n",
       "1                                                                                                 Среднее профессиональное образование   \n",
       "\n",
       "Дополнительная_профессиональная_программа_повышение_квалификации_профессиональная_переподготовка  Всего слушателей  \\\n",
       "0                                                                                                              1.0   \n",
       "1                                                                                                              2.0   \n",
       "\n",
       "Дополнительная_профессиональная_программа_повышение_квалификации_профессиональная_переподготовка  Повышение квалификации  \n",
       "0                                                                                                                    1.0  \n",
       "1                                                                                                                    2.0  "
      ]
     },
     "execution_count": 1952,
     "metadata": {},
     "output_type": "execute_result"
    }
   ],
   "source": [
    "df_2_1_28_29_module"
   ]
  },
  {
   "cell_type": "code",
   "execution_count": 1953,
   "metadata": {},
   "outputs": [],
   "source": [
    "# Создаем промежуток\n",
    "max_row_28_29_module = wb['Раздел 2.1 Строки 28,29,30'].max_row\n",
    "wb['Раздел 2.1 Строки 28,29,30'][f'A{max_row_28_29_module+2}'] = 'Образование слушателей обученных по модульным программам с вариативным выбором'\n",
    "wb['Раздел 2.1 Строки 28,29,30'][f'A{max_row_28_29_module+2}'].font = font_name_table"
   ]
  },
  {
   "cell_type": "code",
   "execution_count": 1954,
   "metadata": {},
   "outputs": [],
   "source": [
    "for r in dataframe_to_rows(df_2_1_28_29_module, index=False, header=True):\n",
    "    if len(r) != 1:\n",
    "        wb['Раздел 2.1 Строки 28,29,30'].append(r)"
   ]
  },
  {
   "cell_type": "code",
   "execution_count": 1955,
   "metadata": {},
   "outputs": [],
   "source": [
    "# Создаем датафрейм 28 и 29 для женщин\n",
    "df_2_1_28_29_women_base = df_2_1_28_29_base[df_2_1_28_29_base['Пол_получателя'] =='Жен']"
   ]
  },
  {
   "cell_type": "code",
   "execution_count": 1956,
   "metadata": {},
   "outputs": [],
   "source": [
    "df_2_1_28_29_women = pd.pivot_table(df_2_1_28_29_women_base,index=['Уровень_образования_ВО_СПО'],\n",
    "              columns = ['Дополнительная_профессиональная_программа_повышение_квалификации_профессиональная_переподготовка'],\n",
    "              values=['for_counting'],\n",
    "              aggfunc='sum')"
   ]
  },
  {
   "cell_type": "code",
   "execution_count": 1957,
   "metadata": {},
   "outputs": [],
   "source": [
    "\n",
    "# Удаляем мультиколонку\n",
    "df_2_1_28_29_women.columns = df_2_1_28_29_women.columns.droplevel()\n",
    "True\n",
    "# Заполняем NaN\n",
    "df_2_1_28_29_women.fillna(0.0,inplace=True)\n",
    "# Считаем в зависимости от количества колонок\n",
    "if len(df_2_1_28_29_women.columns) == 1:\n",
    "    df_2_1_28_29_women['Всего слушателей_temp']= df_2_1_28_29_women.iloc[:,0]\n",
    "else:\n",
    "    df_2_1_28_29_women['Всего слушателей_temp'] = df_2_1_28_29_women['Повышение квалификации'] + df_2_1_28_29_women['Профессиональная переподготовка']\n",
    "# перемещаем колонку всего слушателй_temp\n",
    "df_2_1_28_29_women.insert(0,'Всего женщин-слушателей',df_2_1_28_29_women['Всего слушателей_temp'])\n",
    "# Удаляем лишнюю колонку\n",
    "df_2_1_28_29_women.drop(columns='Всего слушателей_temp',axis=1,inplace=True)\n",
    "df_2_1_28_29_women = df_2_1_28_29_women.reset_index()"
   ]
  },
  {
   "cell_type": "code",
   "execution_count": 1958,
   "metadata": {},
   "outputs": [
    {
     "data": {
      "text/html": [
       "<div>\n",
       "<style scoped>\n",
       "    .dataframe tbody tr th:only-of-type {\n",
       "        vertical-align: middle;\n",
       "    }\n",
       "\n",
       "    .dataframe tbody tr th {\n",
       "        vertical-align: top;\n",
       "    }\n",
       "\n",
       "    .dataframe thead th {\n",
       "        text-align: right;\n",
       "    }\n",
       "</style>\n",
       "<table border=\"1\" class=\"dataframe\">\n",
       "  <thead>\n",
       "    <tr style=\"text-align: right;\">\n",
       "      <th>Дополнительная_профессиональная_программа_повышение_квалификации_профессиональная_переподготовка</th>\n",
       "      <th>Уровень_образования_ВО_СПО</th>\n",
       "      <th>Всего женщин-слушателей</th>\n",
       "      <th>Повышение квалификации</th>\n",
       "      <th>Профессиональная переподготовка</th>\n",
       "    </tr>\n",
       "  </thead>\n",
       "  <tbody>\n",
       "    <tr>\n",
       "      <th>0</th>\n",
       "      <td>Высшее образование</td>\n",
       "      <td>16.0</td>\n",
       "      <td>11.0</td>\n",
       "      <td>5.0</td>\n",
       "    </tr>\n",
       "    <tr>\n",
       "      <th>1</th>\n",
       "      <td>Среднее профессиональное образование</td>\n",
       "      <td>11.0</td>\n",
       "      <td>9.0</td>\n",
       "      <td>2.0</td>\n",
       "    </tr>\n",
       "  </tbody>\n",
       "</table>\n",
       "</div>"
      ],
      "text/plain": [
       "Дополнительная_профессиональная_программа_повышение_квалификации_профессиональная_переподготовка            Уровень_образования_ВО_СПО  \\\n",
       "0                                                                                                                   Высшее образование   \n",
       "1                                                                                                 Среднее профессиональное образование   \n",
       "\n",
       "Дополнительная_профессиональная_программа_повышение_квалификации_профессиональная_переподготовка  Всего женщин-слушателей  \\\n",
       "0                                                                                                                    16.0   \n",
       "1                                                                                                                    11.0   \n",
       "\n",
       "Дополнительная_профессиональная_программа_повышение_квалификации_профессиональная_переподготовка  Повышение квалификации  \\\n",
       "0                                                                                                                   11.0   \n",
       "1                                                                                                                    9.0   \n",
       "\n",
       "Дополнительная_профессиональная_программа_повышение_квалификации_профессиональная_переподготовка  Профессиональная переподготовка  \n",
       "0                                                                                                                             5.0  \n",
       "1                                                                                                                             2.0  "
      ]
     },
     "execution_count": 1958,
     "metadata": {},
     "output_type": "execute_result"
    }
   ],
   "source": [
    "df_2_1_28_29_women"
   ]
  },
  {
   "cell_type": "code",
   "execution_count": 1959,
   "metadata": {},
   "outputs": [],
   "source": [
    "# Создаем промежуток\n",
    "max_row_28_29_women = wb['Раздел 2.1 Строки 28,29,30'].max_row\n",
    "wb['Раздел 2.1 Строки 28,29,30'][f'A{max_row_28_29_women+2}'] = 'Образование женщин обученных по дополнительным профессиональным программам'\n",
    "wb['Раздел 2.1 Строки 28,29,30'][f'A{max_row_28_29_women+2}'].font = font_name_table"
   ]
  },
  {
   "cell_type": "code",
   "execution_count": 1960,
   "metadata": {},
   "outputs": [],
   "source": [
    "for r in dataframe_to_rows(df_2_1_28_29_women, index=False, header=True):\n",
    "    if len(r) != 1:\n",
    "        wb['Раздел 2.1 Строки 28,29,30'].append(r)"
   ]
  },
  {
   "cell_type": "code",
   "execution_count": 1961,
   "metadata": {},
   "outputs": [],
   "source": [
    "# Создаем датафреймы для строки 30\n",
    "# Создаем список категорий слушателей которых нужно посчитать\n",
    "lst_cat_30 = ['работник предприятия или организации','работник образовательной организации','лицо, замещающее государственную должность или должность ГГС'\n",
    "           ,'лицо,замещающее муниципальную должность или должность муниципальной службы','лицо,уволенное с военной службы','незанятое лицо по направлению СЗ','студент ВО','другое']\n",
    "\n",
    "\n",
    "df_2_1_30_base = df_2_1.loc[df_2_1['Категория_слушателя'].isin(lst_cat_30)]\n"
   ]
  },
  {
   "cell_type": "code",
   "execution_count": 1962,
   "metadata": {},
   "outputs": [],
   "source": [
    "df_2_1_30_base = df_2_1_30_base[df_2_1_30_base['Для_освоения_ДПП_требуется_наличие_ВО'] == 'требуется ВО']"
   ]
  },
  {
   "cell_type": "code",
   "execution_count": 1963,
   "metadata": {},
   "outputs": [],
   "source": [
    "df_2_1_30 = pd.pivot_table(df_2_1_30_base, index=['Уровень_образования_ВО_СПО'],\n",
    "              columns = ['Дополнительная_профессиональная_программа_повышение_квалификации_профессиональная_переподготовка'],\n",
    "              values=['for_counting'],\n",
    "              aggfunc='sum')"
   ]
  },
  {
   "cell_type": "code",
   "execution_count": 1964,
   "metadata": {},
   "outputs": [],
   "source": [
    "# Удаляем мультиколонку\n",
    "df_2_1_30.columns = df_2_1_30.columns.droplevel()\n",
    "True\n",
    "# Заполняем NaN\n",
    "df_2_1_30.fillna(0.0,inplace=True)\n",
    "# Считаем в зависимости от количества колонок\n",
    "if len(df_2_1_30.columns) == 1:\n",
    "    df_2_1_30['Всего слушателей_temp']= df_2_1_30.iloc[:,0]\n",
    "else:\n",
    "    df_2_1_30['Всего слушателей_temp'] = df_2_1_30['Повышение квалификации'] + df_2_1_30['Профессиональная переподготовка']\n",
    "\n",
    "# перемещаем колонку всего слушателй_temp\n",
    "df_2_1_30.insert(0,'Всего слушателей',df_2_1_30['Всего слушателей_temp'])\n",
    "# Удаляем лишнюю колонку\n",
    "df_2_1_30.drop(columns='Всего слушателей_temp',axis=1,inplace=True)\n",
    "df_2_1_30 = df_2_1_30.reset_index()"
   ]
  },
  {
   "cell_type": "code",
   "execution_count": 1965,
   "metadata": {},
   "outputs": [],
   "source": [
    "# Создаем промежуток\n",
    "max_row_30 = wb['Раздел 2.1 Строки 28,29,30'].max_row\n",
    "wb['Раздел 2.1 Строки 28,29,30'][f'A{max_row_30+5}'] = 'Всего слушателей обученных по программам для освоения которых требуется ВО'\n",
    "wb['Раздел 2.1 Строки 28,29,30'][f'A{max_row_30+5}'].font = font_name_table"
   ]
  },
  {
   "cell_type": "code",
   "execution_count": 1966,
   "metadata": {},
   "outputs": [],
   "source": [
    "for r in dataframe_to_rows(df_2_1_30, index=False, header=True):\n",
    "    if len(r) != 1:\n",
    "        wb['Раздел 2.1 Строки 28,29,30'].append(r)"
   ]
  },
  {
   "cell_type": "code",
   "execution_count": 1967,
   "metadata": {},
   "outputs": [],
   "source": [
    "# создаем датафрейм строки 30 для модульных программ\n",
    "df_2_1_30_module_base = df_2_1_30_base[df_2_1_30_base['Модульная_программа_с_вариативным_выбором']=='да']"
   ]
  },
  {
   "cell_type": "code",
   "execution_count": 1968,
   "metadata": {},
   "outputs": [],
   "source": [
    "df_2_1_30_module = pd.pivot_table(df_2_1_30_module_base,index=['Уровень_образования_ВО_СПО'],\n",
    "                                               columns = ['Дополнительная_профессиональная_программа_повышение_квалификации_профессиональная_переподготовка'],\n",
    "              values=['for_counting'],\n",
    "              aggfunc='sum')"
   ]
  },
  {
   "cell_type": "code",
   "execution_count": 1969,
   "metadata": {},
   "outputs": [
    {
     "data": {
      "text/html": [
       "<div>\n",
       "<style scoped>\n",
       "    .dataframe tbody tr th:only-of-type {\n",
       "        vertical-align: middle;\n",
       "    }\n",
       "\n",
       "    .dataframe tbody tr th {\n",
       "        vertical-align: top;\n",
       "    }\n",
       "\n",
       "    .dataframe thead tr th {\n",
       "        text-align: left;\n",
       "    }\n",
       "\n",
       "    .dataframe thead tr:last-of-type th {\n",
       "        text-align: right;\n",
       "    }\n",
       "</style>\n",
       "<table border=\"1\" class=\"dataframe\">\n",
       "  <thead>\n",
       "    <tr>\n",
       "      <th></th>\n",
       "      <th>for_counting</th>\n",
       "    </tr>\n",
       "    <tr>\n",
       "      <th>Дополнительная_профессиональная_программа_повышение_квалификации_профессиональная_переподготовка</th>\n",
       "      <th>Повышение квалификации</th>\n",
       "    </tr>\n",
       "    <tr>\n",
       "      <th>Уровень_образования_ВО_СПО</th>\n",
       "      <th></th>\n",
       "    </tr>\n",
       "  </thead>\n",
       "  <tbody>\n",
       "    <tr>\n",
       "      <th>Среднее профессиональное образование</th>\n",
       "      <td>1.0</td>\n",
       "    </tr>\n",
       "  </tbody>\n",
       "</table>\n",
       "</div>"
      ],
      "text/plain": [
       "                                                                                                           for_counting\n",
       "Дополнительная_профессиональная_программа_повышение_квалификации_профессиональная_переподготовка Повышение квалификации\n",
       "Уровень_образования_ВО_СПО                                                                                             \n",
       "Среднее профессиональное образование                                                                                1.0"
      ]
     },
     "execution_count": 1969,
     "metadata": {},
     "output_type": "execute_result"
    }
   ],
   "source": [
    "df_2_1_30_module"
   ]
  },
  {
   "cell_type": "code",
   "execution_count": 1970,
   "metadata": {},
   "outputs": [],
   "source": [
    "# Удаляем мультиколонку\n",
    "df_2_1_30_module.columns = df_2_1_30_module.columns.droplevel()\n",
    "True\n",
    "# Заполняем NaN\n",
    "df_2_1_30_module.fillna(0.0,inplace=True)\n",
    "# Считаем в зависимости от количества колонок\n",
    "if len(df_2_1_30_module.columns) == 1:\n",
    "    df_2_1_30_module['Всего слушателей_temp']= df_2_1_30_module.iloc[:,0]\n",
    "else:\n",
    "    df_2_1_30_module['Всего слушателей_temp'] = df_2_1_30_module['Повышение квалификации'] + df_2_1_30_module['Профессиональная переподготовка']\n",
    "\n",
    "# перемещаем колонку всего слушателй_temp\n",
    "df_2_1_30_module.insert(0,'Всего слушателей',df_2_1_30_module['Всего слушателей_temp'])\n",
    "# Удаляем лишнюю колонку\n",
    "df_2_1_30_module.drop(columns='Всего слушателей_temp',axis=1,inplace=True)\n",
    "df_2_1_30_module = df_2_1_30_module.reset_index()"
   ]
  },
  {
   "cell_type": "code",
   "execution_count": 1971,
   "metadata": {},
   "outputs": [],
   "source": [
    "# Создаем промежуток\n",
    "max_row_30_module = wb['Раздел 2.1 Строки 28,29,30'].max_row\n",
    "wb['Раздел 2.1 Строки 28,29,30'][f'A{max_row_30_module+2}'] = 'Всего слушателей обученных по модульным программам для освоения которых требуется ВО'\n",
    "wb['Раздел 2.1 Строки 28,29,30'][f'A{max_row_30_module+2}'].font = font_name_table"
   ]
  },
  {
   "cell_type": "code",
   "execution_count": 1972,
   "metadata": {},
   "outputs": [],
   "source": [
    "for r in dataframe_to_rows(df_2_1_30_module, index=False, header=True):\n",
    "    if len(r) != 1:\n",
    "        wb['Раздел 2.1 Строки 28,29,30'].append(r)"
   ]
  },
  {
   "cell_type": "code",
   "execution_count": 1973,
   "metadata": {},
   "outputs": [],
   "source": [
    "# создаем датафрейм женщин по строке 30\n",
    "df_2_1_30_women_base =df_2_1_30_base[df_2_1_30_base['Пол_получателя'] == 'Жен']"
   ]
  },
  {
   "cell_type": "code",
   "execution_count": 1974,
   "metadata": {},
   "outputs": [],
   "source": [
    "df_2_1_30_women = pd.pivot_table(df_2_1_30_women_base,index=['Уровень_образования_ВО_СПО'],\n",
    "                                               columns = ['Дополнительная_профессиональная_программа_повышение_квалификации_профессиональная_переподготовка'],\n",
    "              values=['for_counting'],\n",
    "              aggfunc='sum')"
   ]
  },
  {
   "cell_type": "code",
   "execution_count": 1975,
   "metadata": {},
   "outputs": [],
   "source": [
    "# Удаляем мультиколонку\n",
    "df_2_1_30_women.columns = df_2_1_30_women.columns.droplevel()\n",
    "True\n",
    "# Заполняем NaN\n",
    "df_2_1_30_women.fillna(0.0,inplace=True)\n",
    "# Считаем в зависимости от количества колонок\n",
    "if len(df_2_1_30_women.columns) == 1:\n",
    "    df_2_1_30_women['Всего слушателей_temp']= df_2_1_30_women.iloc[:,0]\n",
    "else:\n",
    "    df_2_1_30_women['Всего слушателей_temp'] = df_2_1_30_women['Повышение квалификации'] + df_2_1_30_women['Профессиональная переподготовка']\n",
    "\n",
    "# перемещаем колонку всего слушателй_temp\n",
    "df_2_1_30_women.insert(0,'Всего женщин-слушателей',df_2_1_30_women['Всего слушателей_temp'])\n",
    "# Удаляем лишнюю колонку\n",
    "df_2_1_30_women.drop(columns='Всего слушателей_temp',axis=1,inplace=True)\n",
    "df_2_1_30_women = df_2_1_30_women.reset_index()"
   ]
  },
  {
   "cell_type": "code",
   "execution_count": 1976,
   "metadata": {},
   "outputs": [],
   "source": [
    "# Создаем промежуток\n",
    "max_row_30_women = wb['Раздел 2.1 Строки 28,29,30'].max_row\n",
    "wb['Раздел 2.1 Строки 28,29,30'][f'A{max_row_30_women+2}'] = 'Всего женщин обученных по  программам для освоения которых требуется ВО'\n",
    "wb['Раздел 2.1 Строки 28,29,30'][f'A{max_row_30_women+2}'].font = font_name_table"
   ]
  },
  {
   "cell_type": "code",
   "execution_count": 1977,
   "metadata": {},
   "outputs": [],
   "source": [
    "for r in dataframe_to_rows(df_2_1_30_women,index =False,header=True):\n",
    "    if len(r) != 1:\n",
    "        wb['Раздел 2.1 Строки 28,29,30'].append(r)"
   ]
  },
  {
   "cell_type": "code",
   "execution_count": 1978,
   "metadata": {},
   "outputs": [],
   "source": [
    "# Устанавливаем размер колонок раздела 2.1 строки 28 и 29\n",
    "wb['Раздел 2.1 Строки 28,29,30'].column_dimensions['A'].width = 50"
   ]
  },
  {
   "cell_type": "code",
   "execution_count": 1979,
   "metadata": {},
   "outputs": [],
   "source": [
    "# Устанавливаем размер колонок раздела 2.1\n",
    "wb['Раздел 2.1'].column_dimensions['A'].width = 50\n",
    "wb['Раздел 2.1'].column_dimensions['B'].width = 50\n",
    "wb['Раздел 2.1'].column_dimensions['C'].width = 30\n",
    "wb['Раздел 2.1'].column_dimensions['D'].width = 30\n",
    "wb['Раздел 2.1'].column_dimensions['E'].width = 30\n",
    "wb['Раздел 2.1'].column_dimensions['F'].width = 30"
   ]
  },
  {
   "cell_type": "code",
   "execution_count": 1980,
   "metadata": {},
   "outputs": [],
   "source": [
    " # Получаем текущее время для того чтобы использовать в названии\n",
    "t = time.localtime()\n",
    "current_time = time.strftime('%H_%M_%S', t)\n",
    "# Сохраняем итоговый файл\n",
    "wb.save(f'{path_to_end_folder_report}/Часть отчета 1-ПК.xlsx {current_time}.xlsx')\n"
   ]
  }
 ],
 "metadata": {
  "kernelspec": {
   "display_name": "Python 3 (ipykernel)",
   "language": "python",
   "name": "python3"
  },
  "language_info": {
   "codemirror_mode": {
    "name": "ipython",
    "version": 3
   },
   "file_extension": ".py",
   "mimetype": "text/x-python",
   "name": "python",
   "nbconvert_exporter": "python",
   "pygments_lexer": "ipython3",
   "version": "3.9.7"
  },
  "varInspector": {
   "cols": {
    "lenName": 16,
    "lenType": 16,
    "lenVar": 40
   },
   "kernels_config": {
    "python": {
     "delete_cmd_postfix": "",
     "delete_cmd_prefix": "del ",
     "library": "var_list.py",
     "varRefreshCmd": "print(var_dic_list())"
    },
    "r": {
     "delete_cmd_postfix": ") ",
     "delete_cmd_prefix": "rm(",
     "library": "var_list.r",
     "varRefreshCmd": "cat(var_dic_list()) "
    }
   },
   "types_to_exclude": [
    "module",
    "function",
    "builtin_function_or_method",
    "instance",
    "_Feature"
   ],
   "window_display": false
  }
 },
 "nbformat": 4,
 "nbformat_minor": 4
}
