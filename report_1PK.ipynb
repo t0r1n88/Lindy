{
 "cells": [
  {
   "cell_type": "code",
   "execution_count": 1127,
   "metadata": {},
   "outputs": [],
   "source": [
    "import pandas as pd\n",
    "import numpy as np\n",
    "import openpyxl\n",
    "from openpyxl.utils.dataframe import dataframe_to_rows"
   ]
  },
  {
   "cell_type": "code",
   "execution_count": 1128,
   "metadata": {},
   "outputs": [],
   "source": [
    "name_file_data_report = 'Общая таблица слушателей ЦОПП.xlsx' "
   ]
  },
  {
   "cell_type": "code",
   "execution_count": 1129,
   "metadata": {},
   "outputs": [],
   "source": [
    "df_dpo = pd.read_excel(name_file_data_report,sheet_name='ДПО')"
   ]
  },
  {
   "cell_type": "code",
   "execution_count": 1130,
   "metadata": {},
   "outputs": [],
   "source": [
    "#Создаем файл "
   ]
  },
  {
   "cell_type": "code",
   "execution_count": null,
   "metadata": {},
   "outputs": [],
   "source": []
  },
  {
   "cell_type": "code",
   "execution_count": null,
   "metadata": {},
   "outputs": [],
   "source": []
  },
  {
   "cell_type": "code",
   "execution_count": null,
   "metadata": {},
   "outputs": [],
   "source": []
  },
  {
   "cell_type": "code",
   "execution_count": null,
   "metadata": {},
   "outputs": [],
   "source": []
  },
  {
   "cell_type": "code",
   "execution_count": 1131,
   "metadata": {},
   "outputs": [],
   "source": [
    "# Раздел 1.3\n",
    "# Количество программ по каждому виду обучения\n",
    "# группируем. Так как нам нужны текстовые данные то применяем создаем строку с помощью join\n",
    "quantity_program_on_type_provisional =df_dpo.groupby('Наименование_дополнительной_профессиональной_программы').agg({'Дополнительная_профессиональная_программа_повышение_квалификации_профессиональная_переподготовка':lambda x:','.join(x)})\n",
    "\n",
    "# Применяем к полученной серии функцию разделения по запятой. Предполо\n",
    "quantity_program_on_type_provisional['Дополнительная_профессиональная_программа_повышение_квалификации_профессиональная_переподготовка']=quantity_program_on_type_provisional['Дополнительная_профессиональная_программа_повышение_квалификации_профессиональная_переподготовка'].apply(lambda x: x.split(',')[0])\n",
    "\n",
    "df_1_3=quantity_program_on_type_provisional['Дополнительная_профессиональная_программа_повышение_квалификации_профессиональная_переподготовка'].value_counts().to_frame()\n",
    "# Раздел 1.3"
   ]
  },
  {
   "cell_type": "code",
   "execution_count": 1132,
   "metadata": {},
   "outputs": [],
   "source": [
    "# Создаем пустую колонку 4\n",
    "temp_df = pd.DataFrame(columns=['4'])\n",
    "df_1_3 = pd.concat([df_1_3,temp_df],axis=1)\n",
    "# переименываем первую колонку\n",
    "df_1_3.rename(columns={'Дополнительная_профессиональная_программа_повышение_квалификации_профессиональная_переподготовка':'Число реализованных программ'},inplace=True)\n"
   ]
  },
  {
   "cell_type": "code",
   "execution_count": 1133,
   "metadata": {},
   "outputs": [
    {
     "data": {
      "text/plain": [
       "Дополнительная_профессиональная_программа_повышение_квалификации_профессиональная_переподготовка\n",
       "Повышение квалификации             26\n",
       "Профессиональная переподготовка    10\n",
       "dtype: int64"
      ]
     },
     "execution_count": 1133,
     "metadata": {},
     "output_type": "execute_result"
    }
   ],
   "source": [
    "group_quantity_student_program = df_dpo.groupby(['Дополнительная_профессиональная_программа_повышение_квалификации_профессиональная_переподготовка']).size()\n",
    "group_quantity_student_program"
   ]
  },
  {
   "cell_type": "code",
   "execution_count": 1134,
   "metadata": {},
   "outputs": [
    {
     "data": {
      "text/html": [
       "<div>\n",
       "<style scoped>\n",
       "    .dataframe tbody tr th:only-of-type {\n",
       "        vertical-align: middle;\n",
       "    }\n",
       "\n",
       "    .dataframe tbody tr th {\n",
       "        vertical-align: top;\n",
       "    }\n",
       "\n",
       "    .dataframe thead th {\n",
       "        text-align: right;\n",
       "    }\n",
       "</style>\n",
       "<table border=\"1\" class=\"dataframe\">\n",
       "  <thead>\n",
       "    <tr style=\"text-align: right;\">\n",
       "      <th></th>\n",
       "      <th>Число реализованных программ</th>\n",
       "      <th>4</th>\n",
       "      <th>Всего слушателей</th>\n",
       "    </tr>\n",
       "  </thead>\n",
       "  <tbody>\n",
       "    <tr>\n",
       "      <th>Профессиональная переподготовка</th>\n",
       "      <td>2</td>\n",
       "      <td>NaN</td>\n",
       "      <td>10</td>\n",
       "    </tr>\n",
       "    <tr>\n",
       "      <th>Повышение квалификации</th>\n",
       "      <td>1</td>\n",
       "      <td>NaN</td>\n",
       "      <td>26</td>\n",
       "    </tr>\n",
       "  </tbody>\n",
       "</table>\n",
       "</div>"
      ],
      "text/plain": [
       "                                 Число реализованных программ    4  \\\n",
       "Профессиональная переподготовка                             2  NaN   \n",
       "Повышение квалификации                                      1  NaN   \n",
       "\n",
       "                                 Всего слушателей  \n",
       "Профессиональная переподготовка                10  \n",
       "Повышение квалификации                         26  "
      ]
     },
     "execution_count": 1134,
     "metadata": {},
     "output_type": "execute_result"
    }
   ],
   "source": [
    "# Добавляем колонку 5- всего слушателей\n",
    "df_1_3['Всего слушателей'] = group_quantity_student_program\n",
    "df_1_3"
   ]
  },
  {
   "cell_type": "code",
   "execution_count": 1135,
   "metadata": {},
   "outputs": [],
   "source": [
    "# Подсчет сетевой формы\n",
    "df_dpo_network = df_dpo[df_dpo['Использование_сетевой_формы_обучения'] == 'Сетевая форма']"
   ]
  },
  {
   "cell_type": "code",
   "execution_count": 1136,
   "metadata": {},
   "outputs": [],
   "source": [
    "group_quantity_network_program_provisional=df_dpo_network.groupby('Наименование_дополнительной_профессиональной_программы').agg({'Дополнительная_профессиональная_программа_повышение_квалификации_профессиональная_переподготовка':lambda x:','.join(x)})\n",
    "# Применяем к полученной серии функцию разделения по запятой. Предполо\n",
    "group_quantity_network_program_provisional['Дополнительная_профессиональная_программа_повышение_квалификации_профессиональная_переподготовка']=group_quantity_network_program_provisional['Дополнительная_профессиональная_программа_повышение_квалификации_профессиональная_переподготовка'].apply(lambda x: x.split(',')[0])\n",
    "df_1_3['Число программ сетевая форма'] = group_quantity_network_program_provisional['Дополнительная_профессиональная_программа_повышение_квалификации_профессиональная_переподготовка'].value_counts().to_frame()"
   ]
  },
  {
   "cell_type": "code",
   "execution_count": 1137,
   "metadata": {},
   "outputs": [
    {
     "data": {
      "text/html": [
       "<div>\n",
       "<style scoped>\n",
       "    .dataframe tbody tr th:only-of-type {\n",
       "        vertical-align: middle;\n",
       "    }\n",
       "\n",
       "    .dataframe tbody tr th {\n",
       "        vertical-align: top;\n",
       "    }\n",
       "\n",
       "    .dataframe thead th {\n",
       "        text-align: right;\n",
       "    }\n",
       "</style>\n",
       "<table border=\"1\" class=\"dataframe\">\n",
       "  <thead>\n",
       "    <tr style=\"text-align: right;\">\n",
       "      <th></th>\n",
       "      <th>Число реализованных программ</th>\n",
       "      <th>4</th>\n",
       "      <th>Всего слушателей</th>\n",
       "      <th>Число программ сетевая форма</th>\n",
       "    </tr>\n",
       "  </thead>\n",
       "  <tbody>\n",
       "    <tr>\n",
       "      <th>Профессиональная переподготовка</th>\n",
       "      <td>2</td>\n",
       "      <td>NaN</td>\n",
       "      <td>10</td>\n",
       "      <td>1</td>\n",
       "    </tr>\n",
       "    <tr>\n",
       "      <th>Повышение квалификации</th>\n",
       "      <td>1</td>\n",
       "      <td>NaN</td>\n",
       "      <td>26</td>\n",
       "      <td>1</td>\n",
       "    </tr>\n",
       "  </tbody>\n",
       "</table>\n",
       "</div>"
      ],
      "text/plain": [
       "                                 Число реализованных программ    4  \\\n",
       "Профессиональная переподготовка                             2  NaN   \n",
       "Повышение квалификации                                      1  NaN   \n",
       "\n",
       "                                 Всего слушателей  \\\n",
       "Профессиональная переподготовка                10   \n",
       "Повышение квалификации                         26   \n",
       "\n",
       "                                 Число программ сетевая форма  \n",
       "Профессиональная переподготовка                             1  \n",
       "Повышение квалификации                                      1  "
      ]
     },
     "execution_count": 1137,
     "metadata": {},
     "output_type": "execute_result"
    }
   ],
   "source": [
    "df_1_3"
   ]
  },
  {
   "cell_type": "code",
   "execution_count": 1138,
   "metadata": {},
   "outputs": [],
   "source": [
    "# Считаем число слушателей на сетевых программах\n",
    "df_1_3['Численость слушателей сетевый программ']=df_dpo_network.groupby('Дополнительная_профессиональная_программа_повышение_квалификации_профессиональная_переподготовка').agg({'ФИО_именительный':'count'})"
   ]
  },
  {
   "cell_type": "code",
   "execution_count": 1139,
   "metadata": {},
   "outputs": [
    {
     "data": {
      "text/html": [
       "<div>\n",
       "<style scoped>\n",
       "    .dataframe tbody tr th:only-of-type {\n",
       "        vertical-align: middle;\n",
       "    }\n",
       "\n",
       "    .dataframe tbody tr th {\n",
       "        vertical-align: top;\n",
       "    }\n",
       "\n",
       "    .dataframe thead th {\n",
       "        text-align: right;\n",
       "    }\n",
       "</style>\n",
       "<table border=\"1\" class=\"dataframe\">\n",
       "  <thead>\n",
       "    <tr style=\"text-align: right;\">\n",
       "      <th></th>\n",
       "      <th>Число реализованных программ</th>\n",
       "      <th>4</th>\n",
       "      <th>Всего слушателей</th>\n",
       "      <th>Число программ сетевая форма</th>\n",
       "      <th>Численость слушателей сетевый программ</th>\n",
       "    </tr>\n",
       "  </thead>\n",
       "  <tbody>\n",
       "    <tr>\n",
       "      <th>Профессиональная переподготовка</th>\n",
       "      <td>2</td>\n",
       "      <td>NaN</td>\n",
       "      <td>10</td>\n",
       "      <td>1</td>\n",
       "      <td>9</td>\n",
       "    </tr>\n",
       "    <tr>\n",
       "      <th>Повышение квалификации</th>\n",
       "      <td>1</td>\n",
       "      <td>NaN</td>\n",
       "      <td>26</td>\n",
       "      <td>1</td>\n",
       "      <td>3</td>\n",
       "    </tr>\n",
       "  </tbody>\n",
       "</table>\n",
       "</div>"
      ],
      "text/plain": [
       "                                 Число реализованных программ    4  \\\n",
       "Профессиональная переподготовка                             2  NaN   \n",
       "Повышение квалификации                                      1  NaN   \n",
       "\n",
       "                                 Всего слушателей  \\\n",
       "Профессиональная переподготовка                10   \n",
       "Повышение квалификации                         26   \n",
       "\n",
       "                                 Число программ сетевая форма  \\\n",
       "Профессиональная переподготовка                             1   \n",
       "Повышение квалификации                                      1   \n",
       "\n",
       "                                 Численость слушателей сетевый программ  \n",
       "Профессиональная переподготовка                                       9  \n",
       "Повышение квалификации                                                3  "
      ]
     },
     "execution_count": 1139,
     "metadata": {},
     "output_type": "execute_result"
    }
   ],
   "source": [
    "df_1_3"
   ]
  },
  {
   "cell_type": "code",
   "execution_count": 1140,
   "metadata": {},
   "outputs": [],
   "source": [
    "# Добавляем 4 пустых столбца\n",
    "temp_df = pd.DataFrame(columns=['8','9','10','11','12'])\n",
    "df_1_3 = pd.concat([df_1_3,temp_df],axis=1)\n"
   ]
  },
  {
   "cell_type": "code",
   "execution_count": 1141,
   "metadata": {},
   "outputs": [
    {
     "data": {
      "text/html": [
       "<div>\n",
       "<style scoped>\n",
       "    .dataframe tbody tr th:only-of-type {\n",
       "        vertical-align: middle;\n",
       "    }\n",
       "\n",
       "    .dataframe tbody tr th {\n",
       "        vertical-align: top;\n",
       "    }\n",
       "\n",
       "    .dataframe thead th {\n",
       "        text-align: right;\n",
       "    }\n",
       "</style>\n",
       "<table border=\"1\" class=\"dataframe\">\n",
       "  <thead>\n",
       "    <tr style=\"text-align: right;\">\n",
       "      <th></th>\n",
       "      <th>Число реализованных программ</th>\n",
       "      <th>4</th>\n",
       "      <th>Всего слушателей</th>\n",
       "      <th>Число программ сетевая форма</th>\n",
       "      <th>Численость слушателей сетевый программ</th>\n",
       "      <th>8</th>\n",
       "      <th>9</th>\n",
       "      <th>10</th>\n",
       "      <th>11</th>\n",
       "      <th>12</th>\n",
       "    </tr>\n",
       "  </thead>\n",
       "  <tbody>\n",
       "    <tr>\n",
       "      <th>Профессиональная переподготовка</th>\n",
       "      <td>2</td>\n",
       "      <td>NaN</td>\n",
       "      <td>10</td>\n",
       "      <td>1</td>\n",
       "      <td>9</td>\n",
       "      <td>NaN</td>\n",
       "      <td>NaN</td>\n",
       "      <td>NaN</td>\n",
       "      <td>NaN</td>\n",
       "      <td>NaN</td>\n",
       "    </tr>\n",
       "    <tr>\n",
       "      <th>Повышение квалификации</th>\n",
       "      <td>1</td>\n",
       "      <td>NaN</td>\n",
       "      <td>26</td>\n",
       "      <td>1</td>\n",
       "      <td>3</td>\n",
       "      <td>NaN</td>\n",
       "      <td>NaN</td>\n",
       "      <td>NaN</td>\n",
       "      <td>NaN</td>\n",
       "      <td>NaN</td>\n",
       "    </tr>\n",
       "  </tbody>\n",
       "</table>\n",
       "</div>"
      ],
      "text/plain": [
       "                                 Число реализованных программ    4  \\\n",
       "Профессиональная переподготовка                             2  NaN   \n",
       "Повышение квалификации                                      1  NaN   \n",
       "\n",
       "                                 Всего слушателей  \\\n",
       "Профессиональная переподготовка                10   \n",
       "Повышение квалификации                         26   \n",
       "\n",
       "                                 Число программ сетевая форма  \\\n",
       "Профессиональная переподготовка                             1   \n",
       "Повышение квалификации                                      1   \n",
       "\n",
       "                                 Численость слушателей сетевый программ    8  \\\n",
       "Профессиональная переподготовка                                       9  NaN   \n",
       "Повышение квалификации                                                3  NaN   \n",
       "\n",
       "                                   9   10   11   12  \n",
       "Профессиональная переподготовка  NaN  NaN  NaN  NaN  \n",
       "Повышение квалификации           NaN  NaN  NaN  NaN  "
      ]
     },
     "execution_count": 1141,
     "metadata": {},
     "output_type": "execute_result"
    }
   ],
   "source": [
    "df_1_3"
   ]
  },
  {
   "cell_type": "code",
   "execution_count": 1142,
   "metadata": {},
   "outputs": [],
   "source": [
    "# Считаем дистанционные технологии\n",
    "df_dpo_distant = df_dpo[df_dpo['Использование_ЭО_или_ДОТ'] != 'Без применения ЭО или ДОТ']\n",
    "group_quantity_distant = df_dpo_distant.groupby('Наименование_дополнительной_профессиональной_программы').agg({'Дополнительная_профессиональная_программа_повышение_квалификации_профессиональная_переподготовка':lambda x:','.join(x)})\n",
    "\n",
    "# Применяем к полученной серии функцию разделения по запятой. \n",
    "group_quantity_distant['Дополнительная_профессиональная_программа_повышение_квалификации_профессиональная_переподготовка']=group_quantity_distant['Дополнительная_профессиональная_программа_повышение_квалификации_профессиональная_переподготовка'].apply(lambda x: x.split(',')[0])\n",
    "df_1_3['Число программ ЭО и ДОТ'] = group_quantity_distant['Дополнительная_профессиональная_программа_повышение_квалификации_профессиональная_переподготовка'].value_counts().to_frame()\n"
   ]
  },
  {
   "cell_type": "code",
   "execution_count": 1143,
   "metadata": {},
   "outputs": [
    {
     "data": {
      "text/html": [
       "<div>\n",
       "<style scoped>\n",
       "    .dataframe tbody tr th:only-of-type {\n",
       "        vertical-align: middle;\n",
       "    }\n",
       "\n",
       "    .dataframe tbody tr th {\n",
       "        vertical-align: top;\n",
       "    }\n",
       "\n",
       "    .dataframe thead th {\n",
       "        text-align: right;\n",
       "    }\n",
       "</style>\n",
       "<table border=\"1\" class=\"dataframe\">\n",
       "  <thead>\n",
       "    <tr style=\"text-align: right;\">\n",
       "      <th></th>\n",
       "      <th>Число реализованных программ</th>\n",
       "      <th>4</th>\n",
       "      <th>Всего слушателей</th>\n",
       "      <th>Число программ сетевая форма</th>\n",
       "      <th>Численость слушателей сетевый программ</th>\n",
       "      <th>8</th>\n",
       "      <th>9</th>\n",
       "      <th>10</th>\n",
       "      <th>11</th>\n",
       "      <th>12</th>\n",
       "      <th>Число программ ЭО и ДОТ</th>\n",
       "    </tr>\n",
       "  </thead>\n",
       "  <tbody>\n",
       "    <tr>\n",
       "      <th>Профессиональная переподготовка</th>\n",
       "      <td>2</td>\n",
       "      <td>NaN</td>\n",
       "      <td>10</td>\n",
       "      <td>1</td>\n",
       "      <td>9</td>\n",
       "      <td>NaN</td>\n",
       "      <td>NaN</td>\n",
       "      <td>NaN</td>\n",
       "      <td>NaN</td>\n",
       "      <td>NaN</td>\n",
       "      <td>1</td>\n",
       "    </tr>\n",
       "    <tr>\n",
       "      <th>Повышение квалификации</th>\n",
       "      <td>1</td>\n",
       "      <td>NaN</td>\n",
       "      <td>26</td>\n",
       "      <td>1</td>\n",
       "      <td>3</td>\n",
       "      <td>NaN</td>\n",
       "      <td>NaN</td>\n",
       "      <td>NaN</td>\n",
       "      <td>NaN</td>\n",
       "      <td>NaN</td>\n",
       "      <td>1</td>\n",
       "    </tr>\n",
       "  </tbody>\n",
       "</table>\n",
       "</div>"
      ],
      "text/plain": [
       "                                 Число реализованных программ    4  \\\n",
       "Профессиональная переподготовка                             2  NaN   \n",
       "Повышение квалификации                                      1  NaN   \n",
       "\n",
       "                                 Всего слушателей  \\\n",
       "Профессиональная переподготовка                10   \n",
       "Повышение квалификации                         26   \n",
       "\n",
       "                                 Число программ сетевая форма  \\\n",
       "Профессиональная переподготовка                             1   \n",
       "Повышение квалификации                                      1   \n",
       "\n",
       "                                 Численость слушателей сетевый программ    8  \\\n",
       "Профессиональная переподготовка                                       9  NaN   \n",
       "Повышение квалификации                                                3  NaN   \n",
       "\n",
       "                                   9   10   11   12  Число программ ЭО и ДОТ  \n",
       "Профессиональная переподготовка  NaN  NaN  NaN  NaN                        1  \n",
       "Повышение квалификации           NaN  NaN  NaN  NaN                        1  "
      ]
     },
     "execution_count": 1143,
     "metadata": {},
     "output_type": "execute_result"
    }
   ],
   "source": [
    "df_1_3"
   ]
  },
  {
   "cell_type": "code",
   "execution_count": 1144,
   "metadata": {},
   "outputs": [],
   "source": [
    "#Считаем количество слушателей\n",
    "df_1_3['Численность слушателей ЭО И ДОТ'] = df_dpo_distant.groupby('Дополнительная_профессиональная_программа_повышение_квалификации_профессиональная_переподготовка').agg({'ФИО_именительный':'count'})"
   ]
  },
  {
   "cell_type": "code",
   "execution_count": 1145,
   "metadata": {},
   "outputs": [
    {
     "data": {
      "text/html": [
       "<div>\n",
       "<style scoped>\n",
       "    .dataframe tbody tr th:only-of-type {\n",
       "        vertical-align: middle;\n",
       "    }\n",
       "\n",
       "    .dataframe tbody tr th {\n",
       "        vertical-align: top;\n",
       "    }\n",
       "\n",
       "    .dataframe thead th {\n",
       "        text-align: right;\n",
       "    }\n",
       "</style>\n",
       "<table border=\"1\" class=\"dataframe\">\n",
       "  <thead>\n",
       "    <tr style=\"text-align: right;\">\n",
       "      <th></th>\n",
       "      <th>Число реализованных программ</th>\n",
       "      <th>4</th>\n",
       "      <th>Всего слушателей</th>\n",
       "      <th>Число программ сетевая форма</th>\n",
       "      <th>Численость слушателей сетевый программ</th>\n",
       "      <th>8</th>\n",
       "      <th>9</th>\n",
       "      <th>10</th>\n",
       "      <th>11</th>\n",
       "      <th>12</th>\n",
       "      <th>Число программ ЭО и ДОТ</th>\n",
       "      <th>Численность слушателей ЭО И ДОТ</th>\n",
       "    </tr>\n",
       "  </thead>\n",
       "  <tbody>\n",
       "    <tr>\n",
       "      <th>Профессиональная переподготовка</th>\n",
       "      <td>2</td>\n",
       "      <td>NaN</td>\n",
       "      <td>10</td>\n",
       "      <td>1</td>\n",
       "      <td>9</td>\n",
       "      <td>NaN</td>\n",
       "      <td>NaN</td>\n",
       "      <td>NaN</td>\n",
       "      <td>NaN</td>\n",
       "      <td>NaN</td>\n",
       "      <td>1</td>\n",
       "      <td>9</td>\n",
       "    </tr>\n",
       "    <tr>\n",
       "      <th>Повышение квалификации</th>\n",
       "      <td>1</td>\n",
       "      <td>NaN</td>\n",
       "      <td>26</td>\n",
       "      <td>1</td>\n",
       "      <td>3</td>\n",
       "      <td>NaN</td>\n",
       "      <td>NaN</td>\n",
       "      <td>NaN</td>\n",
       "      <td>NaN</td>\n",
       "      <td>NaN</td>\n",
       "      <td>1</td>\n",
       "      <td>3</td>\n",
       "    </tr>\n",
       "  </tbody>\n",
       "</table>\n",
       "</div>"
      ],
      "text/plain": [
       "                                 Число реализованных программ    4  \\\n",
       "Профессиональная переподготовка                             2  NaN   \n",
       "Повышение квалификации                                      1  NaN   \n",
       "\n",
       "                                 Всего слушателей  \\\n",
       "Профессиональная переподготовка                10   \n",
       "Повышение квалификации                         26   \n",
       "\n",
       "                                 Число программ сетевая форма  \\\n",
       "Профессиональная переподготовка                             1   \n",
       "Повышение квалификации                                      1   \n",
       "\n",
       "                                 Численость слушателей сетевый программ    8  \\\n",
       "Профессиональная переподготовка                                       9  NaN   \n",
       "Повышение квалификации                                                3  NaN   \n",
       "\n",
       "                                   9   10   11   12  Число программ ЭО и ДОТ  \\\n",
       "Профессиональная переподготовка  NaN  NaN  NaN  NaN                        1   \n",
       "Повышение квалификации           NaN  NaN  NaN  NaN                        1   \n",
       "\n",
       "                                 Численность слушателей ЭО И ДОТ  \n",
       "Профессиональная переподготовка                                9  \n",
       "Повышение квалификации                                         3  "
      ]
     },
     "execution_count": 1145,
     "metadata": {},
     "output_type": "execute_result"
    }
   ],
   "source": [
    "df_1_3"
   ]
  },
  {
   "cell_type": "code",
   "execution_count": 1146,
   "metadata": {},
   "outputs": [],
   "source": [
    "# Считаем только тех кто учился на программах исключительно ЭО и ДОТ\n",
    "df_dpo_distant_only_dot = df_dpo_distant[df_dpo_distant['Использование_ЭО_или_ДОТ'] == 'Исключительно с ЭО ли ДОТ' ]\n",
    "df_1_3['Численность слушателей только ЭО и ДОТ'] = df_dpo_distant_only_dot.groupby('Дополнительная_профессиональная_программа_повышение_квалификации_профессиональная_переподготовка').agg({'ФИО_именительный':'count'})"
   ]
  },
  {
   "cell_type": "code",
   "execution_count": 1147,
   "metadata": {},
   "outputs": [],
   "source": [
    "finish_df_1_3 = df_1_3.reset_index()"
   ]
  },
  {
   "cell_type": "code",
   "execution_count": 1148,
   "metadata": {},
   "outputs": [
    {
     "data": {
      "text/html": [
       "<div>\n",
       "<style scoped>\n",
       "    .dataframe tbody tr th:only-of-type {\n",
       "        vertical-align: middle;\n",
       "    }\n",
       "\n",
       "    .dataframe tbody tr th {\n",
       "        vertical-align: top;\n",
       "    }\n",
       "\n",
       "    .dataframe thead th {\n",
       "        text-align: right;\n",
       "    }\n",
       "</style>\n",
       "<table border=\"1\" class=\"dataframe\">\n",
       "  <thead>\n",
       "    <tr style=\"text-align: right;\">\n",
       "      <th></th>\n",
       "      <th>index</th>\n",
       "      <th>Число реализованных программ</th>\n",
       "      <th>4</th>\n",
       "      <th>Всего слушателей</th>\n",
       "      <th>Число программ сетевая форма</th>\n",
       "      <th>Численость слушателей сетевый программ</th>\n",
       "      <th>8</th>\n",
       "      <th>9</th>\n",
       "      <th>10</th>\n",
       "      <th>11</th>\n",
       "      <th>12</th>\n",
       "      <th>Число программ ЭО и ДОТ</th>\n",
       "      <th>Численность слушателей ЭО И ДОТ</th>\n",
       "      <th>Численность слушателей только ЭО и ДОТ</th>\n",
       "    </tr>\n",
       "  </thead>\n",
       "  <tbody>\n",
       "    <tr>\n",
       "      <th>0</th>\n",
       "      <td>Профессиональная переподготовка</td>\n",
       "      <td>2</td>\n",
       "      <td>NaN</td>\n",
       "      <td>10</td>\n",
       "      <td>1</td>\n",
       "      <td>9</td>\n",
       "      <td>NaN</td>\n",
       "      <td>NaN</td>\n",
       "      <td>NaN</td>\n",
       "      <td>NaN</td>\n",
       "      <td>NaN</td>\n",
       "      <td>1</td>\n",
       "      <td>9</td>\n",
       "      <td>NaN</td>\n",
       "    </tr>\n",
       "    <tr>\n",
       "      <th>1</th>\n",
       "      <td>Повышение квалификации</td>\n",
       "      <td>1</td>\n",
       "      <td>NaN</td>\n",
       "      <td>26</td>\n",
       "      <td>1</td>\n",
       "      <td>3</td>\n",
       "      <td>NaN</td>\n",
       "      <td>NaN</td>\n",
       "      <td>NaN</td>\n",
       "      <td>NaN</td>\n",
       "      <td>NaN</td>\n",
       "      <td>1</td>\n",
       "      <td>3</td>\n",
       "      <td>NaN</td>\n",
       "    </tr>\n",
       "  </tbody>\n",
       "</table>\n",
       "</div>"
      ],
      "text/plain": [
       "                             index  Число реализованных программ    4  \\\n",
       "0  Профессиональная переподготовка                             2  NaN   \n",
       "1           Повышение квалификации                             1  NaN   \n",
       "\n",
       "   Всего слушателей  Число программ сетевая форма  \\\n",
       "0                10                             1   \n",
       "1                26                             1   \n",
       "\n",
       "   Численость слушателей сетевый программ    8    9   10   11   12  \\\n",
       "0                                       9  NaN  NaN  NaN  NaN  NaN   \n",
       "1                                       3  NaN  NaN  NaN  NaN  NaN   \n",
       "\n",
       "   Число программ ЭО и ДОТ  Численность слушателей ЭО И ДОТ  \\\n",
       "0                        1                                9   \n",
       "1                        1                                3   \n",
       "\n",
       "   Численность слушателей только ЭО и ДОТ  \n",
       "0                                     NaN  \n",
       "1                                     NaN  "
      ]
     },
     "execution_count": 1148,
     "metadata": {},
     "output_type": "execute_result"
    }
   ],
   "source": [
    "finish_df_1_3"
   ]
  },
  {
   "cell_type": "code",
   "execution_count": 1149,
   "metadata": {},
   "outputs": [],
   "source": [
    "finish_df_1_3.columns= ['Наименование образовательных программ','Число реализованных образовательных программ всего,единиц','из них прошли профессионально-общественную аккредитацию',\n",
    "                'Всего слушателей, обученных по программам, человек','число программ(из графы 3) реализованных с использованием сетевой формы',\n",
    "                'численность слушателей обученных(из графы 5) по программам с использованием сетевой формы-всего',\n",
    "                 'в том числе(из графы 7) с использованием ресурсов иностранных организаций','общее число заключенных договоров с организациями на реализацию образовательных программ с использованием сетевой формы',\n",
    "                 'из них число заключенных договоров(из графы 9) с использованием ресурсов иностранных организаций','число организаций с которыми заключены договоры  на реализацию образовательных программ с использованием сетевой формы',\n",
    "                'в том числе(из графы 11) число иностранных организаций','число программ(из графы 3),реализованных с применением ЭО или ДОТ','Численность слушателей обученных(из графы 5) по программам с применением ЭО и ДОТ',\n",
    "                 'в том числе(из графы 14) с применением исключительно ЭО и ДОТ']"
   ]
  },
  {
   "cell_type": "code",
   "execution_count": 1150,
   "metadata": {},
   "outputs": [
    {
     "data": {
      "text/html": [
       "<div>\n",
       "<style scoped>\n",
       "    .dataframe tbody tr th:only-of-type {\n",
       "        vertical-align: middle;\n",
       "    }\n",
       "\n",
       "    .dataframe tbody tr th {\n",
       "        vertical-align: top;\n",
       "    }\n",
       "\n",
       "    .dataframe thead th {\n",
       "        text-align: right;\n",
       "    }\n",
       "</style>\n",
       "<table border=\"1\" class=\"dataframe\">\n",
       "  <thead>\n",
       "    <tr style=\"text-align: right;\">\n",
       "      <th></th>\n",
       "      <th>Наименование образовательных программ</th>\n",
       "      <th>Число реализованных образовательных программ всего,единиц</th>\n",
       "      <th>из них прошли профессионально-общественную аккредитацию</th>\n",
       "      <th>Всего слушателей, обученных по программам, человек</th>\n",
       "      <th>число программ(из графы 3) реализованных с использованием сетевой формы</th>\n",
       "      <th>численность слушателей обученных(из графы 5) по программам с использованием сетевой формы-всего</th>\n",
       "      <th>в том числе(из графы 7) с использованием ресурсов иностранных организаций</th>\n",
       "      <th>общее число заключенных договоров с организациями на реализацию образовательных программ с использованием сетевой формы</th>\n",
       "      <th>из них число заключенных договоров(из графы 9) с использованием ресурсов иностранных организаций</th>\n",
       "      <th>число организаций с которыми заключены договоры  на реализацию образовательных программ с использованием сетевой формы</th>\n",
       "      <th>в том числе(из графы 11) число иностранных организаций</th>\n",
       "      <th>число программ(из графы 3),реализованных с применением ЭО или ДОТ</th>\n",
       "      <th>Численность слушателей обученных(из графы 5) по программам с применением ЭО и ДОТ</th>\n",
       "      <th>в том числе(из графы 14) с применением исключительно ЭО и ДОТ</th>\n",
       "    </tr>\n",
       "  </thead>\n",
       "  <tbody>\n",
       "    <tr>\n",
       "      <th>0</th>\n",
       "      <td>Профессиональная переподготовка</td>\n",
       "      <td>2</td>\n",
       "      <td>NaN</td>\n",
       "      <td>10</td>\n",
       "      <td>1</td>\n",
       "      <td>9</td>\n",
       "      <td>NaN</td>\n",
       "      <td>NaN</td>\n",
       "      <td>NaN</td>\n",
       "      <td>NaN</td>\n",
       "      <td>NaN</td>\n",
       "      <td>1</td>\n",
       "      <td>9</td>\n",
       "      <td>NaN</td>\n",
       "    </tr>\n",
       "    <tr>\n",
       "      <th>1</th>\n",
       "      <td>Повышение квалификации</td>\n",
       "      <td>1</td>\n",
       "      <td>NaN</td>\n",
       "      <td>26</td>\n",
       "      <td>1</td>\n",
       "      <td>3</td>\n",
       "      <td>NaN</td>\n",
       "      <td>NaN</td>\n",
       "      <td>NaN</td>\n",
       "      <td>NaN</td>\n",
       "      <td>NaN</td>\n",
       "      <td>1</td>\n",
       "      <td>3</td>\n",
       "      <td>NaN</td>\n",
       "    </tr>\n",
       "  </tbody>\n",
       "</table>\n",
       "</div>"
      ],
      "text/plain": [
       "  Наименование образовательных программ  \\\n",
       "0       Профессиональная переподготовка   \n",
       "1                Повышение квалификации   \n",
       "\n",
       "   Число реализованных образовательных программ всего,единиц  \\\n",
       "0                                                  2           \n",
       "1                                                  1           \n",
       "\n",
       "  из них прошли профессионально-общественную аккредитацию  \\\n",
       "0                                                NaN        \n",
       "1                                                NaN        \n",
       "\n",
       "   Всего слушателей, обученных по программам, человек  \\\n",
       "0                                                 10    \n",
       "1                                                 26    \n",
       "\n",
       "   число программ(из графы 3) реализованных с использованием сетевой формы  \\\n",
       "0                                                  1                         \n",
       "1                                                  1                         \n",
       "\n",
       "   численность слушателей обученных(из графы 5) по программам с использованием сетевой формы-всего  \\\n",
       "0                                                  9                                                 \n",
       "1                                                  3                                                 \n",
       "\n",
       "  в том числе(из графы 7) с использованием ресурсов иностранных организаций  \\\n",
       "0                                                NaN                          \n",
       "1                                                NaN                          \n",
       "\n",
       "  общее число заключенных договоров с организациями на реализацию образовательных программ с использованием сетевой формы  \\\n",
       "0                                                NaN                                                                        \n",
       "1                                                NaN                                                                        \n",
       "\n",
       "  из них число заключенных договоров(из графы 9) с использованием ресурсов иностранных организаций  \\\n",
       "0                                                NaN                                                 \n",
       "1                                                NaN                                                 \n",
       "\n",
       "  число организаций с которыми заключены договоры  на реализацию образовательных программ с использованием сетевой формы  \\\n",
       "0                                                NaN                                                                       \n",
       "1                                                NaN                                                                       \n",
       "\n",
       "  в том числе(из графы 11) число иностранных организаций  \\\n",
       "0                                                NaN       \n",
       "1                                                NaN       \n",
       "\n",
       "   число программ(из графы 3),реализованных с применением ЭО или ДОТ  \\\n",
       "0                                                  1                   \n",
       "1                                                  1                   \n",
       "\n",
       "   Численность слушателей обученных(из графы 5) по программам с применением ЭО и ДОТ  \\\n",
       "0                                                  9                                   \n",
       "1                                                  3                                   \n",
       "\n",
       "   в том числе(из графы 14) с применением исключительно ЭО и ДОТ  \n",
       "0                                                NaN              \n",
       "1                                                NaN              "
      ]
     },
     "execution_count": 1150,
     "metadata": {},
     "output_type": "execute_result"
    }
   ],
   "source": [
    "finish_df_1_3"
   ]
  },
  {
   "cell_type": "code",
   "execution_count": 1151,
   "metadata": {},
   "outputs": [
    {
     "data": {
      "text/plain": [
       "<Worksheet \"Раздел 2.5\">"
      ]
     },
     "execution_count": 1151,
     "metadata": {},
     "output_type": "execute_result"
    }
   ],
   "source": [
    "# Создаем файл excel\n",
    "wb = openpyxl.Workbook()\n",
    "# Создаем лист раздела 1.3\n",
    "wb.create_sheet(title='Раздел 1.3',index=0)\n",
    "wb.create_sheet(title='Раздел 2.1',index=1)\n",
    "wb.create_sheet(title='Раздел 2.2',index=2)\n",
    "wb.create_sheet(title='Раздел 2.3.1',index=3)\n",
    "wb.create_sheet(title='Раздел 2.3.2',index=4)\n",
    "wb.create_sheet(title='Раздел 2.4',index=5)\n",
    "wb.create_sheet(title='Раздел 2.5',index=6)\n",
    "\n",
    "\n"
   ]
  },
  {
   "cell_type": "code",
   "execution_count": 1152,
   "metadata": {},
   "outputs": [],
   "source": [
    "for r in dataframe_to_rows(finish_df_1_3, index=False, header=True):\n",
    "    wb['Раздел 1.3'].append(r)"
   ]
  },
  {
   "cell_type": "code",
   "execution_count": null,
   "metadata": {},
   "outputs": [],
   "source": []
  },
  {
   "cell_type": "code",
   "execution_count": 1153,
   "metadata": {},
   "outputs": [],
   "source": [
    "# Раздел 2.4\n"
   ]
  },
  {
   "cell_type": "code",
   "execution_count": 1154,
   "metadata": {},
   "outputs": [],
   "source": [
    "# Создаем дополнительную числовую колонку где каждое значение это 1, для удобства агрегирования\n",
    "df_2_4 = df_dpo.copy()\n",
    "# Добавляем колонку с 1\n",
    "df_2_4['for_counting'] = 1 "
   ]
  },
  {
   "cell_type": "code",
   "execution_count": 1155,
   "metadata": {},
   "outputs": [],
   "source": [
    "#Считаем общее количество\n",
    "all_counting_age_category=df_2_4.groupby(['Возрастная_категория_1ПК']).agg({'for_counting':'sum'}).rename(columns={'for_counting':'Всего слушателей'})"
   ]
  },
  {
   "cell_type": "code",
   "execution_count": 1156,
   "metadata": {},
   "outputs": [
    {
     "data": {
      "text/html": [
       "<div>\n",
       "<style scoped>\n",
       "    .dataframe tbody tr th:only-of-type {\n",
       "        vertical-align: middle;\n",
       "    }\n",
       "\n",
       "    .dataframe tbody tr th {\n",
       "        vertical-align: top;\n",
       "    }\n",
       "\n",
       "    .dataframe thead th {\n",
       "        text-align: right;\n",
       "    }\n",
       "</style>\n",
       "<table border=\"1\" class=\"dataframe\">\n",
       "  <thead>\n",
       "    <tr style=\"text-align: right;\">\n",
       "      <th></th>\n",
       "      <th>Всего слушателей</th>\n",
       "    </tr>\n",
       "    <tr>\n",
       "      <th>Возрастная_категория_1ПК</th>\n",
       "      <th></th>\n",
       "    </tr>\n",
       "  </thead>\n",
       "  <tbody>\n",
       "    <tr>\n",
       "      <th>30-34</th>\n",
       "      <td>4</td>\n",
       "    </tr>\n",
       "    <tr>\n",
       "      <th>35-39</th>\n",
       "      <td>2</td>\n",
       "    </tr>\n",
       "    <tr>\n",
       "      <th>40-44</th>\n",
       "      <td>7</td>\n",
       "    </tr>\n",
       "    <tr>\n",
       "      <th>45-49</th>\n",
       "      <td>8</td>\n",
       "    </tr>\n",
       "    <tr>\n",
       "      <th>50-54</th>\n",
       "      <td>5</td>\n",
       "    </tr>\n",
       "    <tr>\n",
       "      <th>55-59</th>\n",
       "      <td>3</td>\n",
       "    </tr>\n",
       "    <tr>\n",
       "      <th>60-64</th>\n",
       "      <td>6</td>\n",
       "    </tr>\n",
       "    <tr>\n",
       "      <th>моложе 25 лет</th>\n",
       "      <td>1</td>\n",
       "    </tr>\n",
       "  </tbody>\n",
       "</table>\n",
       "</div>"
      ],
      "text/plain": [
       "                          Всего слушателей\n",
       "Возрастная_категория_1ПК                  \n",
       "30-34                                    4\n",
       "35-39                                    2\n",
       "40-44                                    7\n",
       "45-49                                    8\n",
       "50-54                                    5\n",
       "55-59                                    3\n",
       "60-64                                    6\n",
       "моложе 25 лет                            1"
      ]
     },
     "execution_count": 1156,
     "metadata": {},
     "output_type": "execute_result"
    }
   ],
   "source": [
    "all_counting_age_category"
   ]
  },
  {
   "cell_type": "code",
   "execution_count": 1157,
   "metadata": {},
   "outputs": [],
   "source": [
    "df_2_4_all = all_counting_age_category.swapaxes(1,0)"
   ]
  },
  {
   "cell_type": "code",
   "execution_count": 1158,
   "metadata": {},
   "outputs": [
    {
     "data": {
      "text/html": [
       "<div>\n",
       "<style scoped>\n",
       "    .dataframe tbody tr th:only-of-type {\n",
       "        vertical-align: middle;\n",
       "    }\n",
       "\n",
       "    .dataframe tbody tr th {\n",
       "        vertical-align: top;\n",
       "    }\n",
       "\n",
       "    .dataframe thead th {\n",
       "        text-align: right;\n",
       "    }\n",
       "</style>\n",
       "<table border=\"1\" class=\"dataframe\">\n",
       "  <thead>\n",
       "    <tr style=\"text-align: right;\">\n",
       "      <th>Возрастная_категория_1ПК</th>\n",
       "      <th>30-34</th>\n",
       "      <th>35-39</th>\n",
       "      <th>40-44</th>\n",
       "      <th>45-49</th>\n",
       "      <th>50-54</th>\n",
       "      <th>55-59</th>\n",
       "      <th>60-64</th>\n",
       "      <th>моложе 25 лет</th>\n",
       "    </tr>\n",
       "  </thead>\n",
       "  <tbody>\n",
       "    <tr>\n",
       "      <th>Всего слушателей</th>\n",
       "      <td>4</td>\n",
       "      <td>2</td>\n",
       "      <td>7</td>\n",
       "      <td>8</td>\n",
       "      <td>5</td>\n",
       "      <td>3</td>\n",
       "      <td>6</td>\n",
       "      <td>1</td>\n",
       "    </tr>\n",
       "  </tbody>\n",
       "</table>\n",
       "</div>"
      ],
      "text/plain": [
       "Возрастная_категория_1ПК  30-34  35-39  40-44  45-49  50-54  55-59  60-64  \\\n",
       "Всего слушателей              4      2      7      8      5      3      6   \n",
       "\n",
       "Возрастная_категория_1ПК  моложе 25 лет  \n",
       "Всего слушателей                      1  "
      ]
     },
     "execution_count": 1158,
     "metadata": {},
     "output_type": "execute_result"
    }
   ],
   "source": [
    "df_2_4_all"
   ]
  },
  {
   "cell_type": "code",
   "execution_count": 1159,
   "metadata": {},
   "outputs": [],
   "source": [
    "# Считаем женщин\n",
    "df_2_4_women=df_2_4[df_2_4['Пол_получателя']=='Жен'].groupby(['Возрастная_категория_1ПК']).agg({'for_counting':'sum'}).rename(columns={'for_counting':'Женщин Всего'}).swapaxes(1,0)"
   ]
  },
  {
   "cell_type": "code",
   "execution_count": 1160,
   "metadata": {},
   "outputs": [
    {
     "data": {
      "text/html": [
       "<div>\n",
       "<style scoped>\n",
       "    .dataframe tbody tr th:only-of-type {\n",
       "        vertical-align: middle;\n",
       "    }\n",
       "\n",
       "    .dataframe tbody tr th {\n",
       "        vertical-align: top;\n",
       "    }\n",
       "\n",
       "    .dataframe thead th {\n",
       "        text-align: right;\n",
       "    }\n",
       "</style>\n",
       "<table border=\"1\" class=\"dataframe\">\n",
       "  <thead>\n",
       "    <tr style=\"text-align: right;\">\n",
       "      <th>Возрастная_категория_1ПК</th>\n",
       "      <th>30-34</th>\n",
       "      <th>35-39</th>\n",
       "      <th>40-44</th>\n",
       "      <th>45-49</th>\n",
       "      <th>50-54</th>\n",
       "      <th>55-59</th>\n",
       "      <th>60-64</th>\n",
       "      <th>моложе 25 лет</th>\n",
       "    </tr>\n",
       "  </thead>\n",
       "  <tbody>\n",
       "    <tr>\n",
       "      <th>Женщин Всего</th>\n",
       "      <td>3</td>\n",
       "      <td>2</td>\n",
       "      <td>7</td>\n",
       "      <td>6</td>\n",
       "      <td>5</td>\n",
       "      <td>3</td>\n",
       "      <td>1</td>\n",
       "      <td>1</td>\n",
       "    </tr>\n",
       "  </tbody>\n",
       "</table>\n",
       "</div>"
      ],
      "text/plain": [
       "Возрастная_категория_1ПК  30-34  35-39  40-44  45-49  50-54  55-59  60-64  \\\n",
       "Женщин Всего                  3      2      7      6      5      3      1   \n",
       "\n",
       "Возрастная_категория_1ПК  моложе 25 лет  \n",
       "Женщин Всего                          1  "
      ]
     },
     "execution_count": 1160,
     "metadata": {},
     "output_type": "execute_result"
    }
   ],
   "source": [
    "df_2_4_women"
   ]
  },
  {
   "cell_type": "code",
   "execution_count": 1161,
   "metadata": {},
   "outputs": [],
   "source": [
    "df_2_4_all =pd.concat([df_2_4_all,df_2_4_women],axis=0)"
   ]
  },
  {
   "cell_type": "code",
   "execution_count": 1162,
   "metadata": {},
   "outputs": [
    {
     "data": {
      "text/html": [
       "<div>\n",
       "<style scoped>\n",
       "    .dataframe tbody tr th:only-of-type {\n",
       "        vertical-align: middle;\n",
       "    }\n",
       "\n",
       "    .dataframe tbody tr th {\n",
       "        vertical-align: top;\n",
       "    }\n",
       "\n",
       "    .dataframe thead th {\n",
       "        text-align: right;\n",
       "    }\n",
       "</style>\n",
       "<table border=\"1\" class=\"dataframe\">\n",
       "  <thead>\n",
       "    <tr style=\"text-align: right;\">\n",
       "      <th>Возрастная_категория_1ПК</th>\n",
       "      <th>30-34</th>\n",
       "      <th>35-39</th>\n",
       "      <th>40-44</th>\n",
       "      <th>45-49</th>\n",
       "      <th>50-54</th>\n",
       "      <th>55-59</th>\n",
       "      <th>60-64</th>\n",
       "      <th>моложе 25 лет</th>\n",
       "    </tr>\n",
       "  </thead>\n",
       "  <tbody>\n",
       "    <tr>\n",
       "      <th>Всего слушателей</th>\n",
       "      <td>4</td>\n",
       "      <td>2</td>\n",
       "      <td>7</td>\n",
       "      <td>8</td>\n",
       "      <td>5</td>\n",
       "      <td>3</td>\n",
       "      <td>6</td>\n",
       "      <td>1</td>\n",
       "    </tr>\n",
       "    <tr>\n",
       "      <th>Женщин Всего</th>\n",
       "      <td>3</td>\n",
       "      <td>2</td>\n",
       "      <td>7</td>\n",
       "      <td>6</td>\n",
       "      <td>5</td>\n",
       "      <td>3</td>\n",
       "      <td>1</td>\n",
       "      <td>1</td>\n",
       "    </tr>\n",
       "  </tbody>\n",
       "</table>\n",
       "</div>"
      ],
      "text/plain": [
       "Возрастная_категория_1ПК  30-34  35-39  40-44  45-49  50-54  55-59  60-64  \\\n",
       "Всего слушателей              4      2      7      8      5      3      6   \n",
       "Женщин Всего                  3      2      7      6      5      3      1   \n",
       "\n",
       "Возрастная_категория_1ПК  моложе 25 лет  \n",
       "Всего слушателей                      1  \n",
       "Женщин Всего                          1  "
      ]
     },
     "execution_count": 1162,
     "metadata": {},
     "output_type": "execute_result"
    }
   ],
   "source": [
    "df_2_4_all"
   ]
  },
  {
   "cell_type": "code",
   "execution_count": 1163,
   "metadata": {},
   "outputs": [],
   "source": [
    "finish_df2_4=pd.pivot_table(df_dpo,index=['Дополнительная_профессиональная_программа_повышение_квалификации_профессиональная_переподготовка','Пол_получателя'],\n",
    "              columns=['Возрастная_категория_1ПК'],\n",
    "               values=['ФИО_именительный'],\n",
    "              aggfunc='count')"
   ]
  },
  {
   "cell_type": "code",
   "execution_count": 1164,
   "metadata": {},
   "outputs": [
    {
     "data": {
      "text/html": [
       "<div>\n",
       "<style scoped>\n",
       "    .dataframe tbody tr th:only-of-type {\n",
       "        vertical-align: middle;\n",
       "    }\n",
       "\n",
       "    .dataframe tbody tr th {\n",
       "        vertical-align: top;\n",
       "    }\n",
       "\n",
       "    .dataframe thead tr th {\n",
       "        text-align: left;\n",
       "    }\n",
       "\n",
       "    .dataframe thead tr:last-of-type th {\n",
       "        text-align: right;\n",
       "    }\n",
       "</style>\n",
       "<table border=\"1\" class=\"dataframe\">\n",
       "  <thead>\n",
       "    <tr>\n",
       "      <th></th>\n",
       "      <th></th>\n",
       "      <th colspan=\"8\" halign=\"left\">ФИО_именительный</th>\n",
       "    </tr>\n",
       "    <tr>\n",
       "      <th></th>\n",
       "      <th>Возрастная_категория_1ПК</th>\n",
       "      <th>30-34</th>\n",
       "      <th>35-39</th>\n",
       "      <th>40-44</th>\n",
       "      <th>45-49</th>\n",
       "      <th>50-54</th>\n",
       "      <th>55-59</th>\n",
       "      <th>60-64</th>\n",
       "      <th>моложе 25 лет</th>\n",
       "    </tr>\n",
       "    <tr>\n",
       "      <th>Дополнительная_профессиональная_программа_повышение_квалификации_профессиональная_переподготовка</th>\n",
       "      <th>Пол_получателя</th>\n",
       "      <th></th>\n",
       "      <th></th>\n",
       "      <th></th>\n",
       "      <th></th>\n",
       "      <th></th>\n",
       "      <th></th>\n",
       "      <th></th>\n",
       "      <th></th>\n",
       "    </tr>\n",
       "  </thead>\n",
       "  <tbody>\n",
       "    <tr>\n",
       "      <th rowspan=\"2\" valign=\"top\">Повышение квалификации</th>\n",
       "      <th>Жен</th>\n",
       "      <td>2.0</td>\n",
       "      <td>2.0</td>\n",
       "      <td>6.0</td>\n",
       "      <td>3.0</td>\n",
       "      <td>3.0</td>\n",
       "      <td>2.0</td>\n",
       "      <td>1.0</td>\n",
       "      <td>1.0</td>\n",
       "    </tr>\n",
       "    <tr>\n",
       "      <th>Муж</th>\n",
       "      <td>1.0</td>\n",
       "      <td>NaN</td>\n",
       "      <td>NaN</td>\n",
       "      <td>2.0</td>\n",
       "      <td>NaN</td>\n",
       "      <td>NaN</td>\n",
       "      <td>3.0</td>\n",
       "      <td>NaN</td>\n",
       "    </tr>\n",
       "    <tr>\n",
       "      <th rowspan=\"2\" valign=\"top\">Профессиональная переподготовка</th>\n",
       "      <th>Жен</th>\n",
       "      <td>1.0</td>\n",
       "      <td>NaN</td>\n",
       "      <td>1.0</td>\n",
       "      <td>3.0</td>\n",
       "      <td>2.0</td>\n",
       "      <td>1.0</td>\n",
       "      <td>NaN</td>\n",
       "      <td>NaN</td>\n",
       "    </tr>\n",
       "    <tr>\n",
       "      <th>Муж</th>\n",
       "      <td>NaN</td>\n",
       "      <td>NaN</td>\n",
       "      <td>NaN</td>\n",
       "      <td>NaN</td>\n",
       "      <td>NaN</td>\n",
       "      <td>NaN</td>\n",
       "      <td>2.0</td>\n",
       "      <td>NaN</td>\n",
       "    </tr>\n",
       "  </tbody>\n",
       "</table>\n",
       "</div>"
      ],
      "text/plain": [
       "                                                                  ФИО_именительный  \\\n",
       "Возрастная_категория_1ПК                                                     30-34   \n",
       "Дополнительная_профессиональная_программа_повыш... Пол_получателя                    \n",
       "Повышение квалификации                             Жен                         2.0   \n",
       "                                                   Муж                         1.0   \n",
       "Профессиональная переподготовка                    Жен                         1.0   \n",
       "                                                   Муж                         NaN   \n",
       "\n",
       "                                                                               \\\n",
       "Возрастная_категория_1ПК                                          35-39 40-44   \n",
       "Дополнительная_профессиональная_программа_повыш... Пол_получателя               \n",
       "Повышение квалификации                             Жен              2.0   6.0   \n",
       "                                                   Муж              NaN   NaN   \n",
       "Профессиональная переподготовка                    Жен              NaN   1.0   \n",
       "                                                   Муж              NaN   NaN   \n",
       "\n",
       "                                                                               \\\n",
       "Возрастная_категория_1ПК                                          45-49 50-54   \n",
       "Дополнительная_профессиональная_программа_повыш... Пол_получателя               \n",
       "Повышение квалификации                             Жен              3.0   3.0   \n",
       "                                                   Муж              2.0   NaN   \n",
       "Профессиональная переподготовка                    Жен              3.0   2.0   \n",
       "                                                   Муж              NaN   NaN   \n",
       "\n",
       "                                                                               \\\n",
       "Возрастная_категория_1ПК                                          55-59 60-64   \n",
       "Дополнительная_профессиональная_программа_повыш... Пол_получателя               \n",
       "Повышение квалификации                             Жен              2.0   1.0   \n",
       "                                                   Муж              NaN   3.0   \n",
       "Профессиональная переподготовка                    Жен              1.0   NaN   \n",
       "                                                   Муж              NaN   2.0   \n",
       "\n",
       "                                                                                 \n",
       "Возрастная_категория_1ПК                                          моложе 25 лет  \n",
       "Дополнительная_профессиональная_программа_повыш... Пол_получателя                \n",
       "Повышение квалификации                             Жен                      1.0  \n",
       "                                                   Муж                      NaN  \n",
       "Профессиональная переподготовка                    Жен                      NaN  \n",
       "                                                   Муж                      NaN  "
      ]
     },
     "execution_count": 1164,
     "metadata": {},
     "output_type": "execute_result"
    }
   ],
   "source": [
    "finish_df2_4"
   ]
  },
  {
   "cell_type": "code",
   "execution_count": 1165,
   "metadata": {},
   "outputs": [],
   "source": [
    "finish_df2_4.columns =finish_df2_4.columns.droplevel()\n",
    "finish_df2_4.index = finish_df2_4.index.droplevel()"
   ]
  },
  {
   "cell_type": "code",
   "execution_count": 1166,
   "metadata": {},
   "outputs": [
    {
     "data": {
      "text/html": [
       "<div>\n",
       "<style scoped>\n",
       "    .dataframe tbody tr th:only-of-type {\n",
       "        vertical-align: middle;\n",
       "    }\n",
       "\n",
       "    .dataframe tbody tr th {\n",
       "        vertical-align: top;\n",
       "    }\n",
       "\n",
       "    .dataframe thead th {\n",
       "        text-align: right;\n",
       "    }\n",
       "</style>\n",
       "<table border=\"1\" class=\"dataframe\">\n",
       "  <thead>\n",
       "    <tr style=\"text-align: right;\">\n",
       "      <th>Возрастная_категория_1ПК</th>\n",
       "      <th>30-34</th>\n",
       "      <th>35-39</th>\n",
       "      <th>40-44</th>\n",
       "      <th>45-49</th>\n",
       "      <th>50-54</th>\n",
       "      <th>55-59</th>\n",
       "      <th>60-64</th>\n",
       "      <th>моложе 25 лет</th>\n",
       "    </tr>\n",
       "    <tr>\n",
       "      <th>Пол_получателя</th>\n",
       "      <th></th>\n",
       "      <th></th>\n",
       "      <th></th>\n",
       "      <th></th>\n",
       "      <th></th>\n",
       "      <th></th>\n",
       "      <th></th>\n",
       "      <th></th>\n",
       "    </tr>\n",
       "  </thead>\n",
       "  <tbody>\n",
       "    <tr>\n",
       "      <th>Жен</th>\n",
       "      <td>2.0</td>\n",
       "      <td>2.0</td>\n",
       "      <td>6.0</td>\n",
       "      <td>3.0</td>\n",
       "      <td>3.0</td>\n",
       "      <td>2.0</td>\n",
       "      <td>1.0</td>\n",
       "      <td>1.0</td>\n",
       "    </tr>\n",
       "    <tr>\n",
       "      <th>Муж</th>\n",
       "      <td>1.0</td>\n",
       "      <td>NaN</td>\n",
       "      <td>NaN</td>\n",
       "      <td>2.0</td>\n",
       "      <td>NaN</td>\n",
       "      <td>NaN</td>\n",
       "      <td>3.0</td>\n",
       "      <td>NaN</td>\n",
       "    </tr>\n",
       "    <tr>\n",
       "      <th>Жен</th>\n",
       "      <td>1.0</td>\n",
       "      <td>NaN</td>\n",
       "      <td>1.0</td>\n",
       "      <td>3.0</td>\n",
       "      <td>2.0</td>\n",
       "      <td>1.0</td>\n",
       "      <td>NaN</td>\n",
       "      <td>NaN</td>\n",
       "    </tr>\n",
       "    <tr>\n",
       "      <th>Муж</th>\n",
       "      <td>NaN</td>\n",
       "      <td>NaN</td>\n",
       "      <td>NaN</td>\n",
       "      <td>NaN</td>\n",
       "      <td>NaN</td>\n",
       "      <td>NaN</td>\n",
       "      <td>2.0</td>\n",
       "      <td>NaN</td>\n",
       "    </tr>\n",
       "  </tbody>\n",
       "</table>\n",
       "</div>"
      ],
      "text/plain": [
       "Возрастная_категория_1ПК  30-34  35-39  40-44  45-49  50-54  55-59  60-64  \\\n",
       "Пол_получателя                                                              \n",
       "Жен                         2.0    2.0    6.0    3.0    3.0    2.0    1.0   \n",
       "Муж                         1.0    NaN    NaN    2.0    NaN    NaN    3.0   \n",
       "Жен                         1.0    NaN    1.0    3.0    2.0    1.0    NaN   \n",
       "Муж                         NaN    NaN    NaN    NaN    NaN    NaN    2.0   \n",
       "\n",
       "Возрастная_категория_1ПК  моложе 25 лет  \n",
       "Пол_получателя                           \n",
       "Жен                                 1.0  \n",
       "Муж                                 NaN  \n",
       "Жен                                 NaN  \n",
       "Муж                                 NaN  "
      ]
     },
     "execution_count": 1166,
     "metadata": {},
     "output_type": "execute_result"
    }
   ],
   "source": [
    "finish_df2_4"
   ]
  },
  {
   "cell_type": "code",
   "execution_count": 1167,
   "metadata": {},
   "outputs": [],
   "source": [
    "finish_df2_4=pd.concat([df_2_4_all,finish_df2_4])"
   ]
  },
  {
   "cell_type": "code",
   "execution_count": 1168,
   "metadata": {},
   "outputs": [
    {
     "data": {
      "text/html": [
       "<div>\n",
       "<style scoped>\n",
       "    .dataframe tbody tr th:only-of-type {\n",
       "        vertical-align: middle;\n",
       "    }\n",
       "\n",
       "    .dataframe tbody tr th {\n",
       "        vertical-align: top;\n",
       "    }\n",
       "\n",
       "    .dataframe thead th {\n",
       "        text-align: right;\n",
       "    }\n",
       "</style>\n",
       "<table border=\"1\" class=\"dataframe\">\n",
       "  <thead>\n",
       "    <tr style=\"text-align: right;\">\n",
       "      <th>Возрастная_категория_1ПК</th>\n",
       "      <th>30-34</th>\n",
       "      <th>35-39</th>\n",
       "      <th>40-44</th>\n",
       "      <th>45-49</th>\n",
       "      <th>50-54</th>\n",
       "      <th>55-59</th>\n",
       "      <th>60-64</th>\n",
       "      <th>моложе 25 лет</th>\n",
       "    </tr>\n",
       "  </thead>\n",
       "  <tbody>\n",
       "    <tr>\n",
       "      <th>Всего слушателей</th>\n",
       "      <td>4.0</td>\n",
       "      <td>2.0</td>\n",
       "      <td>7.0</td>\n",
       "      <td>8.0</td>\n",
       "      <td>5.0</td>\n",
       "      <td>3.0</td>\n",
       "      <td>6.0</td>\n",
       "      <td>1.0</td>\n",
       "    </tr>\n",
       "    <tr>\n",
       "      <th>Женщин Всего</th>\n",
       "      <td>3.0</td>\n",
       "      <td>2.0</td>\n",
       "      <td>7.0</td>\n",
       "      <td>6.0</td>\n",
       "      <td>5.0</td>\n",
       "      <td>3.0</td>\n",
       "      <td>1.0</td>\n",
       "      <td>1.0</td>\n",
       "    </tr>\n",
       "    <tr>\n",
       "      <th>Жен</th>\n",
       "      <td>2.0</td>\n",
       "      <td>2.0</td>\n",
       "      <td>6.0</td>\n",
       "      <td>3.0</td>\n",
       "      <td>3.0</td>\n",
       "      <td>2.0</td>\n",
       "      <td>1.0</td>\n",
       "      <td>1.0</td>\n",
       "    </tr>\n",
       "    <tr>\n",
       "      <th>Муж</th>\n",
       "      <td>1.0</td>\n",
       "      <td>NaN</td>\n",
       "      <td>NaN</td>\n",
       "      <td>2.0</td>\n",
       "      <td>NaN</td>\n",
       "      <td>NaN</td>\n",
       "      <td>3.0</td>\n",
       "      <td>NaN</td>\n",
       "    </tr>\n",
       "    <tr>\n",
       "      <th>Жен</th>\n",
       "      <td>1.0</td>\n",
       "      <td>NaN</td>\n",
       "      <td>1.0</td>\n",
       "      <td>3.0</td>\n",
       "      <td>2.0</td>\n",
       "      <td>1.0</td>\n",
       "      <td>NaN</td>\n",
       "      <td>NaN</td>\n",
       "    </tr>\n",
       "    <tr>\n",
       "      <th>Муж</th>\n",
       "      <td>NaN</td>\n",
       "      <td>NaN</td>\n",
       "      <td>NaN</td>\n",
       "      <td>NaN</td>\n",
       "      <td>NaN</td>\n",
       "      <td>NaN</td>\n",
       "      <td>2.0</td>\n",
       "      <td>NaN</td>\n",
       "    </tr>\n",
       "  </tbody>\n",
       "</table>\n",
       "</div>"
      ],
      "text/plain": [
       "Возрастная_категория_1ПК  30-34  35-39  40-44  45-49  50-54  55-59  60-64  \\\n",
       "Всего слушателей            4.0    2.0    7.0    8.0    5.0    3.0    6.0   \n",
       "Женщин Всего                3.0    2.0    7.0    6.0    5.0    3.0    1.0   \n",
       "Жен                         2.0    2.0    6.0    3.0    3.0    2.0    1.0   \n",
       "Муж                         1.0    NaN    NaN    2.0    NaN    NaN    3.0   \n",
       "Жен                         1.0    NaN    1.0    3.0    2.0    1.0    NaN   \n",
       "Муж                         NaN    NaN    NaN    NaN    NaN    NaN    2.0   \n",
       "\n",
       "Возрастная_категория_1ПК  моложе 25 лет  \n",
       "Всего слушателей                    1.0  \n",
       "Женщин Всего                        1.0  \n",
       "Жен                                 1.0  \n",
       "Муж                                 NaN  \n",
       "Жен                                 NaN  \n",
       "Муж                                 NaN  "
      ]
     },
     "execution_count": 1168,
     "metadata": {},
     "output_type": "execute_result"
    }
   ],
   "source": [
    "finish_df2_4"
   ]
  },
  {
   "cell_type": "code",
   "execution_count": 1169,
   "metadata": {},
   "outputs": [],
   "source": [
    "# Переименовываем индекс, чтобы было более понятно\n",
    "finish_df2_4.index.name = 'Наименование показателей'\n",
    "finish_df2_4.index= ['Численность слушателей Всего','из них Женщин','Повышение квалификации Женщины','Повышение квалификации Мужчины',\n",
    "                     'Профессиональная переподготовка Женщины','Профессиональная переподготовка Мужчины',]\n",
    "\n"
   ]
  },
  {
   "cell_type": "code",
   "execution_count": null,
   "metadata": {},
   "outputs": [],
   "source": []
  },
  {
   "cell_type": "code",
   "execution_count": 1170,
   "metadata": {},
   "outputs": [],
   "source": [
    "finish_df2_4.to_excel('2.4.xlsx')"
   ]
  },
  {
   "cell_type": "code",
   "execution_count": 1171,
   "metadata": {},
   "outputs": [
    {
     "data": {
      "text/plain": [
       "Index(['Численность слушателей Всего', 'из них Женщин',\n",
       "       'Повышение квалификации Женщины', 'Повышение квалификации Мужчины',\n",
       "       'Профессиональная переподготовка Женщины',\n",
       "       'Профессиональная переподготовка Мужчины'],\n",
       "      dtype='object')"
      ]
     },
     "execution_count": 1171,
     "metadata": {},
     "output_type": "execute_result"
    }
   ],
   "source": [
    "finish_df2_4.index"
   ]
  },
  {
   "cell_type": "code",
   "execution_count": 1172,
   "metadata": {},
   "outputs": [],
   "source": [
    "#Сохраняем в лист Раздел 2.4\n",
    "for r in dataframe_to_rows(finish_df2_4, index=True, header=True):\n",
    "    if len(r) != 1:\n",
    "        wb['Раздел 2.4'].append(r)"
   ]
  },
  {
   "cell_type": "code",
   "execution_count": 1173,
   "metadata": {},
   "outputs": [],
   "source": [
    "#Добавляем колонки\n"
   ]
  },
  {
   "cell_type": "code",
   "execution_count": 1174,
   "metadata": {},
   "outputs": [],
   "source": [
    "#раздел 2.5 Инвалиды\n",
    "df_dpo_2_5 = df_dpo.copy()\n",
    "df_dpo_2_5['for_counting'] = 1\n",
    "df_dpo_2_5 = df_dpo_2_5[df_dpo_2_5['Сведения_об_ограничении_возможностей_здоровья'] != 'нет ОВЗ']\n",
    "\n"
   ]
  },
  {
   "cell_type": "code",
   "execution_count": 1175,
   "metadata": {},
   "outputs": [
    {
     "data": {
      "text/html": [
       "<div>\n",
       "<style scoped>\n",
       "    .dataframe tbody tr th:only-of-type {\n",
       "        vertical-align: middle;\n",
       "    }\n",
       "\n",
       "    .dataframe tbody tr th {\n",
       "        vertical-align: top;\n",
       "    }\n",
       "\n",
       "    .dataframe thead th {\n",
       "        text-align: right;\n",
       "    }\n",
       "</style>\n",
       "<table border=\"1\" class=\"dataframe\">\n",
       "  <thead>\n",
       "    <tr style=\"text-align: right;\">\n",
       "      <th></th>\n",
       "      <th>Порядковый_номер_группы</th>\n",
       "      <th>Вид_документа</th>\n",
       "      <th>Статус_документа</th>\n",
       "      <th>Подтверждение_утраты</th>\n",
       "      <th>Подтверждение_обмена</th>\n",
       "      <th>Подтверждение_уничтожения</th>\n",
       "      <th>Серия_документа</th>\n",
       "      <th>Номер_документа</th>\n",
       "      <th>Дата_выдачи_документа</th>\n",
       "      <th>Регистрационный_номер</th>\n",
       "      <th>...</th>\n",
       "      <th>Использование_сетевой_формы_обучения</th>\n",
       "      <th>Использование_ЭО_или_ДОТ</th>\n",
       "      <th>Модульная_программа_с_вариативным_выбором</th>\n",
       "      <th>Вид_экономической\\nдеятельности_дополнительной_профессиональной_программы</th>\n",
       "      <th>Для_освоения_ДПП_требуется_наличие_ВО</th>\n",
       "      <th>Номер_приказа_о_зачислении</th>\n",
       "      <th>Номер_приказа_об_отчислении</th>\n",
       "      <th>Текущий_возраст</th>\n",
       "      <th>Возрастная_категория_1ПК</th>\n",
       "      <th>for_counting</th>\n",
       "    </tr>\n",
       "  </thead>\n",
       "  <tbody>\n",
       "    <tr>\n",
       "      <th>0</th>\n",
       "      <td>NaN</td>\n",
       "      <td>Удостоверение о повышении квалификации</td>\n",
       "      <td>Оригинал</td>\n",
       "      <td>Нет</td>\n",
       "      <td>Нет</td>\n",
       "      <td>Нет</td>\n",
       "      <td>нет</td>\n",
       "      <td>32413862269</td>\n",
       "      <td>2022-01-28</td>\n",
       "      <td>768</td>\n",
       "      <td>...</td>\n",
       "      <td>Нет</td>\n",
       "      <td>Без применения ЭО или ДОТ</td>\n",
       "      <td>да</td>\n",
       "      <td>образование</td>\n",
       "      <td>требуется ВО</td>\n",
       "      <td>3</td>\n",
       "      <td>4</td>\n",
       "      <td>45</td>\n",
       "      <td>45-49</td>\n",
       "      <td>1</td>\n",
       "    </tr>\n",
       "    <tr>\n",
       "      <th>1</th>\n",
       "      <td>NaN</td>\n",
       "      <td>Удостоверение о повышении квалификации</td>\n",
       "      <td>Оригинал</td>\n",
       "      <td>Нет</td>\n",
       "      <td>Нет</td>\n",
       "      <td>Нет</td>\n",
       "      <td>нет</td>\n",
       "      <td>32413862270</td>\n",
       "      <td>2022-01-28</td>\n",
       "      <td>769</td>\n",
       "      <td>...</td>\n",
       "      <td>Нет</td>\n",
       "      <td>Без применения ЭО или ДОТ</td>\n",
       "      <td>да</td>\n",
       "      <td>образование</td>\n",
       "      <td>требуется ВО</td>\n",
       "      <td>3</td>\n",
       "      <td>4</td>\n",
       "      <td>60</td>\n",
       "      <td>60-64</td>\n",
       "      <td>1</td>\n",
       "    </tr>\n",
       "    <tr>\n",
       "      <th>2</th>\n",
       "      <td>NaN</td>\n",
       "      <td>Удостоверение о повышении квалификации</td>\n",
       "      <td>Оригинал</td>\n",
       "      <td>Нет</td>\n",
       "      <td>Нет</td>\n",
       "      <td>Нет</td>\n",
       "      <td>нет</td>\n",
       "      <td>32413862271</td>\n",
       "      <td>2022-01-28</td>\n",
       "      <td>770</td>\n",
       "      <td>...</td>\n",
       "      <td>Нет</td>\n",
       "      <td>Без применения ЭО или ДОТ</td>\n",
       "      <td>да</td>\n",
       "      <td>образование</td>\n",
       "      <td>требуется ВО</td>\n",
       "      <td>3</td>\n",
       "      <td>4</td>\n",
       "      <td>34</td>\n",
       "      <td>30-34</td>\n",
       "      <td>1</td>\n",
       "    </tr>\n",
       "  </tbody>\n",
       "</table>\n",
       "<p>3 rows × 68 columns</p>\n",
       "</div>"
      ],
      "text/plain": [
       "   Порядковый_номер_группы                           Вид_документа  \\\n",
       "0                      NaN  Удостоверение о повышении квалификации   \n",
       "1                      NaN  Удостоверение о повышении квалификации   \n",
       "2                      NaN  Удостоверение о повышении квалификации   \n",
       "\n",
       "  Статус_документа Подтверждение_утраты Подтверждение_обмена  \\\n",
       "0        Оригинал                   Нет                  Нет   \n",
       "1        Оригинал                   Нет                  Нет   \n",
       "2        Оригинал                   Нет                  Нет   \n",
       "\n",
       "  Подтверждение_уничтожения Серия_документа  Номер_документа  \\\n",
       "0                       Нет             нет      32413862269   \n",
       "1                       Нет             нет      32413862270   \n",
       "2                       Нет             нет      32413862271   \n",
       "\n",
       "  Дата_выдачи_документа  Регистрационный_номер  ...  \\\n",
       "0            2022-01-28                    768  ...   \n",
       "1            2022-01-28                    769  ...   \n",
       "2            2022-01-28                    770  ...   \n",
       "\n",
       "  Использование_сетевой_формы_обучения   Использование_ЭО_или_ДОТ  \\\n",
       "0                                  Нет  Без применения ЭО или ДОТ   \n",
       "1                                  Нет  Без применения ЭО или ДОТ   \n",
       "2                                  Нет  Без применения ЭО или ДОТ   \n",
       "\n",
       "  Модульная_программа_с_вариативным_выбором  \\\n",
       "0                                        да   \n",
       "1                                        да   \n",
       "2                                        да   \n",
       "\n",
       "  Вид_экономической\\nдеятельности_дополнительной_профессиональной_программы  \\\n",
       "0                                        образование                          \n",
       "1                                        образование                          \n",
       "2                                        образование                          \n",
       "\n",
       "  Для_освоения_ДПП_требуется_наличие_ВО Номер_приказа_о_зачислении  \\\n",
       "0                          требуется ВО                          3   \n",
       "1                          требуется ВО                          3   \n",
       "2                          требуется ВО                          3   \n",
       "\n",
       "  Номер_приказа_об_отчислении Текущий_возраст Возрастная_категория_1ПК  \\\n",
       "0                           4              45                    45-49   \n",
       "1                           4              60                    60-64   \n",
       "2                           4              34                    30-34   \n",
       "\n",
       "   for_counting  \n",
       "0             1  \n",
       "1             1  \n",
       "2             1  \n",
       "\n",
       "[3 rows x 68 columns]"
      ]
     },
     "execution_count": 1175,
     "metadata": {},
     "output_type": "execute_result"
    }
   ],
   "source": [
    "df_dpo_2_5"
   ]
  },
  {
   "cell_type": "code",
   "execution_count": 1176,
   "metadata": {},
   "outputs": [],
   "source": [
    "df_2_5_all = df_dpo_2_5.groupby(['Дополнительная_профессиональная_программа_повышение_квалификации_профессиональная_переподготовка']).agg({'ФИО_именительный':'count'}).rename(columns={'ФИО_именительный':'Всего'}).swapaxes(1,0)"
   ]
  },
  {
   "cell_type": "code",
   "execution_count": 1177,
   "metadata": {},
   "outputs": [],
   "source": [
    "finish_df2_5=pd.pivot_table(df_dpo_2_5,\n",
    "              index=['Сведения_об_ограничении_возможностей_здоровья'],\n",
    "              columns=['Дополнительная_профессиональная_программа_повышение_квалификации_профессиональная_переподготовка'],\n",
    "              values=['for_counting'],\n",
    "              aggfunc='sum')"
   ]
  },
  {
   "cell_type": "code",
   "execution_count": 1178,
   "metadata": {},
   "outputs": [
    {
     "data": {
      "text/html": [
       "<div>\n",
       "<style scoped>\n",
       "    .dataframe tbody tr th:only-of-type {\n",
       "        vertical-align: middle;\n",
       "    }\n",
       "\n",
       "    .dataframe tbody tr th {\n",
       "        vertical-align: top;\n",
       "    }\n",
       "\n",
       "    .dataframe thead tr th {\n",
       "        text-align: left;\n",
       "    }\n",
       "\n",
       "    .dataframe thead tr:last-of-type th {\n",
       "        text-align: right;\n",
       "    }\n",
       "</style>\n",
       "<table border=\"1\" class=\"dataframe\">\n",
       "  <thead>\n",
       "    <tr>\n",
       "      <th></th>\n",
       "      <th colspan=\"2\" halign=\"left\">for_counting</th>\n",
       "    </tr>\n",
       "    <tr>\n",
       "      <th>Дополнительная_профессиональная_программа_повышение_квалификации_профессиональная_переподготовка</th>\n",
       "      <th>Повышение квалификации</th>\n",
       "      <th>Профессиональная переподготовка</th>\n",
       "    </tr>\n",
       "    <tr>\n",
       "      <th>Сведения_об_ограничении_возможностей_здоровья</th>\n",
       "      <th></th>\n",
       "      <th></th>\n",
       "    </tr>\n",
       "  </thead>\n",
       "  <tbody>\n",
       "    <tr>\n",
       "      <th>инвалид</th>\n",
       "      <td>2.0</td>\n",
       "      <td>NaN</td>\n",
       "    </tr>\n",
       "    <tr>\n",
       "      <th>лицо с ОВЗ</th>\n",
       "      <td>NaN</td>\n",
       "      <td>1.0</td>\n",
       "    </tr>\n",
       "  </tbody>\n",
       "</table>\n",
       "</div>"
      ],
      "text/plain": [
       "                                                                                                           for_counting  \\\n",
       "Дополнительная_профессиональная_программа_повышение_квалификации_профессиональная_переподготовка Повышение квалификации   \n",
       "Сведения_об_ограничении_возможностей_здоровья                                                                             \n",
       "инвалид                                                                                                             2.0   \n",
       "лицо с ОВЗ                                                                                                          NaN   \n",
       "\n",
       "                                                                                                                                  \n",
       "Дополнительная_профессиональная_программа_повышение_квалификации_профессиональная_переподготовка Профессиональная переподготовка  \n",
       "Сведения_об_ограничении_возможностей_здоровья                                                                                     \n",
       "инвалид                                                                                                                      NaN  \n",
       "лицо с ОВЗ                                                                                                                   1.0  "
      ]
     },
     "execution_count": 1178,
     "metadata": {},
     "output_type": "execute_result"
    }
   ],
   "source": [
    "finish_df2_5\n"
   ]
  },
  {
   "cell_type": "code",
   "execution_count": 1179,
   "metadata": {},
   "outputs": [],
   "source": [
    "finish_df2_5.columns = finish_df2_5.columns.droplevel(0)"
   ]
  },
  {
   "cell_type": "code",
   "execution_count": 1180,
   "metadata": {},
   "outputs": [],
   "source": [
    "# Соединяем\n",
    "finish_df2_5 = pd.concat([df_2_5_all,finish_df2_5])"
   ]
  },
  {
   "cell_type": "code",
   "execution_count": 1181,
   "metadata": {},
   "outputs": [
    {
     "data": {
      "text/html": [
       "<div>\n",
       "<style scoped>\n",
       "    .dataframe tbody tr th:only-of-type {\n",
       "        vertical-align: middle;\n",
       "    }\n",
       "\n",
       "    .dataframe tbody tr th {\n",
       "        vertical-align: top;\n",
       "    }\n",
       "\n",
       "    .dataframe thead th {\n",
       "        text-align: right;\n",
       "    }\n",
       "</style>\n",
       "<table border=\"1\" class=\"dataframe\">\n",
       "  <thead>\n",
       "    <tr style=\"text-align: right;\">\n",
       "      <th>Дополнительная_профессиональная_программа_повышение_квалификации_профессиональная_переподготовка</th>\n",
       "      <th>Повышение квалификации</th>\n",
       "      <th>Профессиональная переподготовка</th>\n",
       "    </tr>\n",
       "  </thead>\n",
       "  <tbody>\n",
       "    <tr>\n",
       "      <th>Всего</th>\n",
       "      <td>2.0</td>\n",
       "      <td>1.0</td>\n",
       "    </tr>\n",
       "    <tr>\n",
       "      <th>инвалид</th>\n",
       "      <td>2.0</td>\n",
       "      <td>NaN</td>\n",
       "    </tr>\n",
       "    <tr>\n",
       "      <th>лицо с ОВЗ</th>\n",
       "      <td>NaN</td>\n",
       "      <td>1.0</td>\n",
       "    </tr>\n",
       "  </tbody>\n",
       "</table>\n",
       "</div>"
      ],
      "text/plain": [
       "Дополнительная_профессиональная_программа_повышение_квалификации_профессиональная_переподготовка  Повышение квалификации  \\\n",
       "Всего                                                                                                                2.0   \n",
       "инвалид                                                                                                              2.0   \n",
       "лицо с ОВЗ                                                                                                           NaN   \n",
       "\n",
       "Дополнительная_профессиональная_программа_повышение_квалификации_профессиональная_переподготовка  Профессиональная переподготовка  \n",
       "Всего                                                                                                                         1.0  \n",
       "инвалид                                                                                                                       NaN  \n",
       "лицо с ОВЗ                                                                                                                    1.0  "
      ]
     },
     "execution_count": 1181,
     "metadata": {},
     "output_type": "execute_result"
    }
   ],
   "source": [
    "finish_df2_5"
   ]
  },
  {
   "cell_type": "code",
   "execution_count": 1182,
   "metadata": {},
   "outputs": [],
   "source": [
    "# заполняем пропуски нулями\n",
    "finish_df2_5.fillna(0,inplace=True)"
   ]
  },
  {
   "cell_type": "code",
   "execution_count": 1183,
   "metadata": {},
   "outputs": [],
   "source": [
    "\n",
    "#создаем колонку всего\n",
    "finish_df2_5['Всего'] = finish_df2_5['Повышение квалификации'] + finish_df2_5['Профессиональная переподготовка']"
   ]
  },
  {
   "cell_type": "code",
   "execution_count": 1184,
   "metadata": {},
   "outputs": [
    {
     "data": {
      "text/plain": [
       "Index(['Всего', 'инвалид', 'лицо с ОВЗ'], dtype='object')"
      ]
     },
     "execution_count": 1184,
     "metadata": {},
     "output_type": "execute_result"
    }
   ],
   "source": [
    "finish_df2_5.index"
   ]
  },
  {
   "cell_type": "code",
   "execution_count": 1185,
   "metadata": {},
   "outputs": [],
   "source": [
    "# Меняем местами колонки\n",
    "finish_df2_5 = finish_df2_5.reindex(columns=['Всего','Повышение квалификации', 'Профессиональная переподготовка'])"
   ]
  },
  {
   "cell_type": "code",
   "execution_count": 1186,
   "metadata": {},
   "outputs": [
    {
     "data": {
      "text/html": [
       "<div>\n",
       "<style scoped>\n",
       "    .dataframe tbody tr th:only-of-type {\n",
       "        vertical-align: middle;\n",
       "    }\n",
       "\n",
       "    .dataframe tbody tr th {\n",
       "        vertical-align: top;\n",
       "    }\n",
       "\n",
       "    .dataframe thead th {\n",
       "        text-align: right;\n",
       "    }\n",
       "</style>\n",
       "<table border=\"1\" class=\"dataframe\">\n",
       "  <thead>\n",
       "    <tr style=\"text-align: right;\">\n",
       "      <th>Дополнительная_профессиональная_программа_повышение_квалификации_профессиональная_переподготовка</th>\n",
       "      <th>Всего</th>\n",
       "      <th>Повышение квалификации</th>\n",
       "      <th>Профессиональная переподготовка</th>\n",
       "    </tr>\n",
       "  </thead>\n",
       "  <tbody>\n",
       "    <tr>\n",
       "      <th>Всего</th>\n",
       "      <td>3.0</td>\n",
       "      <td>2.0</td>\n",
       "      <td>1.0</td>\n",
       "    </tr>\n",
       "    <tr>\n",
       "      <th>инвалид</th>\n",
       "      <td>2.0</td>\n",
       "      <td>2.0</td>\n",
       "      <td>0.0</td>\n",
       "    </tr>\n",
       "    <tr>\n",
       "      <th>лицо с ОВЗ</th>\n",
       "      <td>1.0</td>\n",
       "      <td>0.0</td>\n",
       "      <td>1.0</td>\n",
       "    </tr>\n",
       "  </tbody>\n",
       "</table>\n",
       "</div>"
      ],
      "text/plain": [
       "Дополнительная_профессиональная_программа_повышение_квалификации_профессиональная_переподготовка  Всего  \\\n",
       "Всего                                                                                               3.0   \n",
       "инвалид                                                                                             2.0   \n",
       "лицо с ОВЗ                                                                                          1.0   \n",
       "\n",
       "Дополнительная_профессиональная_программа_повышение_квалификации_профессиональная_переподготовка  Повышение квалификации  \\\n",
       "Всего                                                                                                                2.0   \n",
       "инвалид                                                                                                              2.0   \n",
       "лицо с ОВЗ                                                                                                           0.0   \n",
       "\n",
       "Дополнительная_профессиональная_программа_повышение_квалификации_профессиональная_переподготовка  Профессиональная переподготовка  \n",
       "Всего                                                                                                                         1.0  \n",
       "инвалид                                                                                                                       0.0  \n",
       "лицо с ОВЗ                                                                                                                    1.0  "
      ]
     },
     "execution_count": 1186,
     "metadata": {},
     "output_type": "execute_result"
    }
   ],
   "source": [
    "finish_df2_5"
   ]
  },
  {
   "cell_type": "code",
   "execution_count": 1187,
   "metadata": {},
   "outputs": [],
   "source": [
    "# Считаем колонку с женщинами инвалидами\n",
    "df_2_5_women =df_dpo_2_5[df_dpo_2_5['Пол_получателя']=='Жен'].groupby('Сведения_об_ограничении_возможностей_здоровья').agg({'for_counting':'sum'})"
   ]
  },
  {
   "cell_type": "code",
   "execution_count": 1188,
   "metadata": {},
   "outputs": [],
   "source": [
    "df_2_5_women.columns =['Количество женщин']\n"
   ]
  },
  {
   "cell_type": "code",
   "execution_count": 1189,
   "metadata": {},
   "outputs": [],
   "source": [
    "sum_woman = df_2_5_women['Количество женщин'].sum()"
   ]
  },
  {
   "cell_type": "code",
   "execution_count": 1190,
   "metadata": {},
   "outputs": [],
   "source": [
    "df_2_5_women_all = pd.DataFrame(data=sum_woman,index=['Всего женщин инвалидов'],columns=['Количество женщин'])"
   ]
  },
  {
   "cell_type": "code",
   "execution_count": 1191,
   "metadata": {},
   "outputs": [
    {
     "data": {
      "text/html": [
       "<div>\n",
       "<style scoped>\n",
       "    .dataframe tbody tr th:only-of-type {\n",
       "        vertical-align: middle;\n",
       "    }\n",
       "\n",
       "    .dataframe tbody tr th {\n",
       "        vertical-align: top;\n",
       "    }\n",
       "\n",
       "    .dataframe thead th {\n",
       "        text-align: right;\n",
       "    }\n",
       "</style>\n",
       "<table border=\"1\" class=\"dataframe\">\n",
       "  <thead>\n",
       "    <tr style=\"text-align: right;\">\n",
       "      <th></th>\n",
       "      <th>Количество женщин</th>\n",
       "    </tr>\n",
       "  </thead>\n",
       "  <tbody>\n",
       "    <tr>\n",
       "      <th>Всего женщин инвалидов</th>\n",
       "      <td>2</td>\n",
       "    </tr>\n",
       "  </tbody>\n",
       "</table>\n",
       "</div>"
      ],
      "text/plain": [
       "                        Количество женщин\n",
       "Всего женщин инвалидов                  2"
      ]
     },
     "execution_count": 1191,
     "metadata": {},
     "output_type": "execute_result"
    }
   ],
   "source": [
    "df_2_5_women_all"
   ]
  },
  {
   "cell_type": "code",
   "execution_count": 1192,
   "metadata": {},
   "outputs": [
    {
     "data": {
      "text/html": [
       "<div>\n",
       "<style scoped>\n",
       "    .dataframe tbody tr th:only-of-type {\n",
       "        vertical-align: middle;\n",
       "    }\n",
       "\n",
       "    .dataframe tbody tr th {\n",
       "        vertical-align: top;\n",
       "    }\n",
       "\n",
       "    .dataframe thead th {\n",
       "        text-align: right;\n",
       "    }\n",
       "</style>\n",
       "<table border=\"1\" class=\"dataframe\">\n",
       "  <thead>\n",
       "    <tr style=\"text-align: right;\">\n",
       "      <th></th>\n",
       "      <th>Количество женщин</th>\n",
       "    </tr>\n",
       "    <tr>\n",
       "      <th>Сведения_об_ограничении_возможностей_здоровья</th>\n",
       "      <th></th>\n",
       "    </tr>\n",
       "  </thead>\n",
       "  <tbody>\n",
       "    <tr>\n",
       "      <th>инвалид</th>\n",
       "      <td>1</td>\n",
       "    </tr>\n",
       "    <tr>\n",
       "      <th>лицо с ОВЗ</th>\n",
       "      <td>1</td>\n",
       "    </tr>\n",
       "  </tbody>\n",
       "</table>\n",
       "</div>"
      ],
      "text/plain": [
       "                                               Количество женщин\n",
       "Сведения_об_ограничении_возможностей_здоровья                   \n",
       "инвалид                                                        1\n",
       "лицо с ОВЗ                                                     1"
      ]
     },
     "execution_count": 1192,
     "metadata": {},
     "output_type": "execute_result"
    }
   ],
   "source": [
    "df_2_5_women"
   ]
  },
  {
   "cell_type": "code",
   "execution_count": 1193,
   "metadata": {},
   "outputs": [],
   "source": [
    "# Создаем столбец с женщинами инвалидами\n",
    "df_2_5_women_all = pd.concat([df_2_5_women_all,df_2_5_women])"
   ]
  },
  {
   "cell_type": "code",
   "execution_count": 1194,
   "metadata": {},
   "outputs": [
    {
     "data": {
      "text/plain": [
       "Количество женщин    int64\n",
       "dtype: object"
      ]
     },
     "execution_count": 1194,
     "metadata": {},
     "output_type": "execute_result"
    }
   ],
   "source": [
    "df_2_5_women_all.dtypes"
   ]
  },
  {
   "cell_type": "code",
   "execution_count": 1195,
   "metadata": {},
   "outputs": [],
   "source": [
    "df_2_5_women_all=df_2_5_women_all.astype(float)"
   ]
  },
  {
   "cell_type": "code",
   "execution_count": 1196,
   "metadata": {},
   "outputs": [
    {
     "data": {
      "text/html": [
       "<div>\n",
       "<style scoped>\n",
       "    .dataframe tbody tr th:only-of-type {\n",
       "        vertical-align: middle;\n",
       "    }\n",
       "\n",
       "    .dataframe tbody tr th {\n",
       "        vertical-align: top;\n",
       "    }\n",
       "\n",
       "    .dataframe thead th {\n",
       "        text-align: right;\n",
       "    }\n",
       "</style>\n",
       "<table border=\"1\" class=\"dataframe\">\n",
       "  <thead>\n",
       "    <tr style=\"text-align: right;\">\n",
       "      <th>Дополнительная_профессиональная_программа_повышение_квалификации_профессиональная_переподготовка</th>\n",
       "      <th>Всего</th>\n",
       "      <th>Повышение квалификации</th>\n",
       "      <th>Профессиональная переподготовка</th>\n",
       "    </tr>\n",
       "  </thead>\n",
       "  <tbody>\n",
       "    <tr>\n",
       "      <th>Всего</th>\n",
       "      <td>3.0</td>\n",
       "      <td>2.0</td>\n",
       "      <td>1.0</td>\n",
       "    </tr>\n",
       "    <tr>\n",
       "      <th>инвалид</th>\n",
       "      <td>2.0</td>\n",
       "      <td>2.0</td>\n",
       "      <td>0.0</td>\n",
       "    </tr>\n",
       "    <tr>\n",
       "      <th>лицо с ОВЗ</th>\n",
       "      <td>1.0</td>\n",
       "      <td>0.0</td>\n",
       "      <td>1.0</td>\n",
       "    </tr>\n",
       "  </tbody>\n",
       "</table>\n",
       "</div>"
      ],
      "text/plain": [
       "Дополнительная_профессиональная_программа_повышение_квалификации_профессиональная_переподготовка  Всего  \\\n",
       "Всего                                                                                               3.0   \n",
       "инвалид                                                                                             2.0   \n",
       "лицо с ОВЗ                                                                                          1.0   \n",
       "\n",
       "Дополнительная_профессиональная_программа_повышение_квалификации_профессиональная_переподготовка  Повышение квалификации  \\\n",
       "Всего                                                                                                                2.0   \n",
       "инвалид                                                                                                              2.0   \n",
       "лицо с ОВЗ                                                                                                           0.0   \n",
       "\n",
       "Дополнительная_профессиональная_программа_повышение_квалификации_профессиональная_переподготовка  Профессиональная переподготовка  \n",
       "Всего                                                                                                                         1.0  \n",
       "инвалид                                                                                                                       0.0  \n",
       "лицо с ОВЗ                                                                                                                    1.0  "
      ]
     },
     "execution_count": 1196,
     "metadata": {},
     "output_type": "execute_result"
    }
   ],
   "source": [
    "finish_df2_5"
   ]
  },
  {
   "cell_type": "code",
   "execution_count": 1197,
   "metadata": {},
   "outputs": [],
   "source": [
    "lst_df_2_5_women_all= df_2_5_women_all['Количество женщин'].to_list()"
   ]
  },
  {
   "cell_type": "code",
   "execution_count": 1198,
   "metadata": {},
   "outputs": [
    {
     "data": {
      "text/plain": [
       "[2.0, 1.0, 1.0]"
      ]
     },
     "execution_count": 1198,
     "metadata": {},
     "output_type": "execute_result"
    }
   ],
   "source": [
    "lst_df_2_5_women_all"
   ]
  },
  {
   "cell_type": "code",
   "execution_count": 1199,
   "metadata": {},
   "outputs": [],
   "source": [
    "# Добавляем столбец с женщинами\n",
    "\n",
    "finish_df2_5['Женщины инвалиды'] = lst_df_2_5_women_all"
   ]
  },
  {
   "cell_type": "code",
   "execution_count": 1200,
   "metadata": {},
   "outputs": [
    {
     "data": {
      "text/html": [
       "<div>\n",
       "<style scoped>\n",
       "    .dataframe tbody tr th:only-of-type {\n",
       "        vertical-align: middle;\n",
       "    }\n",
       "\n",
       "    .dataframe tbody tr th {\n",
       "        vertical-align: top;\n",
       "    }\n",
       "\n",
       "    .dataframe thead th {\n",
       "        text-align: right;\n",
       "    }\n",
       "</style>\n",
       "<table border=\"1\" class=\"dataframe\">\n",
       "  <thead>\n",
       "    <tr style=\"text-align: right;\">\n",
       "      <th>Дополнительная_профессиональная_программа_повышение_квалификации_профессиональная_переподготовка</th>\n",
       "      <th>Всего</th>\n",
       "      <th>Повышение квалификации</th>\n",
       "      <th>Профессиональная переподготовка</th>\n",
       "      <th>Женщины инвалиды</th>\n",
       "    </tr>\n",
       "  </thead>\n",
       "  <tbody>\n",
       "    <tr>\n",
       "      <th>Всего</th>\n",
       "      <td>3.0</td>\n",
       "      <td>2.0</td>\n",
       "      <td>1.0</td>\n",
       "      <td>2.0</td>\n",
       "    </tr>\n",
       "    <tr>\n",
       "      <th>инвалид</th>\n",
       "      <td>2.0</td>\n",
       "      <td>2.0</td>\n",
       "      <td>0.0</td>\n",
       "      <td>1.0</td>\n",
       "    </tr>\n",
       "    <tr>\n",
       "      <th>лицо с ОВЗ</th>\n",
       "      <td>1.0</td>\n",
       "      <td>0.0</td>\n",
       "      <td>1.0</td>\n",
       "      <td>1.0</td>\n",
       "    </tr>\n",
       "  </tbody>\n",
       "</table>\n",
       "</div>"
      ],
      "text/plain": [
       "Дополнительная_профессиональная_программа_повышение_квалификации_профессиональная_переподготовка  Всего  \\\n",
       "Всего                                                                                               3.0   \n",
       "инвалид                                                                                             2.0   \n",
       "лицо с ОВЗ                                                                                          1.0   \n",
       "\n",
       "Дополнительная_профессиональная_программа_повышение_квалификации_профессиональная_переподготовка  Повышение квалификации  \\\n",
       "Всего                                                                                                                2.0   \n",
       "инвалид                                                                                                              2.0   \n",
       "лицо с ОВЗ                                                                                                           0.0   \n",
       "\n",
       "Дополнительная_профессиональная_программа_повышение_квалификации_профессиональная_переподготовка  Профессиональная переподготовка  \\\n",
       "Всего                                                                                                                         1.0   \n",
       "инвалид                                                                                                                       0.0   \n",
       "лицо с ОВЗ                                                                                                                    1.0   \n",
       "\n",
       "Дополнительная_профессиональная_программа_повышение_квалификации_профессиональная_переподготовка  Женщины инвалиды  \n",
       "Всего                                                                                                          2.0  \n",
       "инвалид                                                                                                        1.0  \n",
       "лицо с ОВЗ                                                                                                     1.0  "
      ]
     },
     "execution_count": 1200,
     "metadata": {},
     "output_type": "execute_result"
    }
   ],
   "source": [
    "finish_df2_5"
   ]
  },
  {
   "cell_type": "code",
   "execution_count": 1201,
   "metadata": {},
   "outputs": [],
   "source": [
    "finish_df2_5 = finish_df2_5.replace(0.0,np.NaN)"
   ]
  },
  {
   "cell_type": "code",
   "execution_count": 1202,
   "metadata": {},
   "outputs": [
    {
     "data": {
      "text/html": [
       "<div>\n",
       "<style scoped>\n",
       "    .dataframe tbody tr th:only-of-type {\n",
       "        vertical-align: middle;\n",
       "    }\n",
       "\n",
       "    .dataframe tbody tr th {\n",
       "        vertical-align: top;\n",
       "    }\n",
       "\n",
       "    .dataframe thead th {\n",
       "        text-align: right;\n",
       "    }\n",
       "</style>\n",
       "<table border=\"1\" class=\"dataframe\">\n",
       "  <thead>\n",
       "    <tr style=\"text-align: right;\">\n",
       "      <th>Дополнительная_профессиональная_программа_повышение_квалификации_профессиональная_переподготовка</th>\n",
       "      <th>Всего</th>\n",
       "      <th>Повышение квалификации</th>\n",
       "      <th>Профессиональная переподготовка</th>\n",
       "      <th>Женщины инвалиды</th>\n",
       "    </tr>\n",
       "  </thead>\n",
       "  <tbody>\n",
       "    <tr>\n",
       "      <th>Всего</th>\n",
       "      <td>3.0</td>\n",
       "      <td>2.0</td>\n",
       "      <td>1.0</td>\n",
       "      <td>2.0</td>\n",
       "    </tr>\n",
       "    <tr>\n",
       "      <th>инвалид</th>\n",
       "      <td>2.0</td>\n",
       "      <td>2.0</td>\n",
       "      <td>NaN</td>\n",
       "      <td>1.0</td>\n",
       "    </tr>\n",
       "    <tr>\n",
       "      <th>лицо с ОВЗ</th>\n",
       "      <td>1.0</td>\n",
       "      <td>NaN</td>\n",
       "      <td>1.0</td>\n",
       "      <td>1.0</td>\n",
       "    </tr>\n",
       "  </tbody>\n",
       "</table>\n",
       "</div>"
      ],
      "text/plain": [
       "Дополнительная_профессиональная_программа_повышение_квалификации_профессиональная_переподготовка  Всего  \\\n",
       "Всего                                                                                               3.0   \n",
       "инвалид                                                                                             2.0   \n",
       "лицо с ОВЗ                                                                                          1.0   \n",
       "\n",
       "Дополнительная_профессиональная_программа_повышение_квалификации_профессиональная_переподготовка  Повышение квалификации  \\\n",
       "Всего                                                                                                                2.0   \n",
       "инвалид                                                                                                              2.0   \n",
       "лицо с ОВЗ                                                                                                           NaN   \n",
       "\n",
       "Дополнительная_профессиональная_программа_повышение_квалификации_профессиональная_переподготовка  Профессиональная переподготовка  \\\n",
       "Всего                                                                                                                         1.0   \n",
       "инвалид                                                                                                                       NaN   \n",
       "лицо с ОВЗ                                                                                                                    1.0   \n",
       "\n",
       "Дополнительная_профессиональная_программа_повышение_квалификации_профессиональная_переподготовка  Женщины инвалиды  \n",
       "Всего                                                                                                          2.0  \n",
       "инвалид                                                                                                        1.0  \n",
       "лицо с ОВЗ                                                                                                     1.0  "
      ]
     },
     "execution_count": 1202,
     "metadata": {},
     "output_type": "execute_result"
    }
   ],
   "source": [
    "finish_df2_5"
   ]
  },
  {
   "cell_type": "code",
   "execution_count": 1203,
   "metadata": {},
   "outputs": [],
   "source": [
    "finish_df2_5.to_excel('2.5.xlsx')"
   ]
  },
  {
   "cell_type": "code",
   "execution_count": 1204,
   "metadata": {},
   "outputs": [],
   "source": [
    "#Сохраняем в лист Раздел 2.5\n",
    "for r in dataframe_to_rows(finish_df2_5, index=True, header=True):\n",
    "    if len(r) != 1:\n",
    "        wb['Раздел 2.5'].append(r)"
   ]
  },
  {
   "cell_type": "code",
   "execution_count": null,
   "metadata": {},
   "outputs": [],
   "source": []
  },
  {
   "cell_type": "code",
   "execution_count": 1205,
   "metadata": {},
   "outputs": [],
   "source": [
    "wb.save('Часть отчета 1-ПК.xlsx')"
   ]
  },
  {
   "cell_type": "code",
   "execution_count": null,
   "metadata": {},
   "outputs": [],
   "source": []
  }
 ],
 "metadata": {
  "kernelspec": {
   "display_name": "Python 3 (ipykernel)",
   "language": "python",
   "name": "python3"
  },
  "language_info": {
   "codemirror_mode": {
    "name": "ipython",
    "version": 3
   },
   "file_extension": ".py",
   "mimetype": "text/x-python",
   "name": "python",
   "nbconvert_exporter": "python",
   "pygments_lexer": "ipython3",
   "version": "3.9.7"
  },
  "varInspector": {
   "cols": {
    "lenName": 16,
    "lenType": 16,
    "lenVar": 40
   },
   "kernels_config": {
    "python": {
     "delete_cmd_postfix": "",
     "delete_cmd_prefix": "del ",
     "library": "var_list.py",
     "varRefreshCmd": "print(var_dic_list())"
    },
    "r": {
     "delete_cmd_postfix": ") ",
     "delete_cmd_prefix": "rm(",
     "library": "var_list.r",
     "varRefreshCmd": "cat(var_dic_list()) "
    }
   },
   "types_to_exclude": [
    "module",
    "function",
    "builtin_function_or_method",
    "instance",
    "_Feature"
   ],
   "window_display": false
  }
 },
 "nbformat": 4,
 "nbformat_minor": 4
}
