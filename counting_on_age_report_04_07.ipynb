{
 "cells": [
  {
   "cell_type": "code",
   "execution_count": 60,
   "id": "8d5946b9",
   "metadata": {},
   "outputs": [],
   "source": [
    "import pandas as pd\n",
    "import datetime\n"
   ]
  },
  {
   "cell_type": "code",
   "execution_count": 61,
   "id": "4825748f",
   "metadata": {},
   "outputs": [],
   "source": [
    "def calculate_age(born):\n",
    "    try:\n",
    "\n",
    "        today = datetime.datetime.today()\n",
    "#         selected_date = pd.to_datetime(raw_selected_date,dayfirst=True)\n",
    "        # return today.year - born.year - ((today.month, today.day) < (born.month, born.day))\n",
    "        return today.year - born.year - ((today.month, today.day) < (born.month, born.day))\n",
    "    except:\n",
    "        print(born)"
   ]
  },
  {
   "cell_type": "code",
   "execution_count": 62,
   "id": "6c79d002",
   "metadata": {},
   "outputs": [],
   "source": [
    "# Считываем общую таблицу\n",
    "dpo_temp = pd.read_excel('Общая таблица слушателей ЦОПП от 29_06_22.xlsx',sheet_name='ДПО',usecols=['ФИО_именительный','Дата_рождения_получателя'])\n",
    "po_temp = pd.read_excel('Общая таблица слушателей ЦОПП от 29_06_22.xlsx',sheet_name='ПО',usecols=['ФИО_именительный','Дата_рождения_получателя'])"
   ]
  },
  {
   "cell_type": "code",
   "execution_count": 63,
   "id": "a9b16ed3",
   "metadata": {},
   "outputs": [],
   "source": [
    "all_df = pd.concat([dpo_temp,po_temp],axis=0,ignore_index=True)"
   ]
  },
  {
   "cell_type": "code",
   "execution_count": 64,
   "id": "e1774b9b",
   "metadata": {},
   "outputs": [],
   "source": [
    "# Конвертируем в дату\n",
    "all_df['Дата_рождения_получателя'] = pd.to_datetime(all_df['Дата_рождения_получателя'],dayfirst=True,errors='coerce')"
   ]
  },
  {
   "cell_type": "code",
   "execution_count": 65,
   "id": "d42451c7",
   "metadata": {},
   "outputs": [],
   "source": [
    "all_df['Текущий_возраст'] = all_df['Дата_рождения_получателя'].apply(calculate_age)"
   ]
  },
  {
   "cell_type": "code",
   "execution_count": 66,
   "id": "2941c835",
   "metadata": {},
   "outputs": [],
   "source": [
    "all_df['Возрастная_категория'] = pd.cut(all_df['Текущий_возраст'],[0,15,21,35,55,75,120],labels=['до 16 лет','16-21','22-35','36-55','56-75','старше 75 лет'])"
   ]
  },
  {
   "cell_type": "code",
   "execution_count": 67,
   "id": "0c87bd41",
   "metadata": {},
   "outputs": [],
   "source": [
    "all_df.to_excel('Список для проверки.xlsx',index=False)"
   ]
  },
  {
   "cell_type": "code",
   "execution_count": 68,
   "id": "3258ce5d",
   "metadata": {},
   "outputs": [],
   "source": [
    "out_group_df = all_df.groupby(['Возрастная_категория']).agg({'ФИО_именительный':'count'}).rename(columns={'ФИО_именительный':'Количество обучившихся'}) "
   ]
  },
  {
   "cell_type": "code",
   "execution_count": 69,
   "id": "5c659109",
   "metadata": {},
   "outputs": [
    {
     "data": {
      "text/html": [
       "<div>\n",
       "<style scoped>\n",
       "    .dataframe tbody tr th:only-of-type {\n",
       "        vertical-align: middle;\n",
       "    }\n",
       "\n",
       "    .dataframe tbody tr th {\n",
       "        vertical-align: top;\n",
       "    }\n",
       "\n",
       "    .dataframe thead th {\n",
       "        text-align: right;\n",
       "    }\n",
       "</style>\n",
       "<table border=\"1\" class=\"dataframe\">\n",
       "  <thead>\n",
       "    <tr style=\"text-align: right;\">\n",
       "      <th></th>\n",
       "      <th>Количество обучившихся</th>\n",
       "    </tr>\n",
       "    <tr>\n",
       "      <th>Возрастная_категория</th>\n",
       "      <th></th>\n",
       "    </tr>\n",
       "  </thead>\n",
       "  <tbody>\n",
       "    <tr>\n",
       "      <th>до 16 лет</th>\n",
       "      <td>24</td>\n",
       "    </tr>\n",
       "    <tr>\n",
       "      <th>16-21</th>\n",
       "      <td>1</td>\n",
       "    </tr>\n",
       "    <tr>\n",
       "      <th>22-35</th>\n",
       "      <td>5</td>\n",
       "    </tr>\n",
       "    <tr>\n",
       "      <th>36-55</th>\n",
       "      <td>18</td>\n",
       "    </tr>\n",
       "    <tr>\n",
       "      <th>56-75</th>\n",
       "      <td>5</td>\n",
       "    </tr>\n",
       "    <tr>\n",
       "      <th>старше 75 лет</th>\n",
       "      <td>0</td>\n",
       "    </tr>\n",
       "  </tbody>\n",
       "</table>\n",
       "</div>"
      ],
      "text/plain": [
       "                      Количество обучившихся\n",
       "Возрастная_категория                        \n",
       "до 16 лет                                 24\n",
       "16-21                                      1\n",
       "22-35                                      5\n",
       "36-55                                     18\n",
       "56-75                                      5\n",
       "старше 75 лет                              0"
      ]
     },
     "execution_count": 69,
     "metadata": {},
     "output_type": "execute_result"
    }
   ],
   "source": [
    "out_group_df"
   ]
  },
  {
   "cell_type": "code",
   "execution_count": 70,
   "id": "15616c6e",
   "metadata": {},
   "outputs": [],
   "source": [
    "sum_group_df = out_group_df.sum(axis=0).to_frame().T\n",
    "sum_group_df.index = ['Всего']"
   ]
  },
  {
   "cell_type": "code",
   "execution_count": 71,
   "id": "100ae205",
   "metadata": {},
   "outputs": [],
   "source": [
    "out_df = pd.concat([out_group_df,sum_group_df])"
   ]
  },
  {
   "cell_type": "code",
   "execution_count": 72,
   "id": "6054f033",
   "metadata": {},
   "outputs": [],
   "source": [
    "out_df.to_excel('Подсчет по возрастным категориям.xlsx')"
   ]
  },
  {
   "cell_type": "code",
   "execution_count": null,
   "id": "1875239d",
   "metadata": {},
   "outputs": [],
   "source": []
  }
 ],
 "metadata": {
  "kernelspec": {
   "display_name": "Python 3 (ipykernel)",
   "language": "python",
   "name": "python3"
  },
  "language_info": {
   "codemirror_mode": {
    "name": "ipython",
    "version": 3
   },
   "file_extension": ".py",
   "mimetype": "text/x-python",
   "name": "python",
   "nbconvert_exporter": "python",
   "pygments_lexer": "ipython3",
   "version": "3.9.7"
  }
 },
 "nbformat": 4,
 "nbformat_minor": 5
}
